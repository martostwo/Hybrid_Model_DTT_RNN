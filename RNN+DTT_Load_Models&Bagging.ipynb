{
  "cells": [
    {
      "cell_type": "markdown",
      "metadata": {
        "id": "view-in-github",
        "colab_type": "text"
      },
      "source": [
        "<a href=\"https://colab.research.google.com/github/martostwo/Hybrid_Model_DTT_RNN/blob/main/RNN%2BDTT_Load_Models%26Bagging.ipynb\" target=\"_parent\"><img src=\"https://colab.research.google.com/assets/colab-badge.svg\" alt=\"Open In Colab\"/></a>"
      ]
    },
    {
      "cell_type": "markdown",
      "metadata": {
        "id": "Hovew1YwhX8j"
      },
      "source": [
        "#Load Models & Bagging Method"
      ]
    },
    {
      "cell_type": "markdown",
      "metadata": {
        "id": "7WAw5uZb7dae"
      },
      "source": [
        "#Import & Dark Mode"
      ]
    },
    {
      "cell_type": "markdown",
      "metadata": {
        "id": "XWXtoca_QWdw"
      },
      "source": [
        "Modules Installation"
      ]
    },
    {
      "cell_type": "code",
      "execution_count": null,
      "metadata": {
        "colab": {
          "base_uri": "https://localhost:8080/"
        },
        "id": "4XrkYw2uQfGg",
        "outputId": "17f4e73f-eea2-4f25-cb3e-d4168e2733ea"
      },
      "outputs": [
        {
          "output_type": "stream",
          "name": "stdout",
          "text": [
            "Looking in indexes: https://pypi.org/simple, https://us-python.pkg.dev/colab-wheels/public/simple/\n",
            "Requirement already satisfied: yfinance in /usr/local/lib/python3.9/dist-packages (0.2.14)\n",
            "Requirement already satisfied: beautifulsoup4>=4.11.1 in /usr/local/lib/python3.9/dist-packages (from yfinance) (4.11.2)\n",
            "Requirement already satisfied: appdirs>=1.4.4 in /usr/local/lib/python3.9/dist-packages (from yfinance) (1.4.4)\n",
            "Requirement already satisfied: lxml>=4.9.1 in /usr/local/lib/python3.9/dist-packages (from yfinance) (4.9.2)\n",
            "Requirement already satisfied: pytz>=2022.5 in /usr/local/lib/python3.9/dist-packages (from yfinance) (2022.7.1)\n",
            "Requirement already satisfied: numpy>=1.16.5 in /usr/local/lib/python3.9/dist-packages (from yfinance) (1.22.4)\n",
            "Requirement already satisfied: frozendict>=2.3.4 in /usr/local/lib/python3.9/dist-packages (from yfinance) (2.3.6)\n",
            "Requirement already satisfied: html5lib>=1.1 in /usr/local/lib/python3.9/dist-packages (from yfinance) (1.1)\n",
            "Requirement already satisfied: pandas>=1.3.0 in /usr/local/lib/python3.9/dist-packages (from yfinance) (1.4.4)\n",
            "Requirement already satisfied: cryptography>=3.3.2 in /usr/local/lib/python3.9/dist-packages (from yfinance) (40.0.1)\n",
            "Requirement already satisfied: requests>=2.26 in /usr/local/lib/python3.9/dist-packages (from yfinance) (2.27.1)\n",
            "Requirement already satisfied: multitasking>=0.0.7 in /usr/local/lib/python3.9/dist-packages (from yfinance) (0.0.11)\n",
            "Requirement already satisfied: soupsieve>1.2 in /usr/local/lib/python3.9/dist-packages (from beautifulsoup4>=4.11.1->yfinance) (2.4)\n",
            "Requirement already satisfied: cffi>=1.12 in /usr/local/lib/python3.9/dist-packages (from cryptography>=3.3.2->yfinance) (1.15.1)\n",
            "Requirement already satisfied: webencodings in /usr/local/lib/python3.9/dist-packages (from html5lib>=1.1->yfinance) (0.5.1)\n",
            "Requirement already satisfied: six>=1.9 in /usr/local/lib/python3.9/dist-packages (from html5lib>=1.1->yfinance) (1.16.0)\n",
            "Requirement already satisfied: python-dateutil>=2.8.1 in /usr/local/lib/python3.9/dist-packages (from pandas>=1.3.0->yfinance) (2.8.2)\n",
            "Requirement already satisfied: certifi>=2017.4.17 in /usr/local/lib/python3.9/dist-packages (from requests>=2.26->yfinance) (2022.12.7)\n",
            "Requirement already satisfied: urllib3<1.27,>=1.21.1 in /usr/local/lib/python3.9/dist-packages (from requests>=2.26->yfinance) (1.26.15)\n",
            "Requirement already satisfied: idna<4,>=2.5 in /usr/local/lib/python3.9/dist-packages (from requests>=2.26->yfinance) (3.4)\n",
            "Requirement already satisfied: charset-normalizer~=2.0.0 in /usr/local/lib/python3.9/dist-packages (from requests>=2.26->yfinance) (2.0.12)\n",
            "Requirement already satisfied: pycparser in /usr/local/lib/python3.9/dist-packages (from cffi>=1.12->cryptography>=3.3.2->yfinance) (2.21)\n",
            "Looking in indexes: https://pypi.org/simple, https://us-python.pkg.dev/colab-wheels/public/simple/\n",
            "Collecting ta\n",
            "  Downloading ta-0.10.2.tar.gz (25 kB)\n",
            "  Preparing metadata (setup.py) ... \u001b[?25l\u001b[?25hdone\n",
            "Requirement already satisfied: numpy in /usr/local/lib/python3.9/dist-packages (from ta) (1.22.4)\n",
            "Requirement already satisfied: pandas in /usr/local/lib/python3.9/dist-packages (from ta) (1.4.4)\n",
            "Requirement already satisfied: python-dateutil>=2.8.1 in /usr/local/lib/python3.9/dist-packages (from pandas->ta) (2.8.2)\n",
            "Requirement already satisfied: pytz>=2020.1 in /usr/local/lib/python3.9/dist-packages (from pandas->ta) (2022.7.1)\n",
            "Requirement already satisfied: six>=1.5 in /usr/local/lib/python3.9/dist-packages (from python-dateutil>=2.8.1->pandas->ta) (1.16.0)\n",
            "Building wheels for collected packages: ta\n",
            "  Building wheel for ta (setup.py) ... \u001b[?25l\u001b[?25hdone\n",
            "  Created wheel for ta: filename=ta-0.10.2-py3-none-any.whl size=29103 sha256=5ec1481c0a5af276ed449c075de5f3fb670148c0a7a6a568e68de5928b282e8a\n",
            "  Stored in directory: /root/.cache/pip/wheels/6a/76/03/7f785aaa50b9c6ec7e3fd105a62c1b2c45a034512d51e024a9\n",
            "Successfully built ta\n",
            "Installing collected packages: ta\n",
            "Successfully installed ta-0.10.2\n"
          ]
        }
      ],
      "source": [
        "!pip install yfinance\n",
        "!pip install ta"
      ]
    },
    {
      "cell_type": "markdown",
      "metadata": {
        "id": "Jm9fn3QiQhp4"
      },
      "source": [
        "Module import & Dark Mode"
      ]
    },
    {
      "cell_type": "code",
      "execution_count": null,
      "metadata": {
        "colab": {
          "base_uri": "https://localhost:8080/"
        },
        "id": "IhTKSGJXQvSo",
        "outputId": "4d9e4964-3b12-448a-fbe2-f2599bc7bef0"
      },
      "outputs": [
        {
          "output_type": "stream",
          "name": "stderr",
          "text": [
            "<ipython-input-2-e0d92d8f87f3>:9: MatplotlibDeprecationWarning: The seaborn styles shipped by Matplotlib are deprecated since 3.6, as they no longer correspond to the styles shipped by seaborn. However, they will remain available as 'seaborn-v0_8-<style>'. Alternatively, directly use the seaborn API instead.\n",
            "  plt.style.use('seaborn');\n"
          ]
        }
      ],
      "source": [
        "#Module Import:\n",
        "import pandas as pd;\n",
        "import numpy as np;\n",
        "import warnings;\n",
        "import yfinance as yf;\n",
        "import ta;\n",
        "import matplotlib.pyplot as plt;\n",
        "from matplotlib import cycler;\n",
        "plt.style.use('seaborn');\n",
        "warnings.filterwarnings(\"ignore\");\n",
        "\n",
        "#Dark mode for Graphics:\n",
        "colors = cycler(\n",
        "    'color',\n",
        "    [\n",
        "    '#669FEE','#66EE91', '#9988DD',\n",
        "    '#EECC55', '#88BB44', '#FFBBBB'\n",
        "    ]\n",
        ");\n",
        "\n",
        "plt.rc('figure', facecolor = '#313233');\n",
        "plt.rc('axes', facecolor = \"#313233\", edgecolor='none',\n",
        "       axisbelow=True, grid=True, prop_cycle=colors,\n",
        "       labelcolor = 'gray');\n",
        "\n",
        "plt.rc('grid', color='474A4A', linestyle='solid');\n",
        "plt.rc('xtick', color='gray');\n",
        "plt.rc('ytick', direction='out', color='gray');\n",
        "plt.rc('legend', facecolor=\"#313233\", edgecolor=\"#313233\");\n",
        "plt.rc(\"text\", color=\"#C9C9C9\");\n",
        "plt.rc('figure', facecolor='#313233');"
      ]
    },
    {
      "cell_type": "markdown",
      "metadata": {
        "id": "M-kwC-qPnkdx"
      },
      "source": [
        "#Preprocessing & Features\n"
      ]
    },
    {
      "cell_type": "markdown",
      "metadata": {
        "id": "jOSI5BCLnkdy"
      },
      "source": [
        "Preprocessing & Feature Engineering Functions (Yahoo Finance)"
      ]
    },
    {
      "cell_type": "code",
      "execution_count": null,
      "metadata": {
        "id": "PEZqO3j-nkdz"
      },
      "outputs": [],
      "source": [
        "def yf_preprocessing(ticker):\n",
        "  df = yf.download(ticker, start=\"1990-01-01\")\n",
        "  df.columns = [\"open\", \"high\", \"low\", \"close\", \"adj close\", \"volume\"]\n",
        "  df.index.name = \"date\"\n",
        "  return df\n",
        "\n",
        "def yf_feature(df):\n",
        "\n",
        "    #Copiamos el DataFrame para evitar interferencias en los datos:\n",
        "    df_copy = df.copy()\n",
        "\n",
        "    #creamos el retorno:\n",
        "    df_copy[\"returns\"] = df_copy[\"close\"].pct_change(1)\n",
        "\n",
        "    #Para el cálculo del SL\n",
        "    df_copy[\"low_returns\"] = (df_copy[\"low\"] - df_copy[\"open\"])/df_copy[\"open\"]\n",
        "\n",
        "    #price\n",
        "    df_copy[\"op\"] = df_copy[\"open\"].shift(1)\n",
        "    df_copy[\"hi\"] = df_copy[\"high\"].shift(1)\n",
        "    df_copy[\"lo\"] = df_copy[\"low\"].shift(1)\n",
        "    df_copy[\"clo\"] = df_copy[\"close\"].shift(1)\n",
        "\n",
        "    #Volume\n",
        "    df_copy[\"vol\"] = df_copy[\"volume\"].shift(1)\n",
        "    df_copy[\"vol 15\"] = df_copy[\"volume\"].rolling(15).mean().shift(1)\n",
        "    df_copy[\"vol 60\"] = df_copy[\"volume\"].rolling(60).mean().shift(1)\n",
        "\n",
        "    #Creamos las SMAs:\n",
        "    df_copy[\"SMA 15\"] = df_copy[[\"close\"]].rolling(15).mean().shift(1)\n",
        "    df_copy[\"SMA 60\"] = df_copy[[\"close\"]].rolling(60).mean().shift(1)\n",
        "\n",
        "    #Creamos la volatilidad:\n",
        "    df_copy[\"MSD 15\"] = df_copy[\"returns\"].rolling(15).std().shift(1)\n",
        "    df_copy[\"MSD 60\"] = df_copy[\"returns\"].rolling(60).std().shift(1)\n",
        "\n",
        "    #creamos VWAP:\n",
        "    vwap = ta.volume.VolumeWeightedAveragePrice(\n",
        "        high=df['high'],\n",
        "        low=df['low'],\n",
        "        close=df['close'],\n",
        "        volume=df['volume'],\n",
        "        window=5  # periodo de tiempo para el cálculo del VWAP\n",
        "    )\n",
        "    df_copy[\"vwap\"] = vwap.vwap.shift(1)\n",
        "\n",
        "    #Creamos el RSI:\n",
        "    RSI = ta.momentum.RSIIndicator(df_copy[\"close\"], window = 5, fillna = False)\n",
        "    df_copy[\"rsi\"] = RSI.rsi().shift(1)\n",
        "\n",
        "    return df_copy.dropna();"
      ]
    },
    {
      "cell_type": "markdown",
      "metadata": {
        "id": "LTVWhVvpqrDN"
      },
      "source": [
        "Transform 2D array to 3D"
      ]
    },
    {
      "cell_type": "code",
      "execution_count": null,
      "metadata": {
        "id": "OY9i6MbBqmUf"
      },
      "outputs": [],
      "source": [
        "def X_3d_RNN(X_s, y_s, lag):\n",
        "\n",
        "    # Verificación simple de longitudes\n",
        "    if len(X_s) != len(y_s):\n",
        "        print(\"Warnings\")\n",
        "\n",
        "    # Creamos la variable X_train\n",
        "    X_train = []\n",
        "    for variable in range(0, X_s.shape[1]):\n",
        "        X = []\n",
        "        for i in range(lag, X_s.shape[0]):\n",
        "            X.append(X_s[i-lag:i, variable])\n",
        "        X_train.append(X)\n",
        "    X_train, np.array(X_train)\n",
        "    X_train = np.swapaxes(np.swapaxes(X_train, 0, 1), 1, 2)\n",
        "\n",
        "    # Creamos la variable y_train\n",
        "    y_train = []\n",
        "    for i in range(lag, y_s.shape[0]):\n",
        "        y_train.append(y_s[i, :].reshape(-1,1).transpose())\n",
        "    y_train = np.concatenate(y_train, axis=0)\n",
        "    return X_train, y_train"
      ]
    },
    {
      "cell_type": "markdown",
      "metadata": {
        "id": "dJplr8xx7vIm"
      },
      "source": [
        "#Load & Run Models RNN\n",
        "\n"
      ]
    },
    {
      "cell_type": "markdown",
      "metadata": {
        "id": "UtZZQtEusUVL"
      },
      "source": [
        "Load & Run Models (Yahoo Finance)"
      ]
    },
    {
      "cell_type": "code",
      "execution_count": null,
      "metadata": {
        "id": "Iju2FM-TsRUK"
      },
      "outputs": [],
      "source": [
        "def run_models_RNN(ticker ,models_path):\n",
        "\n",
        "  #Feature engineering\n",
        "  global df;\n",
        "  df = yf_preprocessing(ticker);\n",
        "  df = yf_feature(df);\n",
        "\n",
        "  #Percentage train set\n",
        "  global split, split_val;\n",
        "  split = int(0.85*len(df));\n",
        "  split_val = int(0.95*len(df));\n",
        "\n",
        "  #Train set\n",
        "  x_train = df[['vwap','rsi','SMA 15','SMA 60','MSD 15','MSD 60','op','hi','lo','clo','vol']].iloc[:split,:]\n",
        "  y_train = df[['returns']].iloc[:split,:]\n",
        "\n",
        "  #Validation set\n",
        "  x_val = df[['vwap','rsi','SMA 15','SMA 60','MSD 15','MSD 60','op','hi','lo','clo','vol']].iloc[split:split_val,:]\n",
        "  y_val = df[['returns']].iloc[split:split_val,:]\n",
        "\n",
        "  #Test set\n",
        "  x_test = df[['vwap','rsi','SMA 15','SMA 60','MSD 15','MSD 60','op','hi','lo','clo','vol']].iloc[split_val:,:]\n",
        "  y_test = df[['returns']].iloc[split_val:,:]\n",
        "\n",
        "\n",
        "  #Standardization\n",
        "  from sklearn.preprocessing import StandardScaler\n",
        "  sc = StandardScaler()\n",
        "\n",
        "  #Estandarizamos conjunto de entrenamiento\n",
        "  x_train_sc = sc.fit_transform(x_train)\n",
        "\n",
        "  #Estandarizamos conjunto de testing\n",
        "  x_val_sc = sc.transform(x_val)\n",
        "\n",
        "  #Estandarizamos conjunto de testing\n",
        "  x_test_sc = sc.transform(x_test)\n",
        "\n",
        "  lag = 15\n",
        "  x_train_3d, y_train_3d = X_3d_RNN(x_train_sc, y_train.values, lag)\n",
        "  x_val_3d, y_val_3d = X_3d_RNN(x_val_sc, y_val.values, lag)\n",
        "  x_test_3d, y_test_3d = X_3d_RNN(x_test_sc, y_test.values, lag)\n",
        "\n",
        "  #Create empty dataFrame:\n",
        "  prediction = pd.DataFrame( index = df.index )\n",
        "  strategy = pd.DataFrame( index = df.index )\n",
        "  \n",
        "  #Cargamos modelos y realizamos predicciones:\n",
        "  from keras.models import load_model\n",
        "  from tqdm import tqdm\n",
        "\n",
        "  for n in tqdm(range(100)):\n",
        "    \n",
        "    model_name = f\"RNN_{n}\"\n",
        "    RNN = load_model(models_path + f\"{model_name}.h5\")\n",
        "\n",
        "    y_pred_train = np.concatenate((np.zeros([lag,1]), RNN.predict(x_train_3d)), axis=0)\n",
        "\n",
        "    y_pred_val = np.concatenate((np.zeros([lag,1]), RNN.predict(x_val_3d)), axis=0)\n",
        "\n",
        "    y_pred_test = np.concatenate((np.zeros([lag,1]), RNN.predict(x_test_3d)), axis=0)\n",
        "\n",
        "    pre = np.concatenate((y_pred_train, y_pred_val, y_pred_test), axis=0)\n",
        "\n",
        "    prediction[model_name] = pre;\n",
        "    strategy[model_name] = df[\"returns\"] * np.sign(prediction[model_name].shift(1));\n",
        "  \n",
        "  return prediction, strategy;"
      ]
    },
    {
      "cell_type": "markdown",
      "metadata": {
        "id": "BsvT4h43FidM"
      },
      "source": [
        "#Load & Run Models DNN"
      ]
    },
    {
      "cell_type": "markdown",
      "metadata": {
        "id": "sV0V65CQFidN"
      },
      "source": [
        "Load & Run Models (Yahoo Finance)"
      ]
    },
    {
      "cell_type": "code",
      "execution_count": null,
      "metadata": {
        "id": "zcvvyf_eFidO"
      },
      "outputs": [],
      "source": [
        "def run_models_DNN(ticker ,models_path):\n",
        "\n",
        "  from keras.models import load_model;\n",
        "  from sklearn.preprocessing import StandardScaler;\n",
        "\n",
        "  #Train set\n",
        "  x_train = df[['SMA 15','SMA 60','MSD 15','MSD 60','hi','lo','clo','vol']].iloc[:split,:];\n",
        "\n",
        "  #Validation set\n",
        "  x_val = df[['SMA 15','SMA 60','MSD 15','MSD 60','hi','lo','clo','vol']].iloc[split:split_val,:];\n",
        "  y_val = df[['returns']].iloc[split:split_val,:];\n",
        "\n",
        "  #Test set\n",
        "  x_test = df[['SMA 15','SMA 60','MSD 15','MSD 60','hi','lo','clo','vol']].iloc[split_val:,:];\n",
        "  y_test = df[['returns']].iloc[split_val:,:];\n",
        "\n",
        "  #Standardization\n",
        "  sc = StandardScaler();\n",
        "  \n",
        "  #Estandarizamos conjunto de entrenamiento:\n",
        "  x_train_sc = sc.fit_transform(x_train);\n",
        "\n",
        "  #Estandarizamos conjunto de validación:\n",
        "  x_val_sc = sc.transform(x_val);\n",
        "\n",
        "  #Estandarizamos conjunto de testing:\n",
        "  x_test_sc = sc.transform(x_test);\n",
        "\n",
        "  #Create empty dataFrame:\n",
        "  prediction = pd.DataFrame( index = df.index );\n",
        "  strategy = pd.DataFrame( index = df.index );\n",
        "  \n",
        "  #Cargamos modelos y realizamos predicciones:\n",
        "  from tqdm import tqdm;\n",
        "\n",
        "  for n in tqdm(range(100)):\n",
        "    \n",
        "    model_name = f\"DNN_{n}\";\n",
        "    DNN = load_model(models_path + f\"{model_name}.h5\");\n",
        "    pre = DNN.predict(np.concatenate((x_train_sc, x_val_sc, x_test_sc),axis=0));\n",
        "\n",
        "    prediction[model_name] = pre;\n",
        "    strategy[model_name] = df[\"returns\"] * np.sign(prediction[model_name].shift(1));\n",
        "  \n",
        "  return prediction, strategy;"
      ]
    },
    {
      "cell_type": "markdown",
      "metadata": {
        "id": "-zaYRzefFGE0"
      },
      "source": [
        "#Load & Run Models DTT\n",
        "\n"
      ]
    },
    {
      "cell_type": "markdown",
      "metadata": {
        "id": "_aHWl4tsFGE2"
      },
      "source": [
        "Load & Run Models (Yahoo Finance)"
      ]
    },
    {
      "cell_type": "code",
      "execution_count": null,
      "metadata": {
        "id": "9fbw-Zh9FGE3"
      },
      "outputs": [],
      "source": [
        "def run_models_DTT(ticker ,models_path):\n",
        "\n",
        "  #Train set\n",
        "  x_train = df[['vwap','rsi','SMA 15','SMA 60','MSD 15','MSD 60','op','hi','lo','clo','vol']].iloc[:split,:]\n",
        "  y_train = df[['returns']].iloc[:split,:]\n",
        "\n",
        "  #Validation set\n",
        "  x_val = df[['vwap','rsi','SMA 15','SMA 60','MSD 15','MSD 60','op','hi','lo','clo','vol']].iloc[split:split_val,:]\n",
        "  y_val = df[['returns']].iloc[split:split_val,:]\n",
        "\n",
        "  #Test set\n",
        "  x_test = df[['vwap','rsi','SMA 15','SMA 60','MSD 15','MSD 60','op','hi','lo','clo','vol']].iloc[split_val:,:]\n",
        "  y_test = df[['returns']].iloc[split_val:,:]\n",
        "\n",
        "\n",
        "  #Standardization\n",
        "  from sklearn.preprocessing import StandardScaler\n",
        "  sc = StandardScaler()\n",
        "\n",
        "  #Estandarizamos conjunto de entrenamiento\n",
        "  x_train_sc = sc.fit_transform(x_train)\n",
        "\n",
        "  #Estandarizamos conjunto de testing\n",
        "  x_val_sc = sc.transform(x_val)\n",
        "\n",
        "  #Estandarizamos conjunto de testing\n",
        "  x_test_sc = sc.transform(x_test)\n",
        "\n",
        "  lag = 15\n",
        "  x_train_3d, y_train_3d = X_3d_RNN(x_train_sc, y_train.values, lag)\n",
        "  x_val_3d, y_val_3d = X_3d_RNN(x_val_sc, y_val.values, lag)\n",
        "  x_test_3d, y_test_3d = X_3d_RNN(x_test_sc, y_test.values, lag)\n",
        "\n",
        "  #Create empty dataFrame:\n",
        "  prediction = pd.DataFrame( index = df.index )\n",
        "  strategy = pd.DataFrame( index = df.index )\n",
        "  \n",
        "  #Cargamos modelos y realizamos predicciones:\n",
        "  from keras.models import load_model\n",
        "  from tqdm import tqdm\n",
        "\n",
        "  for n in tqdm(range(100)):\n",
        "    \n",
        "    model_name = f\"DTT_{n}\"\n",
        "    DTT = load_model(models_path + f\"{model_name}.h5\")\n",
        "\n",
        "    y_pred_train = np.concatenate((np.zeros([lag,1]), DTT.predict(x_train_3d)), axis=0)\n",
        "\n",
        "    y_pred_val = np.concatenate((np.zeros([lag,1]), DTT.predict(x_val_3d)), axis=0)\n",
        "\n",
        "    y_pred_test = np.concatenate((np.zeros([lag,1]), DTT.predict(x_test_3d)), axis=0)\n",
        "\n",
        "    pre = np.concatenate((y_pred_train, y_pred_val, y_pred_test), axis=0)\n",
        "\n",
        "    prediction[model_name] = pre;\n",
        "    strategy[model_name] = df[\"returns\"] * np.sign(prediction[model_name].shift(1));\n",
        "  \n",
        "  return prediction, strategy;"
      ]
    },
    {
      "cell_type": "markdown",
      "metadata": {
        "id": "XTWWAY2K710X"
      },
      "source": [
        "#Optimum select"
      ]
    },
    {
      "cell_type": "markdown",
      "metadata": {
        "id": "9QzsO21kop01"
      },
      "source": [
        "Algoritmo de seleción óptima"
      ]
    },
    {
      "cell_type": "code",
      "execution_count": null,
      "metadata": {
        "id": "3XND4_Aiov9t"
      },
      "outputs": [],
      "source": [
        "#We fixed the problem of stochastic initialization with a criteria that filters the best DNNs\n",
        "def optimum_select(strategies):\n",
        "\n",
        "  strat = strategies.dropna()\n",
        "  all_data = strat\n",
        "  val_test_data = strat.iloc[split:]\n",
        "  test_data = strat.iloc[split_val:]\n",
        "\n",
        "  dnns = all_data.columns\n",
        "\n",
        "  hopes_all = pd.DataFrame( index = [\"hope\"] )\n",
        "  hopes_val_test = pd.DataFrame( index = [\"hope\"] )\n",
        "  hopes_test = pd.DataFrame( index = [\"hope\"] )\n",
        "  \n",
        "  for i in dnns:\n",
        "    hope_all = all_data[i].mean()*100\n",
        "    hope_val_test = val_test_data[i].mean()*100\n",
        "    hope_test = test_data[i].mean()*100\n",
        "    \n",
        "    hopes_all[i] = hope_all\n",
        "    hopes_val_test[i] = hope_val_test\n",
        "    hopes_test[i] = hope_test\n",
        "\n",
        "  best_all = list(hopes_all.transpose().sort_values(\n",
        "      by=\"hope\", \n",
        "      ascending = False\n",
        "  ).index[0:2])\n",
        "\n",
        "  best_val_test = list(hopes_val_test.transpose().sort_values(\n",
        "      by=\"hope\", \n",
        "      ascending = False\n",
        "  ).index[0:2])\n",
        "\n",
        "  best_test = list(hopes_test.transpose().sort_values(\n",
        "      by=\"hope\", \n",
        "      ascending = False\n",
        "  ).index[0:4])\n",
        "\n",
        "  return list(set(best_all + best_val_test + best_test))"
      ]
    },
    {
      "cell_type": "markdown",
      "metadata": {
        "id": "8u0R3GqnhvlA"
      },
      "source": [
        "#Algoritmo de selección óptima y mejor combinación"
      ]
    },
    {
      "cell_type": "code",
      "execution_count": null,
      "metadata": {
        "id": "PKnf0DlLht-o"
      },
      "outputs": [],
      "source": [
        "#We fixed the problem of stochastic initialization with a criteria that filters the best DNNs\n",
        "import itertools as iter\n",
        "from itertools import islice\n",
        "\n",
        "def optimum_select_comb(predictions, strategies):\n",
        "\n",
        "  strat = strategies.dropna()\n",
        "  all_data = strat\n",
        "  val_test_data = strat.iloc[split:]\n",
        "  test_data = strat.iloc[split_val:]\n",
        "\n",
        "  dnns = all_data.columns\n",
        "\n",
        "  hopes_all = pd.DataFrame( index = [\"hope\"] )\n",
        "  hopes_val_test = pd.DataFrame( index = [\"hope\"] )\n",
        "  hopes_test = pd.DataFrame( index = [\"hope\"] )\n",
        "  \n",
        "  for i in dnns:\n",
        "    hopes_all[i] = all_data[i].mean()*100\n",
        "    hopes_val_test[i] = val_test_data[i].mean()*100\n",
        "    hopes_test[i] = test_data[i].mean()*100\n",
        "    \n",
        "  best_all = list(hopes_all.transpose().sort_values(\n",
        "      by=\"hope\", \n",
        "      ascending = False\n",
        "  ).index[0:6])\n",
        "\n",
        "  best_val_test = list(hopes_val_test.transpose().sort_values(\n",
        "      by=\"hope\", \n",
        "      ascending = False\n",
        "  ).index[0:6])\n",
        "\n",
        "  best_test = list(hopes_test.transpose().sort_values(\n",
        "      by=\"hope\", \n",
        "      ascending = False\n",
        "  ).index[0:6])\n",
        "\n",
        "  #Calculamos todas las combinaciones de modelos sin repetición\n",
        "  best = list(set(best_all + best_val_test + best_test))\n",
        "  combination = []\n",
        "\n",
        "  for r in range(3, len(best)+1):\n",
        "    combination.extend(list(iter.combinations(best, r)))\n",
        "\n",
        "  #Calculamos la esperanza matemática de retorno diario de cada combinación (bagging)\n",
        "  best_comb = {}\n",
        "\n",
        "  for comb in combination:\n",
        "\n",
        "    #Calculamos decisiones de compra o venta\n",
        "    best_pre = predictions[list(comb)]\n",
        "    best_pre[\"Buy\"] = (np.sign(best_pre) == 1).sum(axis=1);\n",
        "    best_pre[\"Sell\"] = (np.sign(best_pre) == -1).sum(axis=1);\n",
        "\n",
        "    #Calculamos posición final haciendo Bagging:\n",
        "    best_pre[\"position\"] = np.nan;\n",
        "\n",
        "    best_pre.loc[ best_pre[\"Buy\"] > best_pre[\"Sell\"] ,\"position\"] = 1;\n",
        "    best_pre.loc[ best_pre[\"Buy\"] == best_pre[\"Sell\"] ,\"position\"] = 0;\n",
        "    best_pre.loc[ best_pre[\"Sell\"] > best_pre[\"Buy\"] ,\"position\"] = -1;\n",
        "\n",
        "    best_pre[\"strategy\"] = df[\"returns\"] * best_pre[\"position\"].shift(1);\n",
        "\n",
        "    #Ratio de sortino\n",
        "    mean = best_pre['strategy'].mean();\n",
        "    volatility = best_pre['strategy'].loc[best_pre['strategy'] < 0].std();\n",
        "    sortino = np.sqrt(256)*mean/volatility;\n",
        "\n",
        "    best_comb[comb] = mean + sortino\n",
        "  \n",
        "  # Ordenar el diccionario por mayor esperanza matemática\n",
        "  best_comb = dict(sorted(best_comb.items(), key=lambda item: item[1], reverse = True))\n",
        "\n",
        "  return list(islice(best_comb.keys(),50))"
      ]
    },
    {
      "cell_type": "markdown",
      "metadata": {
        "id": "2wooGDNN7_Mu"
      },
      "source": [
        "#Run Models RNN"
      ]
    },
    {
      "cell_type": "markdown",
      "metadata": {
        "id": "QZ2K-WLlp0Yg"
      },
      "source": [
        "Run models"
      ]
    },
    {
      "cell_type": "code",
      "execution_count": null,
      "metadata": {
        "colab": {
          "base_uri": "https://localhost:8080/"
        },
        "id": "fS1_hTGOp5XF",
        "outputId": "93244bae-f35b-4686-c99f-14d68d4ecdda"
      },
      "outputs": [
        {
          "output_type": "stream",
          "name": "stdout",
          "text": [
            "\r[*********************100%***********************]  1 of 1 completed\n"
          ]
        },
        {
          "output_type": "stream",
          "name": "stderr",
          "text": [
            "\r  0%|          | 0/100 [00:00<?, ?it/s]"
          ]
        },
        {
          "output_type": "stream",
          "name": "stdout",
          "text": [
            "221/221 [==============================] - 5s 3ms/step\n",
            "26/26 [==============================] - 0s 3ms/step\n",
            "13/13 [==============================] - 0s 3ms/step\n"
          ]
        },
        {
          "output_type": "stream",
          "name": "stderr",
          "text": [
            "\r  1%|          | 1/100 [00:12<20:19, 12.32s/it]"
          ]
        },
        {
          "output_type": "stream",
          "name": "stdout",
          "text": [
            "221/221 [==============================] - 1s 2ms/step\n",
            "26/26 [==============================] - 0s 3ms/step\n",
            "13/13 [==============================] - 0s 4ms/step\n"
          ]
        },
        {
          "output_type": "stream",
          "name": "stderr",
          "text": [
            "\r  2%|▏         | 2/100 [00:16<12:26,  7.62s/it]"
          ]
        },
        {
          "output_type": "stream",
          "name": "stdout",
          "text": [
            "221/221 [==============================] - 1s 2ms/step\n",
            "26/26 [==============================] - 0s 3ms/step\n",
            "13/13 [==============================] - 0s 3ms/step\n"
          ]
        },
        {
          "output_type": "stream",
          "name": "stderr",
          "text": [
            "\r  3%|▎         | 3/100 [00:20<09:46,  6.04s/it]"
          ]
        },
        {
          "output_type": "stream",
          "name": "stdout",
          "text": [
            "221/221 [==============================] - 1s 2ms/step\n",
            "26/26 [==============================] - 0s 2ms/step\n",
            "13/13 [==============================] - 0s 2ms/step\n"
          ]
        },
        {
          "output_type": "stream",
          "name": "stderr",
          "text": [
            "\r  4%|▍         | 4/100 [00:24<08:29,  5.31s/it]"
          ]
        },
        {
          "output_type": "stream",
          "name": "stdout",
          "text": [
            "221/221 [==============================] - 1s 3ms/step\n",
            "26/26 [==============================] - 0s 4ms/step\n",
            "13/13 [==============================] - 0s 3ms/step\n"
          ]
        },
        {
          "output_type": "stream",
          "name": "stderr",
          "text": [
            "\r  5%|▌         | 5/100 [00:28<07:34,  4.78s/it]"
          ]
        },
        {
          "output_type": "stream",
          "name": "stdout",
          "text": [
            "221/221 [==============================] - 1s 2ms/step\n",
            "26/26 [==============================] - 0s 3ms/step\n",
            "13/13 [==============================] - 0s 3ms/step\n"
          ]
        },
        {
          "output_type": "stream",
          "name": "stderr",
          "text": [
            "\r  6%|▌         | 6/100 [00:32<06:50,  4.37s/it]"
          ]
        },
        {
          "output_type": "stream",
          "name": "stdout",
          "text": [
            "221/221 [==============================] - 1s 2ms/step\n",
            "26/26 [==============================] - 0s 3ms/step\n",
            "13/13 [==============================] - 0s 3ms/step\n"
          ]
        },
        {
          "output_type": "stream",
          "name": "stderr",
          "text": [
            "\r  7%|▋         | 7/100 [00:36<06:41,  4.32s/it]"
          ]
        },
        {
          "output_type": "stream",
          "name": "stdout",
          "text": [
            "221/221 [==============================] - 1s 2ms/step\n",
            "26/26 [==============================] - 0s 2ms/step\n",
            "13/13 [==============================] - 0s 3ms/step\n"
          ]
        },
        {
          "output_type": "stream",
          "name": "stderr",
          "text": [
            "\r  8%|▊         | 8/100 [00:40<06:19,  4.13s/it]"
          ]
        },
        {
          "output_type": "stream",
          "name": "stdout",
          "text": [
            "221/221 [==============================] - 1s 3ms/step\n",
            "26/26 [==============================] - 0s 3ms/step\n",
            "13/13 [==============================] - 0s 2ms/step\n"
          ]
        },
        {
          "output_type": "stream",
          "name": "stderr",
          "text": [
            "\r  9%|▉         | 9/100 [00:44<06:16,  4.14s/it]"
          ]
        },
        {
          "output_type": "stream",
          "name": "stdout",
          "text": [
            "221/221 [==============================] - 1s 2ms/step\n",
            "26/26 [==============================] - 0s 3ms/step\n",
            "13/13 [==============================] - 0s 2ms/step\n"
          ]
        },
        {
          "output_type": "stream",
          "name": "stderr",
          "text": [
            "\r 10%|█         | 10/100 [00:48<06:11,  4.13s/it]"
          ]
        },
        {
          "output_type": "stream",
          "name": "stdout",
          "text": [
            "221/221 [==============================] - 1s 2ms/step\n",
            "26/26 [==============================] - 0s 2ms/step\n",
            "13/13 [==============================] - 0s 3ms/step\n"
          ]
        },
        {
          "output_type": "stream",
          "name": "stderr",
          "text": [
            "\r 11%|█         | 11/100 [00:52<06:06,  4.12s/it]"
          ]
        },
        {
          "output_type": "stream",
          "name": "stdout",
          "text": [
            "221/221 [==============================] - 2s 3ms/step\n",
            "26/26 [==============================] - 0s 3ms/step\n",
            "13/13 [==============================] - 0s 2ms/step\n"
          ]
        },
        {
          "output_type": "stream",
          "name": "stderr",
          "text": [
            "\r 12%|█▏        | 12/100 [00:56<06:02,  4.12s/it]"
          ]
        },
        {
          "output_type": "stream",
          "name": "stdout",
          "text": [
            "221/221 [==============================] - 1s 2ms/step\n",
            "26/26 [==============================] - 0s 3ms/step\n",
            "13/13 [==============================] - 0s 3ms/step\n"
          ]
        },
        {
          "output_type": "stream",
          "name": "stderr",
          "text": [
            "\r 13%|█▎        | 13/100 [00:59<05:32,  3.82s/it]"
          ]
        },
        {
          "output_type": "stream",
          "name": "stdout",
          "text": [
            "221/221 [==============================] - 1s 2ms/step\n",
            "26/26 [==============================] - 0s 3ms/step\n",
            "13/13 [==============================] - 0s 3ms/step\n"
          ]
        },
        {
          "output_type": "stream",
          "name": "stderr",
          "text": [
            "\r 14%|█▍        | 14/100 [01:04<05:39,  3.94s/it]"
          ]
        },
        {
          "output_type": "stream",
          "name": "stdout",
          "text": [
            "221/221 [==============================] - 2s 4ms/step\n",
            "26/26 [==============================] - 0s 3ms/step\n",
            "13/13 [==============================] - 0s 4ms/step\n"
          ]
        },
        {
          "output_type": "stream",
          "name": "stderr",
          "text": [
            "\r 15%|█▌        | 15/100 [01:09<05:57,  4.21s/it]"
          ]
        },
        {
          "output_type": "stream",
          "name": "stdout",
          "text": [
            "221/221 [==============================] - 1s 2ms/step\n",
            "26/26 [==============================] - 0s 3ms/step\n",
            "13/13 [==============================] - 0s 3ms/step\n"
          ]
        },
        {
          "output_type": "stream",
          "name": "stderr",
          "text": [
            "\r 16%|█▌        | 16/100 [01:13<05:47,  4.14s/it]"
          ]
        },
        {
          "output_type": "stream",
          "name": "stdout",
          "text": [
            "221/221 [==============================] - 1s 2ms/step\n",
            "26/26 [==============================] - 0s 2ms/step\n",
            "13/13 [==============================] - 0s 3ms/step\n"
          ]
        },
        {
          "output_type": "stream",
          "name": "stderr",
          "text": [
            "\r 17%|█▋        | 17/100 [01:16<05:17,  3.83s/it]"
          ]
        },
        {
          "output_type": "stream",
          "name": "stdout",
          "text": [
            "221/221 [==============================] - 1s 2ms/step\n",
            "26/26 [==============================] - 0s 3ms/step\n",
            "13/13 [==============================] - 0s 3ms/step\n"
          ]
        },
        {
          "output_type": "stream",
          "name": "stderr",
          "text": [
            "\r 18%|█▊        | 18/100 [01:19<04:54,  3.59s/it]"
          ]
        },
        {
          "output_type": "stream",
          "name": "stdout",
          "text": [
            "221/221 [==============================] - 1s 2ms/step\n",
            "26/26 [==============================] - 0s 3ms/step\n",
            "13/13 [==============================] - 0s 3ms/step\n"
          ]
        },
        {
          "output_type": "stream",
          "name": "stderr",
          "text": [
            "\r 19%|█▉        | 19/100 [01:23<04:59,  3.69s/it]"
          ]
        },
        {
          "output_type": "stream",
          "name": "stdout",
          "text": [
            "221/221 [==============================] - 1s 2ms/step\n",
            "26/26 [==============================] - 0s 3ms/step\n",
            "13/13 [==============================] - 0s 3ms/step\n"
          ]
        },
        {
          "output_type": "stream",
          "name": "stderr",
          "text": [
            "\r 20%|██        | 20/100 [01:26<04:50,  3.63s/it]"
          ]
        },
        {
          "output_type": "stream",
          "name": "stdout",
          "text": [
            "221/221 [==============================] - 1s 2ms/step\n",
            "26/26 [==============================] - 0s 3ms/step\n",
            "13/13 [==============================] - 0s 3ms/step\n"
          ]
        },
        {
          "output_type": "stream",
          "name": "stderr",
          "text": [
            "\r 21%|██        | 21/100 [01:30<04:43,  3.59s/it]"
          ]
        },
        {
          "output_type": "stream",
          "name": "stdout",
          "text": [
            "221/221 [==============================] - 2s 3ms/step\n",
            "26/26 [==============================] - 0s 3ms/step\n",
            "13/13 [==============================] - 0s 3ms/step\n"
          ]
        },
        {
          "output_type": "stream",
          "name": "stderr",
          "text": [
            "\r 22%|██▏       | 22/100 [01:34<04:48,  3.69s/it]"
          ]
        },
        {
          "output_type": "stream",
          "name": "stdout",
          "text": [
            "221/221 [==============================] - 1s 2ms/step\n",
            "26/26 [==============================] - 0s 2ms/step\n",
            "13/13 [==============================] - 0s 3ms/step\n"
          ]
        },
        {
          "output_type": "stream",
          "name": "stderr",
          "text": [
            "\r 23%|██▎       | 23/100 [01:38<04:51,  3.79s/it]"
          ]
        },
        {
          "output_type": "stream",
          "name": "stdout",
          "text": [
            "221/221 [==============================] - 1s 3ms/step\n",
            "26/26 [==============================] - 0s 3ms/step\n",
            "13/13 [==============================] - 0s 2ms/step\n"
          ]
        },
        {
          "output_type": "stream",
          "name": "stderr",
          "text": [
            "\r 24%|██▍       | 24/100 [01:41<04:33,  3.59s/it]"
          ]
        },
        {
          "output_type": "stream",
          "name": "stdout",
          "text": [
            "221/221 [==============================] - 1s 2ms/step\n",
            "26/26 [==============================] - 0s 3ms/step\n",
            "13/13 [==============================] - 0s 2ms/step\n"
          ]
        },
        {
          "output_type": "stream",
          "name": "stderr",
          "text": [
            "\r 25%|██▌       | 25/100 [01:44<04:17,  3.43s/it]"
          ]
        },
        {
          "output_type": "stream",
          "name": "stdout",
          "text": [
            "221/221 [==============================] - 2s 4ms/step\n",
            "26/26 [==============================] - 0s 3ms/step\n",
            "13/13 [==============================] - 0s 2ms/step\n"
          ]
        },
        {
          "output_type": "stream",
          "name": "stderr",
          "text": [
            "\r 26%|██▌       | 26/100 [01:48<04:25,  3.58s/it]"
          ]
        },
        {
          "output_type": "stream",
          "name": "stdout",
          "text": [
            "221/221 [==============================] - 1s 2ms/step\n",
            "26/26 [==============================] - 0s 3ms/step\n",
            "13/13 [==============================] - 0s 3ms/step\n"
          ]
        },
        {
          "output_type": "stream",
          "name": "stderr",
          "text": [
            "\r 27%|██▋       | 27/100 [01:51<04:23,  3.61s/it]"
          ]
        },
        {
          "output_type": "stream",
          "name": "stdout",
          "text": [
            "221/221 [==============================] - 1s 2ms/step\n",
            "26/26 [==============================] - 0s 2ms/step\n",
            "13/13 [==============================] - 0s 3ms/step\n"
          ]
        },
        {
          "output_type": "stream",
          "name": "stderr",
          "text": [
            "\r 28%|██▊       | 28/100 [01:54<04:07,  3.44s/it]"
          ]
        },
        {
          "output_type": "stream",
          "name": "stdout",
          "text": [
            "221/221 [==============================] - 1s 2ms/step\n",
            "26/26 [==============================] - 0s 3ms/step\n",
            "13/13 [==============================] - 0s 5ms/step\n"
          ]
        },
        {
          "output_type": "stream",
          "name": "stderr",
          "text": [
            "\r 29%|██▉       | 29/100 [01:57<03:57,  3.35s/it]"
          ]
        },
        {
          "output_type": "stream",
          "name": "stdout",
          "text": [
            "221/221 [==============================] - 1s 2ms/step\n",
            "26/26 [==============================] - 0s 2ms/step\n",
            "13/13 [==============================] - 0s 3ms/step\n"
          ]
        },
        {
          "output_type": "stream",
          "name": "stderr",
          "text": [
            "\r 30%|███       | 30/100 [02:01<03:56,  3.38s/it]"
          ]
        },
        {
          "output_type": "stream",
          "name": "stdout",
          "text": [
            "221/221 [==============================] - 2s 2ms/step\n",
            "26/26 [==============================] - 0s 2ms/step\n",
            "13/13 [==============================] - 0s 3ms/step\n"
          ]
        },
        {
          "output_type": "stream",
          "name": "stderr",
          "text": [
            "\r 31%|███       | 31/100 [02:05<03:56,  3.43s/it]"
          ]
        },
        {
          "output_type": "stream",
          "name": "stdout",
          "text": [
            "221/221 [==============================] - 1s 2ms/step\n",
            "26/26 [==============================] - 0s 3ms/step\n",
            "13/13 [==============================] - 0s 3ms/step\n"
          ]
        },
        {
          "output_type": "stream",
          "name": "stderr",
          "text": [
            "\r 32%|███▏      | 32/100 [02:08<03:59,  3.52s/it]"
          ]
        },
        {
          "output_type": "stream",
          "name": "stdout",
          "text": [
            "221/221 [==============================] - 2s 3ms/step\n",
            "26/26 [==============================] - 0s 3ms/step\n",
            "13/13 [==============================] - 0s 3ms/step\n"
          ]
        },
        {
          "output_type": "stream",
          "name": "stderr",
          "text": [
            "\r 33%|███▎      | 33/100 [02:12<04:04,  3.66s/it]"
          ]
        },
        {
          "output_type": "stream",
          "name": "stdout",
          "text": [
            "221/221 [==============================] - 1s 3ms/step\n",
            "26/26 [==============================] - 0s 3ms/step\n",
            "13/13 [==============================] - 0s 2ms/step\n"
          ]
        },
        {
          "output_type": "stream",
          "name": "stderr",
          "text": [
            "\r 34%|███▍      | 34/100 [02:16<04:01,  3.66s/it]"
          ]
        },
        {
          "output_type": "stream",
          "name": "stdout",
          "text": [
            "221/221 [==============================] - 1s 2ms/step\n",
            "26/26 [==============================] - 0s 3ms/step\n",
            "13/13 [==============================] - 0s 3ms/step\n"
          ]
        },
        {
          "output_type": "stream",
          "name": "stderr",
          "text": [
            "\r 35%|███▌      | 35/100 [02:20<03:58,  3.67s/it]"
          ]
        },
        {
          "output_type": "stream",
          "name": "stdout",
          "text": [
            "221/221 [==============================] - 3s 6ms/step\n",
            "26/26 [==============================] - 0s 6ms/step\n",
            "13/13 [==============================] - 0s 5ms/step\n"
          ]
        },
        {
          "output_type": "stream",
          "name": "stderr",
          "text": [
            "\r 36%|███▌      | 36/100 [02:25<04:30,  4.23s/it]"
          ]
        },
        {
          "output_type": "stream",
          "name": "stdout",
          "text": [
            "221/221 [==============================] - 2s 5ms/step\n",
            "26/26 [==============================] - 0s 6ms/step\n",
            "13/13 [==============================] - 0s 3ms/step\n"
          ]
        },
        {
          "output_type": "stream",
          "name": "stderr",
          "text": [
            "\r 37%|███▋      | 37/100 [02:31<04:52,  4.65s/it]"
          ]
        },
        {
          "output_type": "stream",
          "name": "stdout",
          "text": [
            "221/221 [==============================] - 1s 4ms/step\n",
            "26/26 [==============================] - 0s 4ms/step\n",
            "13/13 [==============================] - 0s 5ms/step\n"
          ]
        },
        {
          "output_type": "stream",
          "name": "stderr",
          "text": [
            "\r 38%|███▊      | 38/100 [02:35<04:32,  4.39s/it]"
          ]
        },
        {
          "output_type": "stream",
          "name": "stdout",
          "text": [
            "221/221 [==============================] - 3s 6ms/step\n",
            "26/26 [==============================] - 0s 7ms/step\n",
            "13/13 [==============================] - 0s 5ms/step\n"
          ]
        },
        {
          "output_type": "stream",
          "name": "stderr",
          "text": [
            "\r 39%|███▉      | 39/100 [02:44<05:54,  5.82s/it]"
          ]
        },
        {
          "output_type": "stream",
          "name": "stdout",
          "text": [
            "221/221 [==============================] - 1s 3ms/step\n",
            "26/26 [==============================] - 0s 3ms/step\n",
            "13/13 [==============================] - 0s 2ms/step\n"
          ]
        },
        {
          "output_type": "stream",
          "name": "stderr",
          "text": [
            "\r 40%|████      | 40/100 [02:48<05:14,  5.24s/it]"
          ]
        },
        {
          "output_type": "stream",
          "name": "stdout",
          "text": [
            "221/221 [==============================] - 1s 2ms/step\n",
            "26/26 [==============================] - 0s 4ms/step\n",
            "13/13 [==============================] - 0s 3ms/step\n"
          ]
        },
        {
          "output_type": "stream",
          "name": "stderr",
          "text": [
            "\r 41%|████      | 41/100 [02:51<04:42,  4.79s/it]"
          ]
        },
        {
          "output_type": "stream",
          "name": "stdout",
          "text": [
            "221/221 [==============================] - 1s 2ms/step\n",
            "26/26 [==============================] - 0s 2ms/step\n",
            "13/13 [==============================] - 0s 3ms/step\n"
          ]
        },
        {
          "output_type": "stream",
          "name": "stderr",
          "text": [
            "\r 42%|████▏     | 42/100 [02:55<04:15,  4.40s/it]"
          ]
        },
        {
          "output_type": "stream",
          "name": "stdout",
          "text": [
            "221/221 [==============================] - 1s 2ms/step\n",
            "26/26 [==============================] - 0s 3ms/step\n",
            "13/13 [==============================] - 0s 3ms/step\n"
          ]
        },
        {
          "output_type": "stream",
          "name": "stderr",
          "text": [
            "\r 43%|████▎     | 43/100 [02:59<03:59,  4.21s/it]"
          ]
        },
        {
          "output_type": "stream",
          "name": "stdout",
          "text": [
            "221/221 [==============================] - 1s 2ms/step\n",
            "26/26 [==============================] - 0s 3ms/step\n",
            "13/13 [==============================] - 0s 3ms/step\n"
          ]
        },
        {
          "output_type": "stream",
          "name": "stderr",
          "text": [
            "\r 44%|████▍     | 44/100 [03:02<03:35,  3.86s/it]"
          ]
        },
        {
          "output_type": "stream",
          "name": "stdout",
          "text": [
            "221/221 [==============================] - 1s 4ms/step\n",
            "26/26 [==============================] - 0s 4ms/step\n",
            "13/13 [==============================] - 0s 4ms/step\n"
          ]
        },
        {
          "output_type": "stream",
          "name": "stderr",
          "text": [
            "\r 45%|████▌     | 45/100 [03:05<03:31,  3.85s/it]"
          ]
        },
        {
          "output_type": "stream",
          "name": "stdout",
          "text": [
            "221/221 [==============================] - 2s 2ms/step\n",
            "26/26 [==============================] - 0s 3ms/step\n",
            "13/13 [==============================] - 0s 3ms/step\n"
          ]
        },
        {
          "output_type": "stream",
          "name": "stderr",
          "text": [
            "\r 46%|████▌     | 46/100 [03:09<03:21,  3.73s/it]"
          ]
        },
        {
          "output_type": "stream",
          "name": "stdout",
          "text": [
            "221/221 [==============================] - 1s 2ms/step\n",
            "26/26 [==============================] - 0s 3ms/step\n",
            "13/13 [==============================] - 0s 3ms/step\n"
          ]
        },
        {
          "output_type": "stream",
          "name": "stderr",
          "text": [
            "\r 47%|████▋     | 47/100 [03:12<03:08,  3.55s/it]"
          ]
        },
        {
          "output_type": "stream",
          "name": "stdout",
          "text": [
            "221/221 [==============================] - 1s 2ms/step\n",
            "26/26 [==============================] - 0s 3ms/step\n",
            "13/13 [==============================] - 0s 3ms/step\n"
          ]
        },
        {
          "output_type": "stream",
          "name": "stderr",
          "text": [
            "\r 48%|████▊     | 48/100 [03:15<02:56,  3.40s/it]"
          ]
        },
        {
          "output_type": "stream",
          "name": "stdout",
          "text": [
            "221/221 [==============================] - 2s 4ms/step\n",
            "26/26 [==============================] - 0s 4ms/step\n",
            "13/13 [==============================] - 0s 4ms/step\n"
          ]
        },
        {
          "output_type": "stream",
          "name": "stderr",
          "text": [
            "\r 49%|████▉     | 49/100 [03:20<03:09,  3.72s/it]"
          ]
        },
        {
          "output_type": "stream",
          "name": "stdout",
          "text": [
            "221/221 [==============================] - 1s 2ms/step\n",
            "26/26 [==============================] - 0s 3ms/step\n",
            "13/13 [==============================] - 0s 3ms/step\n"
          ]
        },
        {
          "output_type": "stream",
          "name": "stderr",
          "text": [
            "\r 50%|█████     | 50/100 [03:24<03:13,  3.87s/it]"
          ]
        },
        {
          "output_type": "stream",
          "name": "stdout",
          "text": [
            "221/221 [==============================] - 1s 2ms/step\n",
            "26/26 [==============================] - 0s 3ms/step\n",
            "13/13 [==============================] - 0s 3ms/step\n"
          ]
        },
        {
          "output_type": "stream",
          "name": "stderr",
          "text": [
            "\r 51%|█████     | 51/100 [03:27<02:58,  3.64s/it]"
          ]
        },
        {
          "output_type": "stream",
          "name": "stdout",
          "text": [
            "221/221 [==============================] - 1s 3ms/step\n",
            "26/26 [==============================] - 0s 4ms/step\n",
            "13/13 [==============================] - 0s 3ms/step\n"
          ]
        },
        {
          "output_type": "stream",
          "name": "stderr",
          "text": [
            "\r 52%|█████▏    | 52/100 [03:30<02:49,  3.52s/it]"
          ]
        },
        {
          "output_type": "stream",
          "name": "stdout",
          "text": [
            "221/221 [==============================] - 1s 2ms/step\n",
            "26/26 [==============================] - 0s 3ms/step\n",
            "13/13 [==============================] - 0s 3ms/step\n"
          ]
        },
        {
          "output_type": "stream",
          "name": "stderr",
          "text": [
            "\r 53%|█████▎    | 53/100 [03:34<02:51,  3.65s/it]"
          ]
        },
        {
          "output_type": "stream",
          "name": "stdout",
          "text": [
            "221/221 [==============================] - 1s 2ms/step\n",
            "26/26 [==============================] - 0s 3ms/step\n",
            "13/13 [==============================] - 0s 3ms/step\n"
          ]
        },
        {
          "output_type": "stream",
          "name": "stderr",
          "text": [
            "\r 54%|█████▍    | 54/100 [03:38<02:54,  3.79s/it]"
          ]
        },
        {
          "output_type": "stream",
          "name": "stdout",
          "text": [
            "221/221 [==============================] - 1s 2ms/step\n",
            "26/26 [==============================] - 0s 3ms/step\n",
            "13/13 [==============================] - 0s 3ms/step\n"
          ]
        },
        {
          "output_type": "stream",
          "name": "stderr",
          "text": [
            "\r 55%|█████▌    | 55/100 [03:41<02:41,  3.60s/it]"
          ]
        },
        {
          "output_type": "stream",
          "name": "stdout",
          "text": [
            "221/221 [==============================] - 2s 4ms/step\n",
            "26/26 [==============================] - 0s 9ms/step\n",
            "13/13 [==============================] - 0s 8ms/step\n"
          ]
        },
        {
          "output_type": "stream",
          "name": "stderr",
          "text": [
            "\r 56%|█████▌    | 56/100 [03:46<02:50,  3.89s/it]"
          ]
        },
        {
          "output_type": "stream",
          "name": "stdout",
          "text": [
            "221/221 [==============================] - 1s 2ms/step\n",
            "26/26 [==============================] - 0s 3ms/step\n",
            "13/13 [==============================] - 0s 3ms/step\n"
          ]
        },
        {
          "output_type": "stream",
          "name": "stderr",
          "text": [
            "\r 57%|█████▋    | 57/100 [03:49<02:37,  3.66s/it]"
          ]
        },
        {
          "output_type": "stream",
          "name": "stdout",
          "text": [
            "221/221 [==============================] - 1s 2ms/step\n",
            "26/26 [==============================] - 0s 3ms/step\n",
            "13/13 [==============================] - 0s 3ms/step\n"
          ]
        },
        {
          "output_type": "stream",
          "name": "stderr",
          "text": [
            "\r 58%|█████▊    | 58/100 [03:53<02:35,  3.69s/it]"
          ]
        },
        {
          "output_type": "stream",
          "name": "stdout",
          "text": [
            "221/221 [==============================] - 1s 2ms/step\n",
            "26/26 [==============================] - 0s 3ms/step\n",
            "13/13 [==============================] - 0s 4ms/step\n"
          ]
        },
        {
          "output_type": "stream",
          "name": "stderr",
          "text": [
            "\r 59%|█████▉    | 59/100 [03:56<02:25,  3.54s/it]"
          ]
        },
        {
          "output_type": "stream",
          "name": "stdout",
          "text": [
            "221/221 [==============================] - 1s 2ms/step\n",
            "26/26 [==============================] - 0s 3ms/step\n",
            "13/13 [==============================] - 0s 3ms/step\n"
          ]
        },
        {
          "output_type": "stream",
          "name": "stderr",
          "text": [
            "\r 60%|██████    | 60/100 [03:59<02:21,  3.53s/it]"
          ]
        },
        {
          "output_type": "stream",
          "name": "stdout",
          "text": [
            "221/221 [==============================] - 2s 2ms/step\n",
            "26/26 [==============================] - 0s 2ms/step\n",
            "13/13 [==============================] - 0s 3ms/step\n"
          ]
        },
        {
          "output_type": "stream",
          "name": "stderr",
          "text": [
            "\r 61%|██████    | 61/100 [04:04<02:24,  3.70s/it]"
          ]
        },
        {
          "output_type": "stream",
          "name": "stdout",
          "text": [
            "221/221 [==============================] - 1s 2ms/step\n",
            "26/26 [==============================] - 0s 3ms/step\n",
            "13/13 [==============================] - 0s 2ms/step\n"
          ]
        },
        {
          "output_type": "stream",
          "name": "stderr",
          "text": [
            "\r 62%|██████▏   | 62/100 [04:07<02:14,  3.53s/it]"
          ]
        },
        {
          "output_type": "stream",
          "name": "stdout",
          "text": [
            "221/221 [==============================] - 2s 4ms/step\n",
            "26/26 [==============================] - 0s 4ms/step\n",
            "13/13 [==============================] - 0s 3ms/step\n"
          ]
        },
        {
          "output_type": "stream",
          "name": "stderr",
          "text": [
            "\r 63%|██████▎   | 63/100 [04:11<02:16,  3.68s/it]"
          ]
        },
        {
          "output_type": "stream",
          "name": "stdout",
          "text": [
            "221/221 [==============================] - 1s 2ms/step\n",
            "26/26 [==============================] - 0s 3ms/step\n",
            "13/13 [==============================] - 0s 3ms/step\n"
          ]
        },
        {
          "output_type": "stream",
          "name": "stderr",
          "text": [
            "\r 64%|██████▍   | 64/100 [04:14<02:13,  3.70s/it]"
          ]
        },
        {
          "output_type": "stream",
          "name": "stdout",
          "text": [
            "221/221 [==============================] - 1s 2ms/step\n",
            "26/26 [==============================] - 0s 3ms/step\n",
            "13/13 [==============================] - 0s 3ms/step\n"
          ]
        },
        {
          "output_type": "stream",
          "name": "stderr",
          "text": [
            "\r 65%|██████▌   | 65/100 [04:18<02:03,  3.54s/it]"
          ]
        },
        {
          "output_type": "stream",
          "name": "stdout",
          "text": [
            "221/221 [==============================] - 1s 3ms/step\n",
            "26/26 [==============================] - 0s 3ms/step\n",
            "13/13 [==============================] - 0s 3ms/step\n"
          ]
        },
        {
          "output_type": "stream",
          "name": "stderr",
          "text": [
            "\r 66%|██████▌   | 66/100 [04:21<02:02,  3.59s/it]"
          ]
        },
        {
          "output_type": "stream",
          "name": "stdout",
          "text": [
            "221/221 [==============================] - 1s 3ms/step\n",
            "26/26 [==============================] - 0s 3ms/step\n",
            "13/13 [==============================] - 0s 3ms/step\n"
          ]
        },
        {
          "output_type": "stream",
          "name": "stderr",
          "text": [
            "\r 67%|██████▋   | 67/100 [04:25<01:59,  3.62s/it]"
          ]
        },
        {
          "output_type": "stream",
          "name": "stdout",
          "text": [
            "221/221 [==============================] - 1s 3ms/step\n",
            "26/26 [==============================] - 0s 3ms/step\n",
            "13/13 [==============================] - 0s 3ms/step\n"
          ]
        },
        {
          "output_type": "stream",
          "name": "stderr",
          "text": [
            "\r 68%|██████▊   | 68/100 [04:29<01:55,  3.62s/it]"
          ]
        },
        {
          "output_type": "stream",
          "name": "stdout",
          "text": [
            "221/221 [==============================] - 1s 3ms/step\n",
            "26/26 [==============================] - 0s 3ms/step\n",
            "13/13 [==============================] - 0s 3ms/step\n"
          ]
        },
        {
          "output_type": "stream",
          "name": "stderr",
          "text": [
            "\r 69%|██████▉   | 69/100 [04:32<01:51,  3.59s/it]"
          ]
        },
        {
          "output_type": "stream",
          "name": "stdout",
          "text": [
            "221/221 [==============================] - 2s 4ms/step\n",
            "26/26 [==============================] - 0s 4ms/step\n",
            "13/13 [==============================] - 0s 4ms/step\n"
          ]
        },
        {
          "output_type": "stream",
          "name": "stderr",
          "text": [
            "\r 70%|███████   | 70/100 [04:36<01:52,  3.75s/it]"
          ]
        },
        {
          "output_type": "stream",
          "name": "stdout",
          "text": [
            "221/221 [==============================] - 1s 3ms/step\n",
            "26/26 [==============================] - 0s 3ms/step\n",
            "13/13 [==============================] - 0s 2ms/step\n"
          ]
        },
        {
          "output_type": "stream",
          "name": "stderr",
          "text": [
            "\r 71%|███████   | 71/100 [04:39<01:43,  3.56s/it]"
          ]
        },
        {
          "output_type": "stream",
          "name": "stdout",
          "text": [
            "221/221 [==============================] - 1s 2ms/step\n",
            "26/26 [==============================] - 0s 2ms/step\n",
            "13/13 [==============================] - 0s 3ms/step\n"
          ]
        },
        {
          "output_type": "stream",
          "name": "stderr",
          "text": [
            "\r 72%|███████▏  | 72/100 [04:43<01:41,  3.61s/it]"
          ]
        },
        {
          "output_type": "stream",
          "name": "stdout",
          "text": [
            "221/221 [==============================] - 1s 2ms/step\n",
            "26/26 [==============================] - 0s 3ms/step\n",
            "13/13 [==============================] - 0s 3ms/step\n"
          ]
        },
        {
          "output_type": "stream",
          "name": "stderr",
          "text": [
            "\r 73%|███████▎  | 73/100 [04:46<01:33,  3.46s/it]"
          ]
        },
        {
          "output_type": "stream",
          "name": "stdout",
          "text": [
            "221/221 [==============================] - 2s 4ms/step\n",
            "26/26 [==============================] - 0s 4ms/step\n",
            "13/13 [==============================] - 0s 3ms/step\n"
          ]
        },
        {
          "output_type": "stream",
          "name": "stderr",
          "text": [
            "\r 74%|███████▍  | 74/100 [04:50<01:33,  3.58s/it]"
          ]
        },
        {
          "output_type": "stream",
          "name": "stdout",
          "text": [
            "221/221 [==============================] - 1s 3ms/step\n",
            "26/26 [==============================] - 0s 3ms/step\n",
            "13/13 [==============================] - 0s 3ms/step\n"
          ]
        },
        {
          "output_type": "stream",
          "name": "stderr",
          "text": [
            "\r 75%|███████▌  | 75/100 [04:54<01:30,  3.62s/it]"
          ]
        },
        {
          "output_type": "stream",
          "name": "stdout",
          "text": [
            "221/221 [==============================] - 2s 2ms/step\n",
            "26/26 [==============================] - 0s 3ms/step\n",
            "13/13 [==============================] - 0s 3ms/step\n"
          ]
        },
        {
          "output_type": "stream",
          "name": "stderr",
          "text": [
            "\r 76%|███████▌  | 76/100 [04:57<01:26,  3.61s/it]"
          ]
        },
        {
          "output_type": "stream",
          "name": "stdout",
          "text": [
            "221/221 [==============================] - 1s 3ms/step\n",
            "26/26 [==============================] - 0s 4ms/step\n",
            "13/13 [==============================] - 0s 3ms/step\n"
          ]
        },
        {
          "output_type": "stream",
          "name": "stderr",
          "text": [
            "\r 77%|███████▋  | 77/100 [05:01<01:21,  3.52s/it]"
          ]
        },
        {
          "output_type": "stream",
          "name": "stdout",
          "text": [
            "221/221 [==============================] - 1s 2ms/step\n",
            "26/26 [==============================] - 0s 3ms/step\n",
            "13/13 [==============================] - 0s 2ms/step\n"
          ]
        },
        {
          "output_type": "stream",
          "name": "stderr",
          "text": [
            "\r 78%|███████▊  | 78/100 [05:05<01:20,  3.65s/it]"
          ]
        },
        {
          "output_type": "stream",
          "name": "stdout",
          "text": [
            "221/221 [==============================] - 1s 2ms/step\n",
            "26/26 [==============================] - 0s 3ms/step\n",
            "13/13 [==============================] - 0s 3ms/step\n"
          ]
        },
        {
          "output_type": "stream",
          "name": "stderr",
          "text": [
            "\r 79%|███████▉  | 79/100 [05:08<01:16,  3.63s/it]"
          ]
        },
        {
          "output_type": "stream",
          "name": "stdout",
          "text": [
            "221/221 [==============================] - 1s 2ms/step\n",
            "26/26 [==============================] - 0s 3ms/step\n",
            "13/13 [==============================] - 0s 3ms/step\n"
          ]
        },
        {
          "output_type": "stream",
          "name": "stderr",
          "text": [
            "\r 80%|████████  | 80/100 [05:11<01:10,  3.50s/it]"
          ]
        },
        {
          "output_type": "stream",
          "name": "stdout",
          "text": [
            "221/221 [==============================] - 2s 3ms/step\n",
            "26/26 [==============================] - 0s 3ms/step\n",
            "13/13 [==============================] - 0s 5ms/step\n"
          ]
        },
        {
          "output_type": "stream",
          "name": "stderr",
          "text": [
            "\r 81%|████████  | 81/100 [05:15<01:09,  3.64s/it]"
          ]
        },
        {
          "output_type": "stream",
          "name": "stdout",
          "text": [
            "221/221 [==============================] - 1s 2ms/step\n",
            "26/26 [==============================] - 0s 3ms/step\n",
            "13/13 [==============================] - 0s 2ms/step\n"
          ]
        },
        {
          "output_type": "stream",
          "name": "stderr",
          "text": [
            "\r 82%|████████▏ | 82/100 [05:18<01:02,  3.46s/it]"
          ]
        },
        {
          "output_type": "stream",
          "name": "stdout",
          "text": [
            "221/221 [==============================] - 1s 3ms/step\n",
            "26/26 [==============================] - 0s 3ms/step\n",
            "13/13 [==============================] - 0s 3ms/step\n"
          ]
        },
        {
          "output_type": "stream",
          "name": "stderr",
          "text": [
            "\r 83%|████████▎ | 83/100 [05:22<00:57,  3.37s/it]"
          ]
        },
        {
          "output_type": "stream",
          "name": "stdout",
          "text": [
            "221/221 [==============================] - 1s 2ms/step\n",
            "26/26 [==============================] - 0s 3ms/step\n",
            "13/13 [==============================] - 0s 3ms/step\n"
          ]
        },
        {
          "output_type": "stream",
          "name": "stderr",
          "text": [
            "\r 84%|████████▍ | 84/100 [05:25<00:54,  3.42s/it]"
          ]
        },
        {
          "output_type": "stream",
          "name": "stdout",
          "text": [
            "221/221 [==============================] - 2s 4ms/step\n",
            "26/26 [==============================] - 0s 3ms/step\n",
            "13/13 [==============================] - 0s 3ms/step\n"
          ]
        },
        {
          "output_type": "stream",
          "name": "stderr",
          "text": [
            "\r 85%|████████▌ | 85/100 [05:29<00:54,  3.66s/it]"
          ]
        },
        {
          "output_type": "stream",
          "name": "stdout",
          "text": [
            "221/221 [==============================] - 1s 2ms/step\n",
            "26/26 [==============================] - 0s 3ms/step\n",
            "13/13 [==============================] - 0s 2ms/step\n"
          ]
        },
        {
          "output_type": "stream",
          "name": "stderr",
          "text": [
            "\r 86%|████████▌ | 86/100 [05:32<00:48,  3.50s/it]"
          ]
        },
        {
          "output_type": "stream",
          "name": "stdout",
          "text": [
            "221/221 [==============================] - 1s 2ms/step\n",
            "26/26 [==============================] - 0s 3ms/step\n",
            "13/13 [==============================] - 0s 3ms/step\n"
          ]
        },
        {
          "output_type": "stream",
          "name": "stderr",
          "text": [
            "\r 87%|████████▋ | 87/100 [05:36<00:43,  3.36s/it]"
          ]
        },
        {
          "output_type": "stream",
          "name": "stdout",
          "text": [
            "221/221 [==============================] - 1s 3ms/step\n",
            "26/26 [==============================] - 0s 4ms/step\n",
            "13/13 [==============================] - 0s 4ms/step\n"
          ]
        },
        {
          "output_type": "stream",
          "name": "stderr",
          "text": [
            "\r 88%|████████▊ | 88/100 [05:40<00:43,  3.66s/it]"
          ]
        },
        {
          "output_type": "stream",
          "name": "stdout",
          "text": [
            "221/221 [==============================] - 1s 2ms/step\n",
            "26/26 [==============================] - 0s 3ms/step\n",
            "13/13 [==============================] - 0s 3ms/step\n"
          ]
        },
        {
          "output_type": "stream",
          "name": "stderr",
          "text": [
            "\r 89%|████████▉ | 89/100 [05:43<00:38,  3.51s/it]"
          ]
        },
        {
          "output_type": "stream",
          "name": "stdout",
          "text": [
            "221/221 [==============================] - 1s 2ms/step\n",
            "26/26 [==============================] - 0s 2ms/step\n",
            "13/13 [==============================] - 0s 3ms/step\n"
          ]
        },
        {
          "output_type": "stream",
          "name": "stderr",
          "text": [
            "\r 90%|█████████ | 90/100 [05:47<00:35,  3.54s/it]"
          ]
        },
        {
          "output_type": "stream",
          "name": "stdout",
          "text": [
            "221/221 [==============================] - 2s 2ms/step\n",
            "26/26 [==============================] - 0s 3ms/step\n",
            "13/13 [==============================] - 0s 3ms/step\n"
          ]
        },
        {
          "output_type": "stream",
          "name": "stderr",
          "text": [
            "\r 91%|█████████ | 91/100 [05:50<00:31,  3.54s/it]"
          ]
        },
        {
          "output_type": "stream",
          "name": "stdout",
          "text": [
            "221/221 [==============================] - 2s 3ms/step\n",
            "26/26 [==============================] - 0s 4ms/step\n",
            "13/13 [==============================] - 0s 5ms/step\n"
          ]
        },
        {
          "output_type": "stream",
          "name": "stderr",
          "text": [
            "\r 92%|█████████▏| 92/100 [05:55<00:30,  3.80s/it]"
          ]
        },
        {
          "output_type": "stream",
          "name": "stdout",
          "text": [
            "221/221 [==============================] - 1s 3ms/step\n",
            "26/26 [==============================] - 0s 3ms/step\n",
            "13/13 [==============================] - 0s 3ms/step\n"
          ]
        },
        {
          "output_type": "stream",
          "name": "stderr",
          "text": [
            "\r 93%|█████████▎| 93/100 [05:58<00:25,  3.69s/it]"
          ]
        },
        {
          "output_type": "stream",
          "name": "stdout",
          "text": [
            "221/221 [==============================] - 1s 3ms/step\n",
            "26/26 [==============================] - 0s 3ms/step\n",
            "13/13 [==============================] - 0s 3ms/step\n"
          ]
        },
        {
          "output_type": "stream",
          "name": "stderr",
          "text": [
            "\r 94%|█████████▍| 94/100 [06:01<00:21,  3.53s/it]"
          ]
        },
        {
          "output_type": "stream",
          "name": "stdout",
          "text": [
            "221/221 [==============================] - 1s 2ms/step\n",
            "26/26 [==============================] - 0s 4ms/step\n",
            "13/13 [==============================] - 0s 3ms/step\n"
          ]
        },
        {
          "output_type": "stream",
          "name": "stderr",
          "text": [
            "\r 95%|█████████▌| 95/100 [06:05<00:17,  3.58s/it]"
          ]
        },
        {
          "output_type": "stream",
          "name": "stdout",
          "text": [
            "221/221 [==============================] - 1s 2ms/step\n",
            "26/26 [==============================] - 0s 3ms/step\n",
            "13/13 [==============================] - 0s 3ms/step\n"
          ]
        },
        {
          "output_type": "stream",
          "name": "stderr",
          "text": [
            "\r 96%|█████████▌| 96/100 [06:08<00:14,  3.54s/it]"
          ]
        },
        {
          "output_type": "stream",
          "name": "stdout",
          "text": [
            "221/221 [==============================] - 1s 3ms/step\n",
            "26/26 [==============================] - 0s 3ms/step\n",
            "13/13 [==============================] - 0s 3ms/step\n"
          ]
        },
        {
          "output_type": "stream",
          "name": "stderr",
          "text": [
            "\r 97%|█████████▋| 97/100 [06:12<00:10,  3.58s/it]"
          ]
        },
        {
          "output_type": "stream",
          "name": "stdout",
          "text": [
            "221/221 [==============================] - 1s 2ms/step\n",
            "26/26 [==============================] - 0s 3ms/step\n",
            "13/13 [==============================] - 0s 3ms/step\n"
          ]
        },
        {
          "output_type": "stream",
          "name": "stderr",
          "text": [
            "\r 98%|█████████▊| 98/100 [06:15<00:06,  3.43s/it]"
          ]
        },
        {
          "output_type": "stream",
          "name": "stdout",
          "text": [
            "221/221 [==============================] - 2s 4ms/step\n",
            "26/26 [==============================] - 0s 4ms/step\n",
            "13/13 [==============================] - 0s 3ms/step\n"
          ]
        },
        {
          "output_type": "stream",
          "name": "stderr",
          "text": [
            "\r 99%|█████████▉| 99/100 [06:20<00:03,  3.82s/it]"
          ]
        },
        {
          "output_type": "stream",
          "name": "stdout",
          "text": [
            "221/221 [==============================] - 1s 2ms/step\n",
            "26/26 [==============================] - 0s 3ms/step\n",
            "13/13 [==============================] - 0s 3ms/step\n"
          ]
        },
        {
          "output_type": "stream",
          "name": "stderr",
          "text": [
            "100%|██████████| 100/100 [06:24<00:00,  3.84s/it]\n"
          ]
        }
      ],
      "source": [
        "#df_pre, df_strat = run_models(\n",
        "#    \"/content/drive/MyDrive/Deep Learning aplicado al trading algorítmico/EURUSD_Daily_1990.csv\",\n",
        "#    \"/content/drive/MyDrive/Deep Learning aplicado al trading algorítmico/Models_DNN/\"\n",
        "#);\n",
        "\n",
        "df_pre_RNN, df_strat_RNN = run_models_RNN(\n",
        "    \"^GSPC\",\n",
        "    \"/content/drive/MyDrive/Deep Learning aplicado al trading algorítmico/Models/ModelsRNN_^GSPC/\"\n",
        ");"
      ]
    },
    {
      "cell_type": "markdown",
      "metadata": {
        "id": "bgRa_OYuGQSC"
      },
      "source": [
        "#Run Models DTT"
      ]
    },
    {
      "cell_type": "markdown",
      "metadata": {
        "id": "6naZaPhwGQSD"
      },
      "source": [
        "Run models"
      ]
    },
    {
      "cell_type": "code",
      "source": [
        "#df_pre, df_strat = run_models(\n",
        "#    \"/content/drive/MyDrive/Deep Learning aplicado al trading algorítmico/EURUSD_Daily_1990.csv\",\n",
        "#    \"/content/drive/MyDrive/Deep Learning aplicado al trading algorítmico/Models_DNN/\"\n",
        "#);\n",
        "\n",
        "df_pre_DTT, df_strat_DTT = run_models_DTT(\n",
        "    \"^GSPC\",\n",
        "    \"/content/drive/MyDrive/Deep Learning aplicado al trading algorítmico/Models/ModelsDTT_^GSPC/\"\n",
        ");"
      ],
      "metadata": {
        "colab": {
          "base_uri": "https://localhost:8080/"
        },
        "id": "MtoTEQfAEBbN",
        "outputId": "64af84fa-3197-455b-83fc-cded278aa2c1"
      },
      "execution_count": null,
      "outputs": [
        {
          "output_type": "stream",
          "name": "stderr",
          "text": [
            "\r  0%|          | 0/100 [00:00<?, ?it/s]"
          ]
        },
        {
          "output_type": "stream",
          "name": "stdout",
          "text": [
            "221/221 [==============================] - 5s 4ms/step\n",
            "26/26 [==============================] - 0s 4ms/step\n",
            "13/13 [==============================] - 0s 4ms/step\n"
          ]
        },
        {
          "output_type": "stream",
          "name": "stderr",
          "text": [
            "\r  1%|          | 1/100 [00:07<13:08,  7.96s/it]"
          ]
        },
        {
          "output_type": "stream",
          "name": "stdout",
          "text": [
            "221/221 [==============================] - 1s 3ms/step\n",
            "26/26 [==============================] - 0s 3ms/step\n",
            "13/13 [==============================] - 0s 3ms/step\n"
          ]
        },
        {
          "output_type": "stream",
          "name": "stderr",
          "text": [
            "\r  2%|▏         | 2/100 [00:12<09:35,  5.87s/it]"
          ]
        },
        {
          "output_type": "stream",
          "name": "stdout",
          "text": [
            "221/221 [==============================] - 1s 3ms/step\n",
            "26/26 [==============================] - 0s 3ms/step\n",
            "13/13 [==============================] - 0s 3ms/step\n"
          ]
        },
        {
          "output_type": "stream",
          "name": "stderr",
          "text": [
            "\r  3%|▎         | 3/100 [00:16<07:54,  4.89s/it]"
          ]
        },
        {
          "output_type": "stream",
          "name": "stdout",
          "text": [
            "221/221 [==============================] - 1s 4ms/step\n",
            "26/26 [==============================] - 0s 4ms/step\n",
            "13/13 [==============================] - 0s 5ms/step\n"
          ]
        },
        {
          "output_type": "stream",
          "name": "stderr",
          "text": [
            "\r  4%|▍         | 4/100 [00:20<07:28,  4.67s/it]"
          ]
        },
        {
          "output_type": "stream",
          "name": "stdout",
          "text": [
            "221/221 [==============================] - 1s 3ms/step\n",
            "26/26 [==============================] - 0s 4ms/step\n",
            "13/13 [==============================] - 0s 3ms/step\n"
          ]
        },
        {
          "output_type": "stream",
          "name": "stderr",
          "text": [
            "\r  5%|▌         | 5/100 [00:24<07:10,  4.54s/it]"
          ]
        },
        {
          "output_type": "stream",
          "name": "stdout",
          "text": [
            "221/221 [==============================] - 1s 3ms/step\n",
            "26/26 [==============================] - 0s 3ms/step\n",
            "13/13 [==============================] - 0s 3ms/step\n"
          ]
        },
        {
          "output_type": "stream",
          "name": "stderr",
          "text": [
            "\r  6%|▌         | 6/100 [00:28<06:56,  4.44s/it]"
          ]
        },
        {
          "output_type": "stream",
          "name": "stdout",
          "text": [
            "221/221 [==============================] - 2s 4ms/step\n",
            "26/26 [==============================] - 0s 4ms/step\n",
            "13/13 [==============================] - 0s 5ms/step\n"
          ]
        },
        {
          "output_type": "stream",
          "name": "stderr",
          "text": [
            "\r  7%|▋         | 7/100 [00:33<06:59,  4.51s/it]"
          ]
        },
        {
          "output_type": "stream",
          "name": "stdout",
          "text": [
            "221/221 [==============================] - 1s 3ms/step\n",
            "26/26 [==============================] - 0s 3ms/step\n",
            "13/13 [==============================] - 0s 3ms/step\n"
          ]
        },
        {
          "output_type": "stream",
          "name": "stderr",
          "text": [
            "\r  8%|▊         | 8/100 [00:37<06:47,  4.42s/it]"
          ]
        },
        {
          "output_type": "stream",
          "name": "stdout",
          "text": [
            "221/221 [==============================] - 1s 3ms/step\n",
            "26/26 [==============================] - 0s 3ms/step\n",
            "13/13 [==============================] - 0s 4ms/step\n"
          ]
        },
        {
          "output_type": "stream",
          "name": "stderr",
          "text": [
            "\r  9%|▉         | 9/100 [00:41<06:22,  4.21s/it]"
          ]
        },
        {
          "output_type": "stream",
          "name": "stdout",
          "text": [
            "221/221 [==============================] - 2s 4ms/step\n",
            "26/26 [==============================] - 0s 5ms/step\n",
            "13/13 [==============================] - 0s 5ms/step\n"
          ]
        },
        {
          "output_type": "stream",
          "name": "stderr",
          "text": [
            "\r 10%|█         | 10/100 [00:45<06:17,  4.20s/it]"
          ]
        },
        {
          "output_type": "stream",
          "name": "stdout",
          "text": [
            "221/221 [==============================] - 1s 3ms/step\n",
            "26/26 [==============================] - 0s 3ms/step\n",
            "13/13 [==============================] - 0s 3ms/step\n"
          ]
        },
        {
          "output_type": "stream",
          "name": "stderr",
          "text": [
            "\r 11%|█         | 11/100 [00:49<06:07,  4.13s/it]"
          ]
        },
        {
          "output_type": "stream",
          "name": "stdout",
          "text": [
            "221/221 [==============================] - 1s 3ms/step\n",
            "26/26 [==============================] - 0s 3ms/step\n",
            "13/13 [==============================] - 0s 3ms/step\n"
          ]
        },
        {
          "output_type": "stream",
          "name": "stderr",
          "text": [
            "\r 12%|█▏        | 12/100 [00:54<06:06,  4.17s/it]"
          ]
        },
        {
          "output_type": "stream",
          "name": "stdout",
          "text": [
            "221/221 [==============================] - 2s 4ms/step\n",
            "26/26 [==============================] - 0s 4ms/step\n",
            "13/13 [==============================] - 0s 4ms/step\n"
          ]
        },
        {
          "output_type": "stream",
          "name": "stderr",
          "text": [
            "\r 13%|█▎        | 13/100 [00:58<06:17,  4.34s/it]"
          ]
        },
        {
          "output_type": "stream",
          "name": "stdout",
          "text": [
            "221/221 [==============================] - 1s 3ms/step\n",
            "26/26 [==============================] - 0s 3ms/step\n",
            "13/13 [==============================] - 0s 3ms/step\n"
          ]
        },
        {
          "output_type": "stream",
          "name": "stderr",
          "text": [
            "\r 14%|█▍        | 14/100 [01:03<06:12,  4.33s/it]"
          ]
        },
        {
          "output_type": "stream",
          "name": "stdout",
          "text": [
            "221/221 [==============================] - 1s 3ms/step\n",
            "26/26 [==============================] - 0s 3ms/step\n",
            "13/13 [==============================] - 0s 3ms/step\n"
          ]
        },
        {
          "output_type": "stream",
          "name": "stderr",
          "text": [
            "\r 15%|█▌        | 15/100 [01:07<06:07,  4.33s/it]"
          ]
        },
        {
          "output_type": "stream",
          "name": "stdout",
          "text": [
            "221/221 [==============================] - 2s 4ms/step\n",
            "26/26 [==============================] - 0s 4ms/step\n",
            "13/13 [==============================] - 0s 6ms/step\n"
          ]
        },
        {
          "output_type": "stream",
          "name": "stderr",
          "text": [
            "\r 16%|█▌        | 16/100 [01:11<06:06,  4.37s/it]"
          ]
        },
        {
          "output_type": "stream",
          "name": "stdout",
          "text": [
            "221/221 [==============================] - 1s 3ms/step\n",
            "26/26 [==============================] - 0s 3ms/step\n",
            "13/13 [==============================] - 0s 3ms/step\n"
          ]
        },
        {
          "output_type": "stream",
          "name": "stderr",
          "text": [
            "\r 17%|█▋        | 17/100 [01:16<06:13,  4.50s/it]"
          ]
        },
        {
          "output_type": "stream",
          "name": "stdout",
          "text": [
            "221/221 [==============================] - 1s 3ms/step\n",
            "26/26 [==============================] - 0s 3ms/step\n",
            "13/13 [==============================] - 0s 4ms/step\n"
          ]
        },
        {
          "output_type": "stream",
          "name": "stderr",
          "text": [
            "\r 18%|█▊        | 18/100 [01:20<06:02,  4.42s/it]"
          ]
        },
        {
          "output_type": "stream",
          "name": "stdout",
          "text": [
            "221/221 [==============================] - 2s 4ms/step\n",
            "26/26 [==============================] - 0s 5ms/step\n",
            "13/13 [==============================] - 0s 4ms/step\n"
          ]
        },
        {
          "output_type": "stream",
          "name": "stderr",
          "text": [
            "\r 19%|█▉        | 19/100 [01:26<06:22,  4.72s/it]"
          ]
        },
        {
          "output_type": "stream",
          "name": "stdout",
          "text": [
            "221/221 [==============================] - 1s 3ms/step\n",
            "26/26 [==============================] - 0s 4ms/step\n",
            "13/13 [==============================] - 0s 3ms/step\n"
          ]
        },
        {
          "output_type": "stream",
          "name": "stderr",
          "text": [
            "\r 20%|██        | 20/100 [01:30<06:09,  4.62s/it]"
          ]
        },
        {
          "output_type": "stream",
          "name": "stdout",
          "text": [
            "221/221 [==============================] - 1s 3ms/step\n",
            "26/26 [==============================] - 0s 3ms/step\n",
            "13/13 [==============================] - 0s 3ms/step\n"
          ]
        },
        {
          "output_type": "stream",
          "name": "stderr",
          "text": [
            "\r 21%|██        | 21/100 [01:34<05:57,  4.53s/it]"
          ]
        },
        {
          "output_type": "stream",
          "name": "stdout",
          "text": [
            "221/221 [==============================] - 2s 4ms/step\n",
            "26/26 [==============================] - 0s 3ms/step\n",
            "13/13 [==============================] - 0s 4ms/step\n"
          ]
        },
        {
          "output_type": "stream",
          "name": "stderr",
          "text": [
            "\r 22%|██▏       | 22/100 [01:39<05:57,  4.59s/it]"
          ]
        },
        {
          "output_type": "stream",
          "name": "stdout",
          "text": [
            "221/221 [==============================] - 1s 3ms/step\n",
            "26/26 [==============================] - 0s 3ms/step\n",
            "13/13 [==============================] - 0s 3ms/step\n"
          ]
        },
        {
          "output_type": "stream",
          "name": "stderr",
          "text": [
            "\r 23%|██▎       | 23/100 [01:43<05:34,  4.35s/it]"
          ]
        },
        {
          "output_type": "stream",
          "name": "stdout",
          "text": [
            "221/221 [==============================] - 1s 3ms/step\n",
            "26/26 [==============================] - 0s 3ms/step\n",
            "13/13 [==============================] - 0s 3ms/step\n"
          ]
        },
        {
          "output_type": "stream",
          "name": "stderr",
          "text": [
            "\r 24%|██▍       | 24/100 [01:47<05:15,  4.15s/it]"
          ]
        },
        {
          "output_type": "stream",
          "name": "stdout",
          "text": [
            "221/221 [==============================] - 2s 4ms/step\n",
            "26/26 [==============================] - 0s 3ms/step\n",
            "13/13 [==============================] - 0s 3ms/step\n"
          ]
        },
        {
          "output_type": "stream",
          "name": "stderr",
          "text": [
            "\r 25%|██▌       | 25/100 [01:53<05:58,  4.78s/it]"
          ]
        },
        {
          "output_type": "stream",
          "name": "stdout",
          "text": [
            "221/221 [==============================] - 1s 3ms/step\n",
            "26/26 [==============================] - 0s 3ms/step\n",
            "13/13 [==============================] - 0s 3ms/step\n"
          ]
        },
        {
          "output_type": "stream",
          "name": "stderr",
          "text": [
            "\r 26%|██▌       | 26/100 [01:58<05:53,  4.78s/it]"
          ]
        },
        {
          "output_type": "stream",
          "name": "stdout",
          "text": [
            "221/221 [==============================] - 1s 3ms/step\n",
            "26/26 [==============================] - 0s 3ms/step\n",
            "13/13 [==============================] - 0s 4ms/step\n"
          ]
        },
        {
          "output_type": "stream",
          "name": "stderr",
          "text": [
            "\r 27%|██▋       | 27/100 [02:02<05:41,  4.68s/it]"
          ]
        },
        {
          "output_type": "stream",
          "name": "stdout",
          "text": [
            "221/221 [==============================] - 1s 3ms/step\n",
            "26/26 [==============================] - 0s 3ms/step\n",
            "13/13 [==============================] - 0s 3ms/step\n"
          ]
        },
        {
          "output_type": "stream",
          "name": "stderr",
          "text": [
            "\r 28%|██▊       | 28/100 [02:06<05:22,  4.48s/it]"
          ]
        },
        {
          "output_type": "stream",
          "name": "stdout",
          "text": [
            "221/221 [==============================] - 1s 3ms/step\n",
            "26/26 [==============================] - 0s 3ms/step\n",
            "13/13 [==============================] - 0s 3ms/step\n"
          ]
        },
        {
          "output_type": "stream",
          "name": "stderr",
          "text": [
            "\r 29%|██▉       | 29/100 [02:10<05:14,  4.43s/it]"
          ]
        },
        {
          "output_type": "stream",
          "name": "stdout",
          "text": [
            "221/221 [==============================] - 1s 3ms/step\n",
            "26/26 [==============================] - 0s 5ms/step\n",
            "13/13 [==============================] - 0s 5ms/step\n"
          ]
        },
        {
          "output_type": "stream",
          "name": "stderr",
          "text": [
            "\r 30%|███       | 30/100 [02:15<05:13,  4.47s/it]"
          ]
        },
        {
          "output_type": "stream",
          "name": "stdout",
          "text": [
            "221/221 [==============================] - 1s 3ms/step\n",
            "26/26 [==============================] - 0s 3ms/step\n",
            "13/13 [==============================] - 0s 3ms/step\n"
          ]
        },
        {
          "output_type": "stream",
          "name": "stderr",
          "text": [
            "\r 31%|███       | 31/100 [02:19<05:06,  4.44s/it]"
          ]
        },
        {
          "output_type": "stream",
          "name": "stdout",
          "text": [
            "221/221 [==============================] - 2s 3ms/step\n",
            "26/26 [==============================] - 0s 3ms/step\n",
            "13/13 [==============================] - 0s 3ms/step\n"
          ]
        },
        {
          "output_type": "stream",
          "name": "stderr",
          "text": [
            "\r 32%|███▏      | 32/100 [02:24<05:06,  4.50s/it]"
          ]
        },
        {
          "output_type": "stream",
          "name": "stdout",
          "text": [
            "221/221 [==============================] - 2s 4ms/step\n",
            "26/26 [==============================] - 0s 4ms/step\n",
            "13/13 [==============================] - 0s 4ms/step\n"
          ]
        },
        {
          "output_type": "stream",
          "name": "stderr",
          "text": [
            "\r 33%|███▎      | 33/100 [02:28<04:59,  4.46s/it]"
          ]
        },
        {
          "output_type": "stream",
          "name": "stdout",
          "text": [
            "221/221 [==============================] - 1s 3ms/step\n",
            "26/26 [==============================] - 0s 3ms/step\n",
            "13/13 [==============================] - 0s 3ms/step\n"
          ]
        },
        {
          "output_type": "stream",
          "name": "stderr",
          "text": [
            "\r 34%|███▍      | 34/100 [02:33<04:47,  4.35s/it]"
          ]
        },
        {
          "output_type": "stream",
          "name": "stdout",
          "text": [
            "221/221 [==============================] - 1s 3ms/step\n",
            "26/26 [==============================] - 0s 3ms/step\n",
            "13/13 [==============================] - 0s 3ms/step\n"
          ]
        },
        {
          "output_type": "stream",
          "name": "stderr",
          "text": [
            "\r 35%|███▌      | 35/100 [02:36<04:25,  4.08s/it]"
          ]
        },
        {
          "output_type": "stream",
          "name": "stdout",
          "text": [
            "221/221 [==============================] - 1s 3ms/step\n",
            "26/26 [==============================] - 0s 4ms/step\n",
            "13/13 [==============================] - 0s 4ms/step\n"
          ]
        },
        {
          "output_type": "stream",
          "name": "stderr",
          "text": [
            "\r 36%|███▌      | 36/100 [02:40<04:21,  4.09s/it]"
          ]
        },
        {
          "output_type": "stream",
          "name": "stdout",
          "text": [
            "221/221 [==============================] - 1s 3ms/step\n",
            "26/26 [==============================] - 0s 3ms/step\n",
            "13/13 [==============================] - 0s 3ms/step\n"
          ]
        },
        {
          "output_type": "stream",
          "name": "stderr",
          "text": [
            "\r 37%|███▋      | 37/100 [02:45<04:24,  4.19s/it]"
          ]
        },
        {
          "output_type": "stream",
          "name": "stdout",
          "text": [
            "221/221 [==============================] - 1s 3ms/step\n",
            "26/26 [==============================] - 0s 3ms/step\n",
            "13/13 [==============================] - 0s 3ms/step\n"
          ]
        },
        {
          "output_type": "stream",
          "name": "stderr",
          "text": [
            "\r 38%|███▊      | 38/100 [02:48<04:12,  4.07s/it]"
          ]
        },
        {
          "output_type": "stream",
          "name": "stdout",
          "text": [
            "221/221 [==============================] - 1s 3ms/step\n",
            "26/26 [==============================] - 0s 5ms/step\n",
            "13/13 [==============================] - 0s 4ms/step\n"
          ]
        },
        {
          "output_type": "stream",
          "name": "stderr",
          "text": [
            "\r 39%|███▉      | 39/100 [02:52<04:09,  4.10s/it]"
          ]
        },
        {
          "output_type": "stream",
          "name": "stdout",
          "text": [
            "221/221 [==============================] - 1s 3ms/step\n",
            "26/26 [==============================] - 0s 3ms/step\n",
            "13/13 [==============================] - 0s 4ms/step\n"
          ]
        },
        {
          "output_type": "stream",
          "name": "stderr",
          "text": [
            "\r 40%|████      | 40/100 [02:56<04:01,  4.02s/it]"
          ]
        },
        {
          "output_type": "stream",
          "name": "stdout",
          "text": [
            "221/221 [==============================] - 1s 3ms/step\n",
            "26/26 [==============================] - 0s 4ms/step\n",
            "13/13 [==============================] - 0s 3ms/step\n"
          ]
        },
        {
          "output_type": "stream",
          "name": "stderr",
          "text": [
            "\r 41%|████      | 41/100 [03:01<04:00,  4.08s/it]"
          ]
        },
        {
          "output_type": "stream",
          "name": "stdout",
          "text": [
            "221/221 [==============================] - 1s 3ms/step\n",
            "26/26 [==============================] - 0s 5ms/step\n",
            "13/13 [==============================] - 0s 4ms/step\n"
          ]
        },
        {
          "output_type": "stream",
          "name": "stderr",
          "text": [
            "\r 42%|████▏     | 42/100 [03:05<04:01,  4.17s/it]"
          ]
        },
        {
          "output_type": "stream",
          "name": "stdout",
          "text": [
            "221/221 [==============================] - 1s 3ms/step\n",
            "26/26 [==============================] - 0s 3ms/step\n",
            "13/13 [==============================] - 0s 4ms/step\n"
          ]
        },
        {
          "output_type": "stream",
          "name": "stderr",
          "text": [
            "\r 43%|████▎     | 43/100 [03:10<04:05,  4.31s/it]"
          ]
        },
        {
          "output_type": "stream",
          "name": "stdout",
          "text": [
            "221/221 [==============================] - 1s 3ms/step\n",
            "26/26 [==============================] - 0s 3ms/step\n",
            "13/13 [==============================] - 0s 3ms/step\n"
          ]
        },
        {
          "output_type": "stream",
          "name": "stderr",
          "text": [
            "\r 44%|████▍     | 44/100 [03:14<04:05,  4.38s/it]"
          ]
        },
        {
          "output_type": "stream",
          "name": "stdout",
          "text": [
            "221/221 [==============================] - 2s 4ms/step\n",
            "26/26 [==============================] - 0s 5ms/step\n",
            "13/13 [==============================] - 0s 5ms/step\n"
          ]
        },
        {
          "output_type": "stream",
          "name": "stderr",
          "text": [
            "\r 45%|████▌     | 45/100 [03:19<04:03,  4.43s/it]"
          ]
        },
        {
          "output_type": "stream",
          "name": "stdout",
          "text": [
            "221/221 [==============================] - 1s 3ms/step\n",
            "26/26 [==============================] - 0s 3ms/step\n",
            "13/13 [==============================] - 0s 3ms/step\n"
          ]
        },
        {
          "output_type": "stream",
          "name": "stderr",
          "text": [
            "\r 46%|████▌     | 46/100 [03:23<03:50,  4.27s/it]"
          ]
        },
        {
          "output_type": "stream",
          "name": "stdout",
          "text": [
            "221/221 [==============================] - 1s 3ms/step\n",
            "26/26 [==============================] - 0s 3ms/step\n",
            "13/13 [==============================] - 0s 3ms/step\n"
          ]
        },
        {
          "output_type": "stream",
          "name": "stderr",
          "text": [
            "\r 47%|████▋     | 47/100 [03:27<03:47,  4.30s/it]"
          ]
        },
        {
          "output_type": "stream",
          "name": "stdout",
          "text": [
            "221/221 [==============================] - 2s 4ms/step\n",
            "26/26 [==============================] - 0s 4ms/step\n",
            "13/13 [==============================] - 0s 5ms/step\n"
          ]
        },
        {
          "output_type": "stream",
          "name": "stderr",
          "text": [
            "\r 48%|████▊     | 48/100 [03:32<03:53,  4.50s/it]"
          ]
        },
        {
          "output_type": "stream",
          "name": "stdout",
          "text": [
            "221/221 [==============================] - 1s 3ms/step\n",
            "26/26 [==============================] - 0s 3ms/step\n",
            "13/13 [==============================] - 0s 3ms/step\n"
          ]
        },
        {
          "output_type": "stream",
          "name": "stderr",
          "text": [
            "\r 49%|████▉     | 49/100 [03:36<03:45,  4.42s/it]"
          ]
        },
        {
          "output_type": "stream",
          "name": "stdout",
          "text": [
            "221/221 [==============================] - 1s 3ms/step\n",
            "26/26 [==============================] - 0s 3ms/step\n",
            "13/13 [==============================] - 0s 3ms/step\n"
          ]
        },
        {
          "output_type": "stream",
          "name": "stderr",
          "text": [
            "\r 50%|█████     | 50/100 [03:40<03:38,  4.37s/it]"
          ]
        },
        {
          "output_type": "stream",
          "name": "stdout",
          "text": [
            "221/221 [==============================] - 2s 4ms/step\n",
            "26/26 [==============================] - 0s 4ms/step\n",
            "13/13 [==============================] - 0s 5ms/step\n"
          ]
        },
        {
          "output_type": "stream",
          "name": "stderr",
          "text": [
            "\r 51%|█████     | 51/100 [03:45<03:41,  4.53s/it]"
          ]
        },
        {
          "output_type": "stream",
          "name": "stdout",
          "text": [
            "221/221 [==============================] - 1s 3ms/step\n",
            "26/26 [==============================] - 0s 3ms/step\n",
            "13/13 [==============================] - 0s 3ms/step\n"
          ]
        },
        {
          "output_type": "stream",
          "name": "stderr",
          "text": [
            "\r 52%|█████▏    | 52/100 [03:49<03:28,  4.33s/it]"
          ]
        },
        {
          "output_type": "stream",
          "name": "stdout",
          "text": [
            "221/221 [==============================] - 1s 3ms/step\n",
            "26/26 [==============================] - 0s 3ms/step\n",
            "13/13 [==============================] - 0s 3ms/step\n"
          ]
        },
        {
          "output_type": "stream",
          "name": "stderr",
          "text": [
            "\r 53%|█████▎    | 53/100 [03:53<03:20,  4.28s/it]"
          ]
        },
        {
          "output_type": "stream",
          "name": "stdout",
          "text": [
            "221/221 [==============================] - 2s 4ms/step\n",
            "26/26 [==============================] - 0s 4ms/step\n",
            "13/13 [==============================] - 0s 4ms/step\n"
          ]
        },
        {
          "output_type": "stream",
          "name": "stderr",
          "text": [
            "\r 54%|█████▍    | 54/100 [03:57<03:15,  4.26s/it]"
          ]
        },
        {
          "output_type": "stream",
          "name": "stdout",
          "text": [
            "221/221 [==============================] - 1s 3ms/step\n",
            "26/26 [==============================] - 0s 3ms/step\n",
            "13/13 [==============================] - 0s 3ms/step\n"
          ]
        },
        {
          "output_type": "stream",
          "name": "stderr",
          "text": [
            "\r 55%|█████▌    | 55/100 [04:03<03:28,  4.64s/it]"
          ]
        },
        {
          "output_type": "stream",
          "name": "stdout",
          "text": [
            "221/221 [==============================] - 1s 3ms/step\n",
            "26/26 [==============================] - 0s 3ms/step\n",
            "13/13 [==============================] - 0s 3ms/step\n"
          ]
        },
        {
          "output_type": "stream",
          "name": "stderr",
          "text": [
            "\r 56%|█████▌    | 56/100 [04:07<03:15,  4.44s/it]"
          ]
        },
        {
          "output_type": "stream",
          "name": "stdout",
          "text": [
            "221/221 [==============================] - 2s 4ms/step\n",
            "26/26 [==============================] - 0s 4ms/step\n",
            "13/13 [==============================] - 0s 4ms/step\n"
          ]
        },
        {
          "output_type": "stream",
          "name": "stderr",
          "text": [
            "\r 57%|█████▋    | 57/100 [04:12<03:13,  4.49s/it]"
          ]
        },
        {
          "output_type": "stream",
          "name": "stdout",
          "text": [
            "221/221 [==============================] - 1s 3ms/step\n",
            "26/26 [==============================] - 0s 3ms/step\n",
            "13/13 [==============================] - 0s 3ms/step\n"
          ]
        },
        {
          "output_type": "stream",
          "name": "stderr",
          "text": [
            "\r 58%|█████▊    | 58/100 [04:16<03:10,  4.54s/it]"
          ]
        },
        {
          "output_type": "stream",
          "name": "stdout",
          "text": [
            "221/221 [==============================] - 1s 3ms/step\n",
            "26/26 [==============================] - 0s 3ms/step\n",
            "13/13 [==============================] - 0s 3ms/step\n"
          ]
        },
        {
          "output_type": "stream",
          "name": "stderr",
          "text": [
            "\r 59%|█████▉    | 59/100 [04:20<03:02,  4.45s/it]"
          ]
        },
        {
          "output_type": "stream",
          "name": "stdout",
          "text": [
            "221/221 [==============================] - 2s 4ms/step\n",
            "26/26 [==============================] - 0s 5ms/step\n",
            "13/13 [==============================] - 0s 5ms/step\n"
          ]
        },
        {
          "output_type": "stream",
          "name": "stderr",
          "text": [
            "\r 60%|██████    | 60/100 [04:25<03:01,  4.54s/it]"
          ]
        },
        {
          "output_type": "stream",
          "name": "stdout",
          "text": [
            "221/221 [==============================] - 1s 3ms/step\n",
            "26/26 [==============================] - 0s 3ms/step\n",
            "13/13 [==============================] - 0s 3ms/step\n"
          ]
        },
        {
          "output_type": "stream",
          "name": "stderr",
          "text": [
            "\r 61%|██████    | 61/100 [04:29<02:50,  4.38s/it]"
          ]
        },
        {
          "output_type": "stream",
          "name": "stdout",
          "text": [
            "221/221 [==============================] - 1s 3ms/step\n",
            "26/26 [==============================] - 0s 3ms/step\n",
            "13/13 [==============================] - 0s 3ms/step\n"
          ]
        },
        {
          "output_type": "stream",
          "name": "stderr",
          "text": [
            "\r 62%|██████▏   | 62/100 [04:33<02:40,  4.21s/it]"
          ]
        },
        {
          "output_type": "stream",
          "name": "stdout",
          "text": [
            "221/221 [==============================] - 2s 4ms/step\n",
            "26/26 [==============================] - 0s 4ms/step\n",
            "13/13 [==============================] - 0s 5ms/step\n"
          ]
        },
        {
          "output_type": "stream",
          "name": "stderr",
          "text": [
            "\r 63%|██████▎   | 63/100 [04:38<02:38,  4.29s/it]"
          ]
        },
        {
          "output_type": "stream",
          "name": "stdout",
          "text": [
            "221/221 [==============================] - 1s 3ms/step\n",
            "26/26 [==============================] - 0s 3ms/step\n",
            "13/13 [==============================] - 0s 3ms/step\n"
          ]
        },
        {
          "output_type": "stream",
          "name": "stderr",
          "text": [
            "\r 64%|██████▍   | 64/100 [04:41<02:28,  4.13s/it]"
          ]
        },
        {
          "output_type": "stream",
          "name": "stdout",
          "text": [
            "221/221 [==============================] - 1s 3ms/step\n",
            "26/26 [==============================] - 0s 3ms/step\n",
            "13/13 [==============================] - 0s 3ms/step\n"
          ]
        },
        {
          "output_type": "stream",
          "name": "stderr",
          "text": [
            "\r 65%|██████▌   | 65/100 [04:46<02:30,  4.31s/it]"
          ]
        },
        {
          "output_type": "stream",
          "name": "stdout",
          "text": [
            "221/221 [==============================] - 2s 4ms/step\n",
            "26/26 [==============================] - 0s 4ms/step\n",
            "13/13 [==============================] - 0s 4ms/step\n"
          ]
        },
        {
          "output_type": "stream",
          "name": "stderr",
          "text": [
            "\r 66%|██████▌   | 66/100 [04:51<02:30,  4.44s/it]"
          ]
        },
        {
          "output_type": "stream",
          "name": "stdout",
          "text": [
            "221/221 [==============================] - 1s 3ms/step\n",
            "26/26 [==============================] - 0s 3ms/step\n",
            "13/13 [==============================] - 0s 3ms/step\n"
          ]
        },
        {
          "output_type": "stream",
          "name": "stderr",
          "text": [
            "\r 67%|██████▋   | 67/100 [04:55<02:26,  4.43s/it]"
          ]
        },
        {
          "output_type": "stream",
          "name": "stdout",
          "text": [
            "221/221 [==============================] - 1s 3ms/step\n",
            "26/26 [==============================] - 0s 3ms/step\n",
            "13/13 [==============================] - 0s 3ms/step\n"
          ]
        },
        {
          "output_type": "stream",
          "name": "stderr",
          "text": [
            "\r 68%|██████▊   | 68/100 [04:59<02:19,  4.36s/it]"
          ]
        },
        {
          "output_type": "stream",
          "name": "stdout",
          "text": [
            "221/221 [==============================] - 2s 4ms/step\n",
            "26/26 [==============================] - 0s 3ms/step\n",
            "13/13 [==============================] - 0s 4ms/step\n"
          ]
        },
        {
          "output_type": "stream",
          "name": "stderr",
          "text": [
            "\r 69%|██████▉   | 69/100 [05:05<02:26,  4.72s/it]"
          ]
        },
        {
          "output_type": "stream",
          "name": "stdout",
          "text": [
            "221/221 [==============================] - 1s 3ms/step\n",
            "26/26 [==============================] - 0s 3ms/step\n",
            "13/13 [==============================] - 0s 3ms/step\n"
          ]
        },
        {
          "output_type": "stream",
          "name": "stderr",
          "text": [
            "\r 70%|███████   | 70/100 [05:09<02:17,  4.57s/it]"
          ]
        },
        {
          "output_type": "stream",
          "name": "stdout",
          "text": [
            "221/221 [==============================] - 2s 3ms/step\n",
            "26/26 [==============================] - 0s 3ms/step\n",
            "13/13 [==============================] - 0s 3ms/step\n"
          ]
        },
        {
          "output_type": "stream",
          "name": "stderr",
          "text": [
            "\r 71%|███████   | 71/100 [05:14<02:11,  4.53s/it]"
          ]
        },
        {
          "output_type": "stream",
          "name": "stdout",
          "text": [
            "221/221 [==============================] - 2s 4ms/step\n",
            "26/26 [==============================] - 0s 3ms/step\n",
            "13/13 [==============================] - 0s 3ms/step\n"
          ]
        },
        {
          "output_type": "stream",
          "name": "stderr",
          "text": [
            "\r 72%|███████▏  | 72/100 [05:18<02:09,  4.63s/it]"
          ]
        },
        {
          "output_type": "stream",
          "name": "stdout",
          "text": [
            "221/221 [==============================] - 1s 3ms/step\n",
            "26/26 [==============================] - 0s 3ms/step\n",
            "13/13 [==============================] - 0s 3ms/step\n"
          ]
        },
        {
          "output_type": "stream",
          "name": "stderr",
          "text": [
            "\r 73%|███████▎  | 73/100 [05:23<02:01,  4.51s/it]"
          ]
        },
        {
          "output_type": "stream",
          "name": "stdout",
          "text": [
            "221/221 [==============================] - 1s 3ms/step\n",
            "26/26 [==============================] - 0s 3ms/step\n",
            "13/13 [==============================] - 0s 4ms/step\n"
          ]
        },
        {
          "output_type": "stream",
          "name": "stderr",
          "text": [
            "\r 74%|███████▍  | 74/100 [05:26<01:50,  4.26s/it]"
          ]
        },
        {
          "output_type": "stream",
          "name": "stdout",
          "text": [
            "221/221 [==============================] - 2s 4ms/step\n",
            "26/26 [==============================] - 0s 5ms/step\n",
            "13/13 [==============================] - 0s 5ms/step\n"
          ]
        },
        {
          "output_type": "stream",
          "name": "stderr",
          "text": [
            "\r 75%|███████▌  | 75/100 [05:31<01:47,  4.30s/it]"
          ]
        },
        {
          "output_type": "stream",
          "name": "stdout",
          "text": [
            "221/221 [==============================] - 1s 3ms/step\n",
            "26/26 [==============================] - 0s 3ms/step\n",
            "13/13 [==============================] - 0s 3ms/step\n"
          ]
        },
        {
          "output_type": "stream",
          "name": "stderr",
          "text": [
            "\r 76%|███████▌  | 76/100 [05:34<01:37,  4.04s/it]"
          ]
        },
        {
          "output_type": "stream",
          "name": "stdout",
          "text": [
            "221/221 [==============================] - 1s 3ms/step\n",
            "26/26 [==============================] - 0s 3ms/step\n",
            "13/13 [==============================] - 0s 3ms/step\n"
          ]
        },
        {
          "output_type": "stream",
          "name": "stderr",
          "text": [
            "\r 77%|███████▋  | 77/100 [05:38<01:33,  4.06s/it]"
          ]
        },
        {
          "output_type": "stream",
          "name": "stdout",
          "text": [
            "221/221 [==============================] - 2s 4ms/step\n",
            "26/26 [==============================] - 0s 5ms/step\n",
            "13/13 [==============================] - 0s 5ms/step\n"
          ]
        },
        {
          "output_type": "stream",
          "name": "stderr",
          "text": [
            "\r 78%|███████▊  | 78/100 [05:43<01:34,  4.28s/it]"
          ]
        },
        {
          "output_type": "stream",
          "name": "stdout",
          "text": [
            "221/221 [==============================] - 1s 3ms/step\n",
            "26/26 [==============================] - 0s 3ms/step\n",
            "13/13 [==============================] - 0s 3ms/step\n"
          ]
        },
        {
          "output_type": "stream",
          "name": "stderr",
          "text": [
            "\r 79%|███████▉  | 79/100 [05:47<01:30,  4.29s/it]"
          ]
        },
        {
          "output_type": "stream",
          "name": "stdout",
          "text": [
            "221/221 [==============================] - 1s 3ms/step\n",
            "26/26 [==============================] - 0s 3ms/step\n",
            "13/13 [==============================] - 0s 3ms/step\n"
          ]
        },
        {
          "output_type": "stream",
          "name": "stderr",
          "text": [
            "\r 80%|████████  | 80/100 [05:52<01:25,  4.30s/it]"
          ]
        },
        {
          "output_type": "stream",
          "name": "stdout",
          "text": [
            "221/221 [==============================] - 2s 4ms/step\n",
            "26/26 [==============================] - 0s 5ms/step\n",
            "13/13 [==============================] - 0s 4ms/step\n"
          ]
        },
        {
          "output_type": "stream",
          "name": "stderr",
          "text": [
            "\r 81%|████████  | 81/100 [05:57<01:27,  4.58s/it]"
          ]
        },
        {
          "output_type": "stream",
          "name": "stdout",
          "text": [
            "221/221 [==============================] - 1s 3ms/step\n",
            "26/26 [==============================] - 0s 3ms/step\n",
            "13/13 [==============================] - 0s 3ms/step\n"
          ]
        },
        {
          "output_type": "stream",
          "name": "stderr",
          "text": [
            "\r 82%|████████▏ | 82/100 [06:01<01:17,  4.30s/it]"
          ]
        },
        {
          "output_type": "stream",
          "name": "stdout",
          "text": [
            "221/221 [==============================] - 1s 3ms/step\n",
            "26/26 [==============================] - 0s 3ms/step\n",
            "13/13 [==============================] - 0s 4ms/step\n"
          ]
        },
        {
          "output_type": "stream",
          "name": "stderr",
          "text": [
            "\r 83%|████████▎ | 83/100 [06:05<01:12,  4.27s/it]"
          ]
        },
        {
          "output_type": "stream",
          "name": "stdout",
          "text": [
            "221/221 [==============================] - 2s 4ms/step\n",
            "26/26 [==============================] - 0s 5ms/step\n",
            "13/13 [==============================] - 0s 6ms/step\n"
          ]
        },
        {
          "output_type": "stream",
          "name": "stderr",
          "text": [
            "\r 84%|████████▍ | 84/100 [06:09<01:09,  4.32s/it]"
          ]
        },
        {
          "output_type": "stream",
          "name": "stdout",
          "text": [
            "221/221 [==============================] - 1s 3ms/step\n",
            "26/26 [==============================] - 0s 3ms/step\n",
            "13/13 [==============================] - 0s 3ms/step\n"
          ]
        },
        {
          "output_type": "stream",
          "name": "stderr",
          "text": [
            "\r 85%|████████▌ | 85/100 [06:14<01:08,  4.59s/it]"
          ]
        },
        {
          "output_type": "stream",
          "name": "stdout",
          "text": [
            "221/221 [==============================] - 1s 3ms/step\n",
            "26/26 [==============================] - 0s 4ms/step\n",
            "13/13 [==============================] - 0s 3ms/step\n"
          ]
        },
        {
          "output_type": "stream",
          "name": "stderr",
          "text": [
            "\r 86%|████████▌ | 86/100 [06:18<01:01,  4.36s/it]"
          ]
        },
        {
          "output_type": "stream",
          "name": "stdout",
          "text": [
            "221/221 [==============================] - 2s 4ms/step\n",
            "26/26 [==============================] - 0s 4ms/step\n",
            "13/13 [==============================] - 0s 4ms/step\n"
          ]
        },
        {
          "output_type": "stream",
          "name": "stderr",
          "text": [
            "\r 87%|████████▋ | 87/100 [06:23<00:59,  4.56s/it]"
          ]
        },
        {
          "output_type": "stream",
          "name": "stdout",
          "text": [
            "221/221 [==============================] - 1s 3ms/step\n",
            "26/26 [==============================] - 0s 3ms/step\n",
            "13/13 [==============================] - 0s 3ms/step\n"
          ]
        },
        {
          "output_type": "stream",
          "name": "stderr",
          "text": [
            "\r 88%|████████▊ | 88/100 [06:27<00:51,  4.33s/it]"
          ]
        },
        {
          "output_type": "stream",
          "name": "stdout",
          "text": [
            "221/221 [==============================] - 1s 3ms/step\n",
            "26/26 [==============================] - 0s 3ms/step\n",
            "13/13 [==============================] - 0s 3ms/step\n"
          ]
        },
        {
          "output_type": "stream",
          "name": "stderr",
          "text": [
            "\r 89%|████████▉ | 89/100 [06:31<00:45,  4.14s/it]"
          ]
        },
        {
          "output_type": "stream",
          "name": "stdout",
          "text": [
            "221/221 [==============================] - 2s 4ms/step\n",
            "26/26 [==============================] - 0s 5ms/step\n",
            "13/13 [==============================] - 0s 4ms/step\n"
          ]
        },
        {
          "output_type": "stream",
          "name": "stderr",
          "text": [
            "\r 90%|█████████ | 90/100 [06:35<00:42,  4.26s/it]"
          ]
        },
        {
          "output_type": "stream",
          "name": "stdout",
          "text": [
            "221/221 [==============================] - 1s 3ms/step\n",
            "26/26 [==============================] - 0s 3ms/step\n",
            "13/13 [==============================] - 0s 4ms/step\n"
          ]
        },
        {
          "output_type": "stream",
          "name": "stderr",
          "text": [
            "\r 91%|█████████ | 91/100 [06:40<00:40,  4.47s/it]"
          ]
        },
        {
          "output_type": "stream",
          "name": "stdout",
          "text": [
            "221/221 [==============================] - 1s 3ms/step\n",
            "26/26 [==============================] - 0s 3ms/step\n",
            "13/13 [==============================] - 0s 3ms/step\n"
          ]
        },
        {
          "output_type": "stream",
          "name": "stderr",
          "text": [
            "\r 92%|█████████▏| 92/100 [06:45<00:35,  4.41s/it]"
          ]
        },
        {
          "output_type": "stream",
          "name": "stdout",
          "text": [
            "221/221 [==============================] - 2s 4ms/step\n",
            "26/26 [==============================] - 0s 4ms/step\n",
            "13/13 [==============================] - 0s 4ms/step\n"
          ]
        },
        {
          "output_type": "stream",
          "name": "stderr",
          "text": [
            "\r 93%|█████████▎| 93/100 [06:49<00:31,  4.56s/it]"
          ]
        },
        {
          "output_type": "stream",
          "name": "stdout",
          "text": [
            "221/221 [==============================] - 1s 3ms/step\n",
            "26/26 [==============================] - 0s 3ms/step\n",
            "13/13 [==============================] - 0s 4ms/step\n"
          ]
        },
        {
          "output_type": "stream",
          "name": "stderr",
          "text": [
            "\r 94%|█████████▍| 94/100 [06:53<00:25,  4.28s/it]"
          ]
        },
        {
          "output_type": "stream",
          "name": "stdout",
          "text": [
            "221/221 [==============================] - 1s 3ms/step\n",
            "26/26 [==============================] - 0s 3ms/step\n",
            "13/13 [==============================] - 0s 3ms/step\n"
          ]
        },
        {
          "output_type": "stream",
          "name": "stderr",
          "text": [
            "\r 95%|█████████▌| 95/100 [06:59<00:24,  4.80s/it]"
          ]
        },
        {
          "output_type": "stream",
          "name": "stdout",
          "text": [
            "221/221 [==============================] - 2s 3ms/step\n",
            "26/26 [==============================] - 0s 3ms/step\n",
            "13/13 [==============================] - 0s 3ms/step\n"
          ]
        },
        {
          "output_type": "stream",
          "name": "stderr",
          "text": [
            "\r 96%|█████████▌| 96/100 [07:03<00:18,  4.61s/it]"
          ]
        },
        {
          "output_type": "stream",
          "name": "stdout",
          "text": [
            "221/221 [==============================] - 1s 3ms/step\n",
            "26/26 [==============================] - 0s 3ms/step\n",
            "13/13 [==============================] - 0s 3ms/step\n"
          ]
        },
        {
          "output_type": "stream",
          "name": "stderr",
          "text": [
            "\r 97%|█████████▋| 97/100 [07:08<00:13,  4.52s/it]"
          ]
        },
        {
          "output_type": "stream",
          "name": "stdout",
          "text": [
            "221/221 [==============================] - 1s 3ms/step\n",
            "26/26 [==============================] - 0s 3ms/step\n",
            "13/13 [==============================] - 0s 4ms/step\n"
          ]
        },
        {
          "output_type": "stream",
          "name": "stderr",
          "text": [
            "\r 98%|█████████▊| 98/100 [07:12<00:08,  4.50s/it]"
          ]
        },
        {
          "output_type": "stream",
          "name": "stdout",
          "text": [
            "221/221 [==============================] - 2s 3ms/step\n",
            "26/26 [==============================] - 0s 3ms/step\n",
            "13/13 [==============================] - 0s 3ms/step\n"
          ]
        },
        {
          "output_type": "stream",
          "name": "stderr",
          "text": [
            "\r 99%|█████████▉| 99/100 [07:16<00:04,  4.40s/it]"
          ]
        },
        {
          "output_type": "stream",
          "name": "stdout",
          "text": [
            "221/221 [==============================] - 1s 3ms/step\n",
            "26/26 [==============================] - 0s 3ms/step\n",
            "13/13 [==============================] - 0s 4ms/step\n"
          ]
        },
        {
          "output_type": "stream",
          "name": "stderr",
          "text": [
            "100%|██████████| 100/100 [07:20<00:00,  4.41s/it]\n"
          ]
        }
      ]
    },
    {
      "cell_type": "code",
      "execution_count": null,
      "metadata": {
        "colab": {
          "base_uri": "https://localhost:8080/"
        },
        "id": "RRtZpeGK3TdB",
        "outputId": "558cd1b0-4632-4254-a825-83f28a238210"
      },
      "outputs": [
        {
          "output_type": "execute_result",
          "data": {
            "text/plain": [
              "[('RNN_38',\n",
              "  'RNN_16',\n",
              "  'DTT_88',\n",
              "  'RNN_40',\n",
              "  'RNN_12',\n",
              "  'RNN_1',\n",
              "  'RNN_43',\n",
              "  'DTT_66',\n",
              "  'RNN_81'),\n",
              " ('RNN_38',\n",
              "  'RNN_16',\n",
              "  'DTT_88',\n",
              "  'RNN_40',\n",
              "  'RNN_12',\n",
              "  'RNN_1',\n",
              "  'RNN_43',\n",
              "  'DTT_15',\n",
              "  'DTT_66'),\n",
              " ('RNN_38',\n",
              "  'RNN_16',\n",
              "  'DTT_88',\n",
              "  'RNN_40',\n",
              "  'RNN_12',\n",
              "  'RNN_1',\n",
              "  'DTT_53',\n",
              "  'DTT_15',\n",
              "  'DTT_66'),\n",
              " ('RNN_38',\n",
              "  'RNN_16',\n",
              "  'DTT_88',\n",
              "  'RNN_83',\n",
              "  'RNN_40',\n",
              "  'RNN_12',\n",
              "  'RNN_1',\n",
              "  'RNN_43',\n",
              "  'DTT_66'),\n",
              " ('RNN_38',\n",
              "  'RNN_16',\n",
              "  'DTT_88',\n",
              "  'RNN_40',\n",
              "  'RNN_12',\n",
              "  'RNN_1',\n",
              "  'DTT_15',\n",
              "  'DTT_66',\n",
              "  'RNN_81'),\n",
              " ('RNN_38',\n",
              "  'RNN_16',\n",
              "  'DTT_88',\n",
              "  'RNN_83',\n",
              "  'RNN_40',\n",
              "  'RNN_12',\n",
              "  'RNN_1',\n",
              "  'RNN_43',\n",
              "  'DTT_53',\n",
              "  'DTT_15',\n",
              "  'DTT_66'),\n",
              " ('RNN_16',\n",
              "  'DTT_88',\n",
              "  'RNN_57',\n",
              "  'RNN_40',\n",
              "  'RNN_12',\n",
              "  'RNN_1',\n",
              "  'DTT_53',\n",
              "  'DTT_66',\n",
              "  'RNN_81',\n",
              "  'DTT_28',\n",
              "  'DTT_49'),\n",
              " ('RNN_38',\n",
              "  'RNN_16',\n",
              "  'DTT_88',\n",
              "  'RNN_83',\n",
              "  'RNN_12',\n",
              "  'RNN_1',\n",
              "  'RNN_43',\n",
              "  'DTT_15',\n",
              "  'DTT_66'),\n",
              " ('RNN_38',\n",
              "  'RNN_16',\n",
              "  'DTT_88',\n",
              "  'RNN_40',\n",
              "  'RNN_12',\n",
              "  'RNN_1',\n",
              "  'DTT_53',\n",
              "  'DTT_15',\n",
              "  'DTT_66',\n",
              "  'RNN_81',\n",
              "  'DTT_49'),\n",
              " ('RNN_38',\n",
              "  'RNN_16',\n",
              "  'DTT_88',\n",
              "  'RNN_83',\n",
              "  'RNN_40',\n",
              "  'RNN_12',\n",
              "  'RNN_1',\n",
              "  'RNN_43',\n",
              "  'DTT_15'),\n",
              " ('DTT_88',\n",
              "  'RNN_57',\n",
              "  'RNN_40',\n",
              "  'RNN_12',\n",
              "  'RNN_1',\n",
              "  'RNN_43',\n",
              "  'DTT_66',\n",
              "  'RNN_81',\n",
              "  'DTT_28'),\n",
              " ('RNN_16',\n",
              "  'DTT_88',\n",
              "  'RNN_83',\n",
              "  'RNN_57',\n",
              "  'RNN_40',\n",
              "  'RNN_12',\n",
              "  'RNN_1',\n",
              "  'RNN_43',\n",
              "  'DTT_53',\n",
              "  'DTT_66',\n",
              "  'RNN_81',\n",
              "  'DTT_28',\n",
              "  'DTT_49'),\n",
              " ('RNN_38',\n",
              "  'RNN_16',\n",
              "  'DTT_88',\n",
              "  'RNN_40',\n",
              "  'RNN_12',\n",
              "  'RNN_1',\n",
              "  'DTT_53',\n",
              "  'DTT_15',\n",
              "  'DTT_66',\n",
              "  'RNN_81',\n",
              "  'DTT_28'),\n",
              " ('RNN_38',\n",
              "  'RNN_16',\n",
              "  'DTT_88',\n",
              "  'RNN_40',\n",
              "  'RNN_12',\n",
              "  'RNN_1',\n",
              "  'DTT_53',\n",
              "  'DTT_66',\n",
              "  'RNN_81'),\n",
              " ('RNN_16',\n",
              "  'DTT_88',\n",
              "  'RNN_57',\n",
              "  'RNN_40',\n",
              "  'RNN_12',\n",
              "  'RNN_1',\n",
              "  'DTT_53',\n",
              "  'DTT_66',\n",
              "  'DTT_28'),\n",
              " ('DTT_88',\n",
              "  'RNN_57',\n",
              "  'RNN_40',\n",
              "  'RNN_12',\n",
              "  'RNN_1',\n",
              "  'RNN_43',\n",
              "  'DTT_53',\n",
              "  'DTT_66',\n",
              "  'DTT_28'),\n",
              " ('RNN_38',\n",
              "  'RNN_16',\n",
              "  'DTT_88',\n",
              "  'RNN_83',\n",
              "  'RNN_40',\n",
              "  'RNN_12',\n",
              "  'RNN_1',\n",
              "  'RNN_43',\n",
              "  'DTT_53',\n",
              "  'DTT_66',\n",
              "  'RNN_81'),\n",
              " ('RNN_38',\n",
              "  'RNN_16',\n",
              "  'DTT_88',\n",
              "  'RNN_83',\n",
              "  'RNN_40',\n",
              "  'RNN_12',\n",
              "  'RNN_1',\n",
              "  'DTT_53',\n",
              "  'DTT_15',\n",
              "  'DTT_66',\n",
              "  'DTT_49'),\n",
              " ('RNN_38',\n",
              "  'RNN_16',\n",
              "  'DTT_88',\n",
              "  'RNN_40',\n",
              "  'RNN_12',\n",
              "  'RNN_1',\n",
              "  'DTT_15',\n",
              "  'RNN_81',\n",
              "  'DTT_49'),\n",
              " ('RNN_38', 'RNN_16', 'DTT_88', 'RNN_40', 'RNN_1', 'RNN_43', 'DTT_66'),\n",
              " ('RNN_38',\n",
              "  'RNN_16',\n",
              "  'DTT_88',\n",
              "  'RNN_40',\n",
              "  'RNN_12',\n",
              "  'RNN_1',\n",
              "  'RNN_43',\n",
              "  'DTT_15',\n",
              "  'DTT_66',\n",
              "  'RNN_81',\n",
              "  'DTT_28'),\n",
              " ('RNN_16',\n",
              "  'DTT_88',\n",
              "  'RNN_57',\n",
              "  'RNN_40',\n",
              "  'RNN_12',\n",
              "  'RNN_1',\n",
              "  'DTT_53',\n",
              "  'DTT_66',\n",
              "  'RNN_81'),\n",
              " ('RNN_38',\n",
              "  'RNN_16',\n",
              "  'DTT_88',\n",
              "  'RNN_40',\n",
              "  'RNN_12',\n",
              "  'RNN_1',\n",
              "  'RNN_43',\n",
              "  'DTT_53',\n",
              "  'DTT_66',\n",
              "  'RNN_81',\n",
              "  'DTT_28'),\n",
              " ('RNN_38',\n",
              "  'DTT_88',\n",
              "  'RNN_57',\n",
              "  'RNN_40',\n",
              "  'RNN_12',\n",
              "  'RNN_1',\n",
              "  'RNN_43',\n",
              "  'RNN_81',\n",
              "  'DTT_28'),\n",
              " ('RNN_38',\n",
              "  'DTT_88',\n",
              "  'RNN_40',\n",
              "  'RNN_12',\n",
              "  'RNN_1',\n",
              "  'RNN_43',\n",
              "  'DTT_53',\n",
              "  'DTT_15',\n",
              "  'DTT_66',\n",
              "  'RNN_81',\n",
              "  'DTT_28'),\n",
              " ('RNN_38',\n",
              "  'RNN_16',\n",
              "  'DTT_88',\n",
              "  'RNN_40',\n",
              "  'RNN_12',\n",
              "  'RNN_1',\n",
              "  'RNN_43',\n",
              "  'DTT_53',\n",
              "  'DTT_66'),\n",
              " ('RNN_38',\n",
              "  'RNN_16',\n",
              "  'DTT_88',\n",
              "  'RNN_48',\n",
              "  'RNN_40',\n",
              "  'RNN_12',\n",
              "  'RNN_1',\n",
              "  'RNN_43',\n",
              "  'DTT_15',\n",
              "  'RNN_81',\n",
              "  'DTT_28'),\n",
              " ('DTT_88',\n",
              "  'RNN_57',\n",
              "  'RNN_40',\n",
              "  'RNN_12',\n",
              "  'RNN_1',\n",
              "  'RNN_43',\n",
              "  'DTT_53',\n",
              "  'DTT_66',\n",
              "  'RNN_81',\n",
              "  'DTT_28',\n",
              "  'DTT_49'),\n",
              " ('RNN_16',\n",
              "  'DTT_88',\n",
              "  'RNN_40',\n",
              "  'RNN_12',\n",
              "  'RNN_1',\n",
              "  'RNN_43',\n",
              "  'DTT_53',\n",
              "  'DTT_15',\n",
              "  'DTT_66'),\n",
              " ('RNN_38',\n",
              "  'RNN_16',\n",
              "  'DTT_88',\n",
              "  'RNN_57',\n",
              "  'RNN_40',\n",
              "  'RNN_12',\n",
              "  'RNN_1',\n",
              "  'DTT_53',\n",
              "  'DTT_15',\n",
              "  'DTT_66',\n",
              "  'DTT_49'),\n",
              " ('RNN_38',\n",
              "  'RNN_16',\n",
              "  'DTT_88',\n",
              "  'RNN_40',\n",
              "  'RNN_1',\n",
              "  'DTT_53',\n",
              "  'DTT_15',\n",
              "  'DTT_66',\n",
              "  'DTT_49'),\n",
              " ('DTT_88',\n",
              "  'RNN_57',\n",
              "  'RNN_40',\n",
              "  'RNN_12',\n",
              "  'RNN_1',\n",
              "  'DTT_53',\n",
              "  'DTT_66',\n",
              "  'DTT_28',\n",
              "  'DTT_49'),\n",
              " ('RNN_38',\n",
              "  'RNN_16',\n",
              "  'DTT_88',\n",
              "  'RNN_40',\n",
              "  'RNN_12',\n",
              "  'RNN_1',\n",
              "  'RNN_43',\n",
              "  'DTT_53',\n",
              "  'DTT_15',\n",
              "  'DTT_66',\n",
              "  'DTT_28'),\n",
              " ('RNN_38',\n",
              "  'RNN_16',\n",
              "  'DTT_88',\n",
              "  'RNN_83',\n",
              "  'RNN_40',\n",
              "  'RNN_1',\n",
              "  'RNN_43',\n",
              "  'DTT_53',\n",
              "  'DTT_15',\n",
              "  'DTT_66',\n",
              "  'DTT_49'),\n",
              " ('RNN_38',\n",
              "  'RNN_16',\n",
              "  'DTT_88',\n",
              "  'RNN_57',\n",
              "  'RNN_40',\n",
              "  'RNN_12',\n",
              "  'RNN_1',\n",
              "  'RNN_43',\n",
              "  'DTT_53',\n",
              "  'DTT_15',\n",
              "  'DTT_66'),\n",
              " ('DTT_88', 'RNN_57', 'RNN_40', 'RNN_12', 'RNN_1', 'DTT_53', 'DTT_66'),\n",
              " ('RNN_38',\n",
              "  'RNN_16',\n",
              "  'DTT_88',\n",
              "  'RNN_48',\n",
              "  'RNN_12',\n",
              "  'RNN_1',\n",
              "  'RNN_43',\n",
              "  'DTT_15',\n",
              "  'DTT_66'),\n",
              " ('RNN_38',\n",
              "  'DTT_88',\n",
              "  'RNN_57',\n",
              "  'RNN_40',\n",
              "  'RNN_12',\n",
              "  'RNN_1',\n",
              "  'RNN_43',\n",
              "  'DTT_53',\n",
              "  'DTT_66',\n",
              "  'RNN_81',\n",
              "  'DTT_28'),\n",
              " ('RNN_38',\n",
              "  'RNN_16',\n",
              "  'DTT_88',\n",
              "  'RNN_83',\n",
              "  'RNN_40',\n",
              "  'RNN_1',\n",
              "  'RNN_43',\n",
              "  'DTT_53',\n",
              "  'DTT_66'),\n",
              " ('RNN_38',\n",
              "  'RNN_16',\n",
              "  'DTT_88',\n",
              "  'RNN_83',\n",
              "  'RNN_57',\n",
              "  'RNN_40',\n",
              "  'RNN_12',\n",
              "  'RNN_1',\n",
              "  'RNN_43',\n",
              "  'DTT_53',\n",
              "  'DTT_15',\n",
              "  'DTT_66',\n",
              "  'DTT_49'),\n",
              " ('RNN_38',\n",
              "  'RNN_16',\n",
              "  'RNN_83',\n",
              "  'RNN_40',\n",
              "  'RNN_12',\n",
              "  'RNN_1',\n",
              "  'RNN_43',\n",
              "  'DTT_53',\n",
              "  'DTT_15',\n",
              "  'DTT_66',\n",
              "  'DTT_49'),\n",
              " ('RNN_38',\n",
              "  'RNN_16',\n",
              "  'DTT_88',\n",
              "  'RNN_83',\n",
              "  'RNN_57',\n",
              "  'RNN_40',\n",
              "  'RNN_12',\n",
              "  'RNN_1',\n",
              "  'RNN_43',\n",
              "  'DTT_66',\n",
              "  'DTT_28'),\n",
              " ('RNN_38',\n",
              "  'RNN_16',\n",
              "  'DTT_88',\n",
              "  'RNN_40',\n",
              "  'RNN_12',\n",
              "  'RNN_1',\n",
              "  'RNN_43',\n",
              "  'DTT_15',\n",
              "  'DTT_66',\n",
              "  'RNN_81',\n",
              "  'DTT_49'),\n",
              " ('RNN_38',\n",
              "  'RNN_16',\n",
              "  'DTT_88',\n",
              "  'RNN_83',\n",
              "  'RNN_57',\n",
              "  'RNN_40',\n",
              "  'RNN_12',\n",
              "  'RNN_1',\n",
              "  'RNN_43',\n",
              "  'DTT_53',\n",
              "  'DTT_66'),\n",
              " ('RNN_38',\n",
              "  'RNN_16',\n",
              "  'DTT_88',\n",
              "  'RNN_48',\n",
              "  'RNN_12',\n",
              "  'RNN_1',\n",
              "  'RNN_43',\n",
              "  'DTT_53',\n",
              "  'DTT_15',\n",
              "  'DTT_66',\n",
              "  'RNN_81'),\n",
              " ('RNN_38',\n",
              "  'RNN_16',\n",
              "  'DTT_88',\n",
              "  'RNN_57',\n",
              "  'RNN_40',\n",
              "  'RNN_12',\n",
              "  'RNN_1',\n",
              "  'RNN_43',\n",
              "  'DTT_15'),\n",
              " ('RNN_38',\n",
              "  'RNN_16',\n",
              "  'DTT_88',\n",
              "  'RNN_48',\n",
              "  'RNN_12',\n",
              "  'RNN_1',\n",
              "  'RNN_43',\n",
              "  'DTT_53',\n",
              "  'DTT_66',\n",
              "  'RNN_81',\n",
              "  'DTT_28'),\n",
              " ('RNN_38',\n",
              "  'DTT_88',\n",
              "  'RNN_48',\n",
              "  'RNN_12',\n",
              "  'RNN_1',\n",
              "  'RNN_43',\n",
              "  'DTT_53',\n",
              "  'DTT_15',\n",
              "  'DTT_66',\n",
              "  'RNN_81',\n",
              "  'DTT_28'),\n",
              " ('RNN_38',\n",
              "  'RNN_16',\n",
              "  'DTT_88',\n",
              "  'RNN_48',\n",
              "  'RNN_40',\n",
              "  'RNN_12',\n",
              "  'RNN_1',\n",
              "  'RNN_43',\n",
              "  'DTT_53',\n",
              "  'DTT_15',\n",
              "  'DTT_66'),\n",
              " ('RNN_38',\n",
              "  'RNN_16',\n",
              "  'DTT_88',\n",
              "  'RNN_83',\n",
              "  'RNN_57',\n",
              "  'RNN_40',\n",
              "  'RNN_12',\n",
              "  'RNN_1',\n",
              "  'RNN_43',\n",
              "  'DTT_15',\n",
              "  'DTT_66')]"
            ]
          },
          "metadata": {},
          "execution_count": 163
        }
      ],
      "source": [
        "optimum_select_comb(\n",
        "pd.concat((df_pre_RNN, df_pre_DTT),axis=1),\n",
        "pd.concat((df_strat_RNN, df_strat_DTT),axis=1)\n",
        ")"
      ]
    },
    {
      "cell_type": "markdown",
      "metadata": {
        "id": "mbskh7OU8KAG"
      },
      "source": [
        "#Backtesting"
      ]
    },
    {
      "cell_type": "code",
      "execution_count": null,
      "metadata": {
        "colab": {
          "base_uri": "https://localhost:8080/",
          "height": 1000
        },
        "id": "XQAavrtft80S",
        "outputId": "6b8b6e16-4c5f-44f6-d63f-db0cbf9fa714"
      },
      "outputs": [
        {
          "output_type": "display_data",
          "data": {
            "text/plain": [
              "<Figure size 1500x800 with 1 Axes>"
            ],
            "image/png": "[encoded data removed]"
          },
          "metadata": {}
        },
        {
          "output_type": "stream",
          "name": "stdout",
          "text": [
            "              RNN_38    RNN_16    RNN_40    RNN_12     RNN_1    RNN_43  \\\n",
            "date                                                                     \n",
            "1990-03-29       NaN       NaN       NaN       NaN       NaN       NaN   \n",
            "1990-03-30 -0.000000 -0.000000 -0.000000 -0.000000 -0.000000 -0.000000   \n",
            "1990-04-02 -0.000000 -0.000000 -0.000000 -0.000000 -0.000000 -0.000000   \n",
            "1990-04-03  0.000000  0.000000  0.000000  0.000000  0.000000  0.000000   \n",
            "1990-04-04 -0.000000 -0.000000 -0.000000 -0.000000 -0.000000 -0.000000   \n",
            "...              ...       ...       ...       ...       ...       ...   \n",
            "2023-03-31  0.014437  0.014437 -0.014437 -0.014437 -0.014437 -0.014437   \n",
            "2023-04-03  0.003699  0.003699 -0.003699 -0.003699 -0.003699 -0.003699   \n",
            "2023-04-04 -0.005797 -0.005797  0.005797 -0.005797  0.005797  0.005797   \n",
            "2023-04-05 -0.002492 -0.002492  0.002492  0.002492  0.002492  0.002492   \n",
            "2023-04-06  0.003579 -0.003579 -0.003579 -0.003579 -0.003579 -0.003579   \n",
            "\n",
            "              RNN_81    DTT_88    DTT_66  \n",
            "date                                      \n",
            "1990-03-29       NaN       NaN       NaN  \n",
            "1990-03-30 -0.000000 -0.000000 -0.000000  \n",
            "1990-04-02 -0.000000 -0.000000 -0.000000  \n",
            "1990-04-03  0.000000  0.000000  0.000000  \n",
            "1990-04-04 -0.000000 -0.000000 -0.000000  \n",
            "...              ...       ...       ...  \n",
            "2023-03-31  0.014437 -0.014437  0.014437  \n",
            "2023-04-03  0.003699 -0.003699  0.003699  \n",
            "2023-04-04 -0.005797  0.005797 -0.005797  \n",
            "2023-04-05 -0.002492  0.002492 -0.002492  \n",
            "2023-04-06  0.003579 -0.003579  0.003579  \n",
            "\n",
            "[8320 rows x 9 columns]\n"
          ]
        }
      ],
      "source": [
        "#Selección de los modelos con las mejores estrategias:\n",
        "best_models_DTT = ['DTT_88','DTT_66']\n",
        "best_models_RNN = ['RNN_38','RNN_16','RNN_40','RNN_12','RNN_1','RNN_43','RNN_81']\n",
        "\n",
        "best_strategies = pd.concat(\n",
        "    (\n",
        "        df_strat_RNN[best_models_RNN].iloc[:],\n",
        "        df_strat_DTT[best_models_DTT].iloc[:]\n",
        "    ),\n",
        "    axis = 1\n",
        ")\n",
        "\n",
        "\n",
        "#Graph val-test\n",
        "plt.figure(figsize=(15,8))\n",
        "plt.plot(best_strategies.cumsum(axis=0), alpha=0.6)\n",
        "plt.axhline(0, color=\"red\") \n",
        "plt.title(\"DNN + RNN Returns validation & testing data\")\n",
        "plt.ylabel(\"Return\")\n",
        "plt.xlabel(\"Time\")\n",
        "plt.show()\n",
        "print(best_strategies)"
      ]
    },
    {
      "cell_type": "code",
      "execution_count": null,
      "metadata": {
        "colab": {
          "base_uri": "https://localhost:8080/",
          "height": 455
        },
        "id": "mC6iqdCNSZ1r",
        "outputId": "bdfa2b8d-79bb-4dd0-d4d1-08e4a19d9d1f"
      },
      "outputs": [
        {
          "output_type": "execute_result",
          "data": {
            "text/plain": [
              "              RNN_38    RNN_16    RNN_40    RNN_12     RNN_1    RNN_43  \\\n",
              "date                                                                     \n",
              "2018-04-24  0.000000  0.000000  0.000000  0.000000  0.000000  0.000000   \n",
              "2018-04-25  0.000000  0.000000  0.000000  0.000000  0.000000  0.000000   \n",
              "2018-04-26  0.000000  0.000000  0.000000  0.000000  0.000000  0.000000   \n",
              "2018-04-27  0.000000  0.000000  0.000000  0.000000  0.000000  0.000000   \n",
              "2018-04-30  0.000000  0.000000  0.000000  0.000000  0.000000  0.000000   \n",
              "...              ...       ...       ...       ...       ...       ...   \n",
              "2023-03-31  0.001148  0.000956 -0.000408 -0.000529 -0.003154 -0.000786   \n",
              "2023-04-03  0.001088  0.000425 -0.000356  0.000187 -0.002782 -0.000992   \n",
              "2023-04-04  0.000953  0.000036 -0.000209 -0.000407 -0.001519 -0.001059   \n",
              "2023-04-05  0.000966 -0.000333 -0.000207 -0.000863 -0.000827 -0.001057   \n",
              "2023-04-06  0.000835 -0.000113 -0.000433 -0.001433 -0.001043 -0.000772   \n",
              "\n",
              "              RNN_81    DTT_88    DTT_66  Buy  Sell  \n",
              "date                                                 \n",
              "2018-04-24  0.000000  0.000000  0.000000    0     0  \n",
              "2018-04-25  0.000000  0.000000  0.000000    0     0  \n",
              "2018-04-26  0.000000  0.000000  0.000000    0     0  \n",
              "2018-04-27  0.000000  0.000000  0.000000    0     0  \n",
              "2018-04-30  0.000000  0.000000  0.000000    0     0  \n",
              "...              ...       ...       ...  ...   ...  \n",
              "2023-03-31  0.000639 -0.000232  0.000638    4     5  \n",
              "2023-04-03  0.000528 -0.000251  0.000521    5     4  \n",
              "2023-04-04  0.000382 -0.000087  0.000407    4     5  \n",
              "2023-04-05  0.000528 -0.000263  0.000278    3     6  \n",
              "2023-04-06  0.000611 -0.000356  0.000309    3     6  \n",
              "\n",
              "[1248 rows x 11 columns]"
            ],
            "text/html": [
              "\n",
              "  <div id=\"df-fd242f7a-3ff2-471f-9bf4-fb7f7fbe3908\">\n",
              "    <div class=\"colab-df-container\">\n",
              "      <div>\n",
              "<style scoped>\n",
              "    .dataframe tbody tr th:only-of-type {\n",
              "        vertical-align: middle;\n",
              "    }\n",
              "\n",
              "    .dataframe tbody tr th {\n",
              "        vertical-align: top;\n",
              "    }\n",
              "\n",
              "    .dataframe thead th {\n",
              "        text-align: right;\n",
              "    }\n",
              "</style>\n",
              "<table border=\"1\" class=\"dataframe\">\n",
              "  <thead>\n",
              "    <tr style=\"text-align: right;\">\n",
              "      <th></th>\n",
              "      <th>RNN_38</th>\n",
              "      <th>RNN_16</th>\n",
              "      <th>RNN_40</th>\n",
              "      <th>RNN_12</th>\n",
              "      <th>RNN_1</th>\n",
              "      <th>RNN_43</th>\n",
              "      <th>RNN_81</th>\n",
              "      <th>DTT_88</th>\n",
              "      <th>DTT_66</th>\n",
              "      <th>Buy</th>\n",
              "      <th>Sell</th>\n",
              "    </tr>\n",
              "    <tr>\n",
              "      <th>date</th>\n",
              "      <th></th>\n",
              "      <th></th>\n",
              "      <th></th>\n",
              "      <th></th>\n",
              "      <th></th>\n",
              "      <th></th>\n",
              "      <th></th>\n",
              "      <th></th>\n",
              "      <th></th>\n",
              "      <th></th>\n",
              "      <th></th>\n",
              "    </tr>\n",
              "  </thead>\n",
              "  <tbody>\n",
              "    <tr>\n",
              "      <th>2018-04-24</th>\n",
              "      <td>0.000000</td>\n",
              "      <td>0.000000</td>\n",
              "      <td>0.000000</td>\n",
              "      <td>0.000000</td>\n",
              "      <td>0.000000</td>\n",
              "      <td>0.000000</td>\n",
              "      <td>0.000000</td>\n",
              "      <td>0.000000</td>\n",
              "      <td>0.000000</td>\n",
              "      <td>0</td>\n",
              "      <td>0</td>\n",
              "    </tr>\n",
              "    <tr>\n",
              "      <th>2018-04-25</th>\n",
              "      <td>0.000000</td>\n",
              "      <td>0.000000</td>\n",
              "      <td>0.000000</td>\n",
              "      <td>0.000000</td>\n",
              "      <td>0.000000</td>\n",
              "      <td>0.000000</td>\n",
              "      <td>0.000000</td>\n",
              "      <td>0.000000</td>\n",
              "      <td>0.000000</td>\n",
              "      <td>0</td>\n",
              "      <td>0</td>\n",
              "    </tr>\n",
              "    <tr>\n",
              "      <th>2018-04-26</th>\n",
              "      <td>0.000000</td>\n",
              "      <td>0.000000</td>\n",
              "      <td>0.000000</td>\n",
              "      <td>0.000000</td>\n",
              "      <td>0.000000</td>\n",
              "      <td>0.000000</td>\n",
              "      <td>0.000000</td>\n",
              "      <td>0.000000</td>\n",
              "      <td>0.000000</td>\n",
              "      <td>0</td>\n",
              "      <td>0</td>\n",
              "    </tr>\n",
              "    <tr>\n",
              "      <th>2018-04-27</th>\n",
              "      <td>0.000000</td>\n",
              "      <td>0.000000</td>\n",
              "      <td>0.000000</td>\n",
              "      <td>0.000000</td>\n",
              "      <td>0.000000</td>\n",
              "      <td>0.000000</td>\n",
              "      <td>0.000000</td>\n",
              "      <td>0.000000</td>\n",
              "      <td>0.000000</td>\n",
              "      <td>0</td>\n",
              "      <td>0</td>\n",
              "    </tr>\n",
              "    <tr>\n",
              "      <th>2018-04-30</th>\n",
              "      <td>0.000000</td>\n",
              "      <td>0.000000</td>\n",
              "      <td>0.000000</td>\n",
              "      <td>0.000000</td>\n",
              "      <td>0.000000</td>\n",
              "      <td>0.000000</td>\n",
              "      <td>0.000000</td>\n",
              "      <td>0.000000</td>\n",
              "      <td>0.000000</td>\n",
              "      <td>0</td>\n",
              "      <td>0</td>\n",
              "    </tr>\n",
              "    <tr>\n",
              "      <th>...</th>\n",
              "      <td>...</td>\n",
              "      <td>...</td>\n",
              "      <td>...</td>\n",
              "      <td>...</td>\n",
              "      <td>...</td>\n",
              "      <td>...</td>\n",
              "      <td>...</td>\n",
              "      <td>...</td>\n",
              "      <td>...</td>\n",
              "      <td>...</td>\n",
              "      <td>...</td>\n",
              "    </tr>\n",
              "    <tr>\n",
              "      <th>2023-03-31</th>\n",
              "      <td>0.001148</td>\n",
              "      <td>0.000956</td>\n",
              "      <td>-0.000408</td>\n",
              "      <td>-0.000529</td>\n",
              "      <td>-0.003154</td>\n",
              "      <td>-0.000786</td>\n",
              "      <td>0.000639</td>\n",
              "      <td>-0.000232</td>\n",
              "      <td>0.000638</td>\n",
              "      <td>4</td>\n",
              "      <td>5</td>\n",
              "    </tr>\n",
              "    <tr>\n",
              "      <th>2023-04-03</th>\n",
              "      <td>0.001088</td>\n",
              "      <td>0.000425</td>\n",
              "      <td>-0.000356</td>\n",
              "      <td>0.000187</td>\n",
              "      <td>-0.002782</td>\n",
              "      <td>-0.000992</td>\n",
              "      <td>0.000528</td>\n",
              "      <td>-0.000251</td>\n",
              "      <td>0.000521</td>\n",
              "      <td>5</td>\n",
              "      <td>4</td>\n",
              "    </tr>\n",
              "    <tr>\n",
              "      <th>2023-04-04</th>\n",
              "      <td>0.000953</td>\n",
              "      <td>0.000036</td>\n",
              "      <td>-0.000209</td>\n",
              "      <td>-0.000407</td>\n",
              "      <td>-0.001519</td>\n",
              "      <td>-0.001059</td>\n",
              "      <td>0.000382</td>\n",
              "      <td>-0.000087</td>\n",
              "      <td>0.000407</td>\n",
              "      <td>4</td>\n",
              "      <td>5</td>\n",
              "    </tr>\n",
              "    <tr>\n",
              "      <th>2023-04-05</th>\n",
              "      <td>0.000966</td>\n",
              "      <td>-0.000333</td>\n",
              "      <td>-0.000207</td>\n",
              "      <td>-0.000863</td>\n",
              "      <td>-0.000827</td>\n",
              "      <td>-0.001057</td>\n",
              "      <td>0.000528</td>\n",
              "      <td>-0.000263</td>\n",
              "      <td>0.000278</td>\n",
              "      <td>3</td>\n",
              "      <td>6</td>\n",
              "    </tr>\n",
              "    <tr>\n",
              "      <th>2023-04-06</th>\n",
              "      <td>0.000835</td>\n",
              "      <td>-0.000113</td>\n",
              "      <td>-0.000433</td>\n",
              "      <td>-0.001433</td>\n",
              "      <td>-0.001043</td>\n",
              "      <td>-0.000772</td>\n",
              "      <td>0.000611</td>\n",
              "      <td>-0.000356</td>\n",
              "      <td>0.000309</td>\n",
              "      <td>3</td>\n",
              "      <td>6</td>\n",
              "    </tr>\n",
              "  </tbody>\n",
              "</table>\n",
              "<p>1248 rows × 11 columns</p>\n",
              "</div>\n",
              "      <button class=\"colab-df-convert\" onclick=\"convertToInteractive('df-fd242f7a-3ff2-471f-9bf4-fb7f7fbe3908')\"\n",
              "              title=\"Convert this dataframe to an interactive table.\"\n",
              "              style=\"display:none;\">\n",
              "        \n",
              "  <svg xmlns=\"http://www.w3.org/2000/svg\" height=\"24px\"viewBox=\"0 0 24 24\"\n",
              "       width=\"24px\">\n",
              "    <path d=\"M0 0h24v24H0V0z\" fill=\"none\"/>\n",
              "    <path d=\"M18.56 5.44l.94 2.06.94-2.06 2.06-.94-2.06-.94-.94-2.06-.94 2.06-2.06.94zm-11 1L8.5 8.5l.94-2.06 2.06-.94-2.06-.94L8.5 2.5l-.94 2.06-2.06.94zm10 10l.94 2.06.94-2.06 2.06-.94-2.06-.94-.94-2.06-.94 2.06-2.06.94z\"/><path d=\"M17.41 7.96l-1.37-1.37c-.4-.4-.92-.59-1.43-.59-.52 0-1.04.2-1.43.59L10.3 9.45l-7.72 7.72c-.78.78-.78 2.05 0 2.83L4 21.41c.39.39.9.59 1.41.59.51 0 1.02-.2 1.41-.59l7.78-7.78 2.81-2.81c.8-.78.8-2.07 0-2.86zM5.41 20L4 18.59l7.72-7.72 1.47 1.35L5.41 20z\"/>\n",
              "  </svg>\n",
              "      </button>\n",
              "      \n",
              "  <style>\n",
              "    .colab-df-container {\n",
              "      display:flex;\n",
              "      flex-wrap:wrap;\n",
              "      gap: 12px;\n",
              "    }\n",
              "\n",
              "    .colab-df-convert {\n",
              "      background-color: #E8F0FE;\n",
              "      border: none;\n",
              "      border-radius: 50%;\n",
              "      cursor: pointer;\n",
              "      display: none;\n",
              "      fill: #1967D2;\n",
              "      height: 32px;\n",
              "      padding: 0 0 0 0;\n",
              "      width: 32px;\n",
              "    }\n",
              "\n",
              "    .colab-df-convert:hover {\n",
              "      background-color: #E2EBFA;\n",
              "      box-shadow: 0px 1px 2px rgba(60, 64, 67, 0.3), 0px 1px 3px 1px rgba(60, 64, 67, 0.15);\n",
              "      fill: #174EA6;\n",
              "    }\n",
              "\n",
              "    [theme=dark] .colab-df-convert {\n",
              "      background-color: #3B4455;\n",
              "      fill: #D2E3FC;\n",
              "    }\n",
              "\n",
              "    [theme=dark] .colab-df-convert:hover {\n",
              "      background-color: #434B5C;\n",
              "      box-shadow: 0px 1px 3px 1px rgba(0, 0, 0, 0.15);\n",
              "      filter: drop-shadow(0px 1px 2px rgba(0, 0, 0, 0.3));\n",
              "      fill: #FFFFFF;\n",
              "    }\n",
              "  </style>\n",
              "\n",
              "      <script>\n",
              "        const buttonEl =\n",
              "          document.querySelector('#df-fd242f7a-3ff2-471f-9bf4-fb7f7fbe3908 button.colab-df-convert');\n",
              "        buttonEl.style.display =\n",
              "          google.colab.kernel.accessAllowed ? 'block' : 'none';\n",
              "\n",
              "        async function convertToInteractive(key) {\n",
              "          const element = document.querySelector('#df-fd242f7a-3ff2-471f-9bf4-fb7f7fbe3908');\n",
              "          const dataTable =\n",
              "            await google.colab.kernel.invokeFunction('convertToInteractive',\n",
              "                                                     [key], {});\n",
              "          if (!dataTable) return;\n",
              "\n",
              "          const docLinkHtml = 'Like what you see? Visit the ' +\n",
              "            '<a target=\"_blank\" href=https://colab.research.google.com/notebooks/data_table.ipynb>data table notebook</a>'\n",
              "            + ' to learn more about interactive tables.';\n",
              "          element.innerHTML = '';\n",
              "          dataTable['output_type'] = 'display_data';\n",
              "          await google.colab.output.renderOutput(dataTable, element);\n",
              "          const docLink = document.createElement('div');\n",
              "          docLink.innerHTML = docLinkHtml;\n",
              "          element.appendChild(docLink);\n",
              "        }\n",
              "      </script>\n",
              "    </div>\n",
              "  </div>\n",
              "  "
            ]
          },
          "metadata": {},
          "execution_count": 13
        }
      ],
      "source": [
        "#Calculamos decisiones de compra o venta\n",
        "\n",
        "best_pre = pd.concat(\n",
        "    (\n",
        "        df_pre_RNN[best_models_RNN].iloc[split:],\n",
        "        df_pre_DTT[best_models_DTT].iloc[split:]\n",
        "    ),\n",
        "    axis = 1\n",
        ")\n",
        "\n",
        "#best_pre = df_pre_DTT[best_models_DTT].iloc[:]\n",
        "\n",
        "best_pre[\"Buy\"] = (np.sign(best_pre) == 1).sum(axis=1)\n",
        "best_pre[\"Sell\"] = (np.sign(best_pre) == -1).sum(axis=1)\n",
        "best_pre"
      ]
    },
    {
      "cell_type": "code",
      "execution_count": null,
      "metadata": {
        "colab": {
          "base_uri": "https://localhost:8080/",
          "height": 455
        },
        "id": "W0E3G_g_WBwq",
        "outputId": "dff7756f-e109-46f8-da21-a97699f43146"
      },
      "outputs": [
        {
          "output_type": "execute_result",
          "data": {
            "text/plain": [
              "              RNN_38    RNN_16    RNN_40    RNN_12     RNN_1    RNN_43  \\\n",
              "date                                                                     \n",
              "2018-04-24  0.000000  0.000000  0.000000  0.000000  0.000000  0.000000   \n",
              "2018-04-25  0.000000  0.000000  0.000000  0.000000  0.000000  0.000000   \n",
              "2018-04-26  0.000000  0.000000  0.000000  0.000000  0.000000  0.000000   \n",
              "2018-04-27  0.000000  0.000000  0.000000  0.000000  0.000000  0.000000   \n",
              "2018-04-30  0.000000  0.000000  0.000000  0.000000  0.000000  0.000000   \n",
              "...              ...       ...       ...       ...       ...       ...   \n",
              "2023-03-31  0.001148  0.000956 -0.000408 -0.000529 -0.003154 -0.000786   \n",
              "2023-04-03  0.001088  0.000425 -0.000356  0.000187 -0.002782 -0.000992   \n",
              "2023-04-04  0.000953  0.000036 -0.000209 -0.000407 -0.001519 -0.001059   \n",
              "2023-04-05  0.000966 -0.000333 -0.000207 -0.000863 -0.000827 -0.001057   \n",
              "2023-04-06  0.000835 -0.000113 -0.000433 -0.001433 -0.001043 -0.000772   \n",
              "\n",
              "              RNN_81    DTT_88    DTT_66  Buy  Sell  position  strategy  \n",
              "date                                                                     \n",
              "2018-04-24  0.000000  0.000000  0.000000    0     0       0.0       NaN  \n",
              "2018-04-25  0.000000  0.000000  0.000000    0     0       0.0  0.000000  \n",
              "2018-04-26  0.000000  0.000000  0.000000    0     0       0.0  0.000000  \n",
              "2018-04-27  0.000000  0.000000  0.000000    0     0       0.0  0.000000  \n",
              "2018-04-30  0.000000  0.000000  0.000000    0     0       0.0 -0.000000  \n",
              "...              ...       ...       ...  ...   ...       ...       ...  \n",
              "2023-03-31  0.000639 -0.000232  0.000638    4     5      -1.0 -0.014437  \n",
              "2023-04-03  0.000528 -0.000251  0.000521    5     4       1.0 -0.003699  \n",
              "2023-04-04  0.000382 -0.000087  0.000407    4     5      -1.0 -0.005797  \n",
              "2023-04-05  0.000528 -0.000263  0.000278    3     6      -1.0  0.002492  \n",
              "2023-04-06  0.000611 -0.000356  0.000309    3     6      -1.0 -0.003579  \n",
              "\n",
              "[1248 rows x 13 columns]"
            ],
            "text/html": [
              "\n",
              "  <div id=\"df-c889328c-bf3a-43d0-be59-9c4af0e8c9ed\">\n",
              "    <div class=\"colab-df-container\">\n",
              "      <div>\n",
              "<style scoped>\n",
              "    .dataframe tbody tr th:only-of-type {\n",
              "        vertical-align: middle;\n",
              "    }\n",
              "\n",
              "    .dataframe tbody tr th {\n",
              "        vertical-align: top;\n",
              "    }\n",
              "\n",
              "    .dataframe thead th {\n",
              "        text-align: right;\n",
              "    }\n",
              "</style>\n",
              "<table border=\"1\" class=\"dataframe\">\n",
              "  <thead>\n",
              "    <tr style=\"text-align: right;\">\n",
              "      <th></th>\n",
              "      <th>RNN_38</th>\n",
              "      <th>RNN_16</th>\n",
              "      <th>RNN_40</th>\n",
              "      <th>RNN_12</th>\n",
              "      <th>RNN_1</th>\n",
              "      <th>RNN_43</th>\n",
              "      <th>RNN_81</th>\n",
              "      <th>DTT_88</th>\n",
              "      <th>DTT_66</th>\n",
              "      <th>Buy</th>\n",
              "      <th>Sell</th>\n",
              "      <th>position</th>\n",
              "      <th>strategy</th>\n",
              "    </tr>\n",
              "    <tr>\n",
              "      <th>date</th>\n",
              "      <th></th>\n",
              "      <th></th>\n",
              "      <th></th>\n",
              "      <th></th>\n",
              "      <th></th>\n",
              "      <th></th>\n",
              "      <th></th>\n",
              "      <th></th>\n",
              "      <th></th>\n",
              "      <th></th>\n",
              "      <th></th>\n",
              "      <th></th>\n",
              "      <th></th>\n",
              "    </tr>\n",
              "  </thead>\n",
              "  <tbody>\n",
              "    <tr>\n",
              "      <th>2018-04-24</th>\n",
              "      <td>0.000000</td>\n",
              "      <td>0.000000</td>\n",
              "      <td>0.000000</td>\n",
              "      <td>0.000000</td>\n",
              "      <td>0.000000</td>\n",
              "      <td>0.000000</td>\n",
              "      <td>0.000000</td>\n",
              "      <td>0.000000</td>\n",
              "      <td>0.000000</td>\n",
              "      <td>0</td>\n",
              "      <td>0</td>\n",
              "      <td>0.0</td>\n",
              "      <td>NaN</td>\n",
              "    </tr>\n",
              "    <tr>\n",
              "      <th>2018-04-25</th>\n",
              "      <td>0.000000</td>\n",
              "      <td>0.000000</td>\n",
              "      <td>0.000000</td>\n",
              "      <td>0.000000</td>\n",
              "      <td>0.000000</td>\n",
              "      <td>0.000000</td>\n",
              "      <td>0.000000</td>\n",
              "      <td>0.000000</td>\n",
              "      <td>0.000000</td>\n",
              "      <td>0</td>\n",
              "      <td>0</td>\n",
              "      <td>0.0</td>\n",
              "      <td>0.000000</td>\n",
              "    </tr>\n",
              "    <tr>\n",
              "      <th>2018-04-26</th>\n",
              "      <td>0.000000</td>\n",
              "      <td>0.000000</td>\n",
              "      <td>0.000000</td>\n",
              "      <td>0.000000</td>\n",
              "      <td>0.000000</td>\n",
              "      <td>0.000000</td>\n",
              "      <td>0.000000</td>\n",
              "      <td>0.000000</td>\n",
              "      <td>0.000000</td>\n",
              "      <td>0</td>\n",
              "      <td>0</td>\n",
              "      <td>0.0</td>\n",
              "      <td>0.000000</td>\n",
              "    </tr>\n",
              "    <tr>\n",
              "      <th>2018-04-27</th>\n",
              "      <td>0.000000</td>\n",
              "      <td>0.000000</td>\n",
              "      <td>0.000000</td>\n",
              "      <td>0.000000</td>\n",
              "      <td>0.000000</td>\n",
              "      <td>0.000000</td>\n",
              "      <td>0.000000</td>\n",
              "      <td>0.000000</td>\n",
              "      <td>0.000000</td>\n",
              "      <td>0</td>\n",
              "      <td>0</td>\n",
              "      <td>0.0</td>\n",
              "      <td>0.000000</td>\n",
              "    </tr>\n",
              "    <tr>\n",
              "      <th>2018-04-30</th>\n",
              "      <td>0.000000</td>\n",
              "      <td>0.000000</td>\n",
              "      <td>0.000000</td>\n",
              "      <td>0.000000</td>\n",
              "      <td>0.000000</td>\n",
              "      <td>0.000000</td>\n",
              "      <td>0.000000</td>\n",
              "      <td>0.000000</td>\n",
              "      <td>0.000000</td>\n",
              "      <td>0</td>\n",
              "      <td>0</td>\n",
              "      <td>0.0</td>\n",
              "      <td>-0.000000</td>\n",
              "    </tr>\n",
              "    <tr>\n",
              "      <th>...</th>\n",
              "      <td>...</td>\n",
              "      <td>...</td>\n",
              "      <td>...</td>\n",
              "      <td>...</td>\n",
              "      <td>...</td>\n",
              "      <td>...</td>\n",
              "      <td>...</td>\n",
              "      <td>...</td>\n",
              "      <td>...</td>\n",
              "      <td>...</td>\n",
              "      <td>...</td>\n",
              "      <td>...</td>\n",
              "      <td>...</td>\n",
              "    </tr>\n",
              "    <tr>\n",
              "      <th>2023-03-31</th>\n",
              "      <td>0.001148</td>\n",
              "      <td>0.000956</td>\n",
              "      <td>-0.000408</td>\n",
              "      <td>-0.000529</td>\n",
              "      <td>-0.003154</td>\n",
              "      <td>-0.000786</td>\n",
              "      <td>0.000639</td>\n",
              "      <td>-0.000232</td>\n",
              "      <td>0.000638</td>\n",
              "      <td>4</td>\n",
              "      <td>5</td>\n",
              "      <td>-1.0</td>\n",
              "      <td>-0.014437</td>\n",
              "    </tr>\n",
              "    <tr>\n",
              "      <th>2023-04-03</th>\n",
              "      <td>0.001088</td>\n",
              "      <td>0.000425</td>\n",
              "      <td>-0.000356</td>\n",
              "      <td>0.000187</td>\n",
              "      <td>-0.002782</td>\n",
              "      <td>-0.000992</td>\n",
              "      <td>0.000528</td>\n",
              "      <td>-0.000251</td>\n",
              "      <td>0.000521</td>\n",
              "      <td>5</td>\n",
              "      <td>4</td>\n",
              "      <td>1.0</td>\n",
              "      <td>-0.003699</td>\n",
              "    </tr>\n",
              "    <tr>\n",
              "      <th>2023-04-04</th>\n",
              "      <td>0.000953</td>\n",
              "      <td>0.000036</td>\n",
              "      <td>-0.000209</td>\n",
              "      <td>-0.000407</td>\n",
              "      <td>-0.001519</td>\n",
              "      <td>-0.001059</td>\n",
              "      <td>0.000382</td>\n",
              "      <td>-0.000087</td>\n",
              "      <td>0.000407</td>\n",
              "      <td>4</td>\n",
              "      <td>5</td>\n",
              "      <td>-1.0</td>\n",
              "      <td>-0.005797</td>\n",
              "    </tr>\n",
              "    <tr>\n",
              "      <th>2023-04-05</th>\n",
              "      <td>0.000966</td>\n",
              "      <td>-0.000333</td>\n",
              "      <td>-0.000207</td>\n",
              "      <td>-0.000863</td>\n",
              "      <td>-0.000827</td>\n",
              "      <td>-0.001057</td>\n",
              "      <td>0.000528</td>\n",
              "      <td>-0.000263</td>\n",
              "      <td>0.000278</td>\n",
              "      <td>3</td>\n",
              "      <td>6</td>\n",
              "      <td>-1.0</td>\n",
              "      <td>0.002492</td>\n",
              "    </tr>\n",
              "    <tr>\n",
              "      <th>2023-04-06</th>\n",
              "      <td>0.000835</td>\n",
              "      <td>-0.000113</td>\n",
              "      <td>-0.000433</td>\n",
              "      <td>-0.001433</td>\n",
              "      <td>-0.001043</td>\n",
              "      <td>-0.000772</td>\n",
              "      <td>0.000611</td>\n",
              "      <td>-0.000356</td>\n",
              "      <td>0.000309</td>\n",
              "      <td>3</td>\n",
              "      <td>6</td>\n",
              "      <td>-1.0</td>\n",
              "      <td>-0.003579</td>\n",
              "    </tr>\n",
              "  </tbody>\n",
              "</table>\n",
              "<p>1248 rows × 13 columns</p>\n",
              "</div>\n",
              "      <button class=\"colab-df-convert\" onclick=\"convertToInteractive('df-c889328c-bf3a-43d0-be59-9c4af0e8c9ed')\"\n",
              "              title=\"Convert this dataframe to an interactive table.\"\n",
              "              style=\"display:none;\">\n",
              "        \n",
              "  <svg xmlns=\"http://www.w3.org/2000/svg\" height=\"24px\"viewBox=\"0 0 24 24\"\n",
              "       width=\"24px\">\n",
              "    <path d=\"M0 0h24v24H0V0z\" fill=\"none\"/>\n",
              "    <path d=\"M18.56 5.44l.94 2.06.94-2.06 2.06-.94-2.06-.94-.94-2.06-.94 2.06-2.06.94zm-11 1L8.5 8.5l.94-2.06 2.06-.94-2.06-.94L8.5 2.5l-.94 2.06-2.06.94zm10 10l.94 2.06.94-2.06 2.06-.94-2.06-.94-.94-2.06-.94 2.06-2.06.94z\"/><path d=\"M17.41 7.96l-1.37-1.37c-.4-.4-.92-.59-1.43-.59-.52 0-1.04.2-1.43.59L10.3 9.45l-7.72 7.72c-.78.78-.78 2.05 0 2.83L4 21.41c.39.39.9.59 1.41.59.51 0 1.02-.2 1.41-.59l7.78-7.78 2.81-2.81c.8-.78.8-2.07 0-2.86zM5.41 20L4 18.59l7.72-7.72 1.47 1.35L5.41 20z\"/>\n",
              "  </svg>\n",
              "      </button>\n",
              "      \n",
              "  <style>\n",
              "    .colab-df-container {\n",
              "      display:flex;\n",
              "      flex-wrap:wrap;\n",
              "      gap: 12px;\n",
              "    }\n",
              "\n",
              "    .colab-df-convert {\n",
              "      background-color: #E8F0FE;\n",
              "      border: none;\n",
              "      border-radius: 50%;\n",
              "      cursor: pointer;\n",
              "      display: none;\n",
              "      fill: #1967D2;\n",
              "      height: 32px;\n",
              "      padding: 0 0 0 0;\n",
              "      width: 32px;\n",
              "    }\n",
              "\n",
              "    .colab-df-convert:hover {\n",
              "      background-color: #E2EBFA;\n",
              "      box-shadow: 0px 1px 2px rgba(60, 64, 67, 0.3), 0px 1px 3px 1px rgba(60, 64, 67, 0.15);\n",
              "      fill: #174EA6;\n",
              "    }\n",
              "\n",
              "    [theme=dark] .colab-df-convert {\n",
              "      background-color: #3B4455;\n",
              "      fill: #D2E3FC;\n",
              "    }\n",
              "\n",
              "    [theme=dark] .colab-df-convert:hover {\n",
              "      background-color: #434B5C;\n",
              "      box-shadow: 0px 1px 3px 1px rgba(0, 0, 0, 0.15);\n",
              "      filter: drop-shadow(0px 1px 2px rgba(0, 0, 0, 0.3));\n",
              "      fill: #FFFFFF;\n",
              "    }\n",
              "  </style>\n",
              "\n",
              "      <script>\n",
              "        const buttonEl =\n",
              "          document.querySelector('#df-c889328c-bf3a-43d0-be59-9c4af0e8c9ed button.colab-df-convert');\n",
              "        buttonEl.style.display =\n",
              "          google.colab.kernel.accessAllowed ? 'block' : 'none';\n",
              "\n",
              "        async function convertToInteractive(key) {\n",
              "          const element = document.querySelector('#df-c889328c-bf3a-43d0-be59-9c4af0e8c9ed');\n",
              "          const dataTable =\n",
              "            await google.colab.kernel.invokeFunction('convertToInteractive',\n",
              "                                                     [key], {});\n",
              "          if (!dataTable) return;\n",
              "\n",
              "          const docLinkHtml = 'Like what you see? Visit the ' +\n",
              "            '<a target=\"_blank\" href=https://colab.research.google.com/notebooks/data_table.ipynb>data table notebook</a>'\n",
              "            + ' to learn more about interactive tables.';\n",
              "          element.innerHTML = '';\n",
              "          dataTable['output_type'] = 'display_data';\n",
              "          await google.colab.output.renderOutput(dataTable, element);\n",
              "          const docLink = document.createElement('div');\n",
              "          docLink.innerHTML = docLinkHtml;\n",
              "          element.appendChild(docLink);\n",
              "        }\n",
              "      </script>\n",
              "    </div>\n",
              "  </div>\n",
              "  "
            ]
          },
          "metadata": {},
          "execution_count": 14
        }
      ],
      "source": [
        "#Calculamos posición final haciendo Bagging:\n",
        "best_pre[\"position\"] = np.nan;\n",
        "\n",
        "best_pre.loc[ best_pre[\"Buy\"] > best_pre[\"Sell\"] ,\"position\"] = 1;\n",
        "best_pre.loc[ best_pre[\"Buy\"] == best_pre[\"Sell\"] ,\"position\"] = 0;\n",
        "best_pre.loc[ best_pre[\"Sell\"] > best_pre[\"Buy\"] ,\"position\"] = -1;\n",
        "\n",
        "#Calculamos y representamos retornos:\n",
        "best_pre[\"strategy\"] = df[\"returns\"] * best_pre[\"position\"].shift(1);\n",
        "\n",
        "best_pre"
      ]
    },
    {
      "cell_type": "markdown",
      "metadata": {
        "id": "RsP7oQSOwqrr"
      },
      "source": [
        "#Búsqueda del mejor SL en función del ratio de Sharpe"
      ]
    },
    {
      "cell_type": "code",
      "execution_count": null,
      "metadata": {
        "colab": {
          "base_uri": "https://localhost:8080/",
          "height": 505
        },
        "id": "L-IYR4ECS2C4",
        "outputId": "d465ec68-7596-4238-e584-98f867983621"
      },
      "outputs": [
        {
          "output_type": "stream",
          "name": "stdout",
          "text": [
            "Best SL : 1.942857142857143\n"
          ]
        },
        {
          "output_type": "display_data",
          "data": {
            "text/plain": [
              "<Figure size 800x550 with 1 Axes>"
            ],
            "image/png": "[encoded data removed]"
          },
          "metadata": {}
        }
      ],
      "source": [
        "def find_best_sl(sl):\n",
        "  \n",
        "  sl = sl/100\n",
        "  pf = pd.concat((df[\"low_returns\"], best_pre[\"strategy\"]), axis = 1).dropna()\n",
        "  pf.columns = [\"low\", \"Return\"]\n",
        "  pf[\"Return\"] = np.where(pf[\"low\"].values < -sl, -sl, pf[\"Return\"].values)\n",
        "  pf[\"Return\"] = np.where(pf[\"Return\"].values < -sl, -sl, pf[\"Return\"].values)\n",
        "  \n",
        "  return np.sqrt(252)*pf[\"Return\"].mean()/pf[\"Return\"].std()\n",
        "\n",
        "df_sl = pd.DataFrame(\n",
        "    [find_best_sl(sl) for sl in np.linspace(1,2.1,50)],\n",
        "    index = np.linspace(1,2.1,50),\n",
        "    columns = [\"Sharpe\"]\n",
        ")\n",
        "\n",
        "best_sl = df_sl[\"Sharpe\"].idxmax()\n",
        "print(f\"Best SL : {best_sl}\")\n",
        "\n",
        "sl = best_sl/100\n",
        "pf = pd.concat((df[\"low_returns\"], best_pre[\"strategy\"]), axis = 1).dropna()\n",
        "pf.columns = [\"low\", \"Return\"]\n",
        "pf[\"Return\"] = np.where(pf[\"low\"].values < -sl, -sl, pf[\"Return\"].values)\n",
        "pf[\"Return\"] = np.where(pf[\"Return\"].values < -sl, -sl, pf[\"Return\"].values)\n",
        "pf[\"Return\"].cumsum().plot();\n",
        "plt.ylabel(\"Cum return\");\n",
        "plt.title(\"Cumulative return\")\n",
        "plt.show()"
      ]
    },
    {
      "cell_type": "markdown",
      "metadata": {
        "id": "5cD85nYRw2JX"
      },
      "source": [
        "# Metrics"
      ]
    },
    {
      "cell_type": "code",
      "execution_count": null,
      "metadata": {
        "colab": {
          "base_uri": "https://localhost:8080/",
          "height": 766
        },
        "id": "jmtaoVBkbX4r",
        "outputId": "1553b023-ab16-4e15-8b93-32f7e32ed4f6"
      },
      "outputs": [
        {
          "output_type": "display_data",
          "data": {
            "text/plain": [
              "<Figure size 800x550 with 1 Axes>"
            ],
            "image/png": "[encoded data removed]"
          },
          "metadata": {}
        },
        {
          "output_type": "stream",
          "name": "stdout",
          "text": [
            "Esperanza matemática del retorno diario del modelo Híbrido: 0.1362 % \n",
            "\n",
            "Pérdida media cuando pierde: -0.85 %\n",
            "Ganancia media cuando gana: 0.95 % \n",
            "\n",
            "Probabilidad de acierto: 56.09 %\n",
            "Probabilidad de fallo: 43.91 %\n",
            "\n",
            "Rentabilidad Final: 169.82 %\n",
            "Ratio riesgo-beneficio: 1.11\n",
            "\n",
            "Máxima pérdida en un día: -5.89 % => 2020-06-11 00:00:00\n",
            "Máxima ganancia en un día: 11.98 % => 2020-03-16 00:00:00 \n",
            "\n",
            "Nº máximo de días consecutivos en negativo: 6\n",
            "Pérdida media acumulada en esos 6 días: -5.11 % \n"
          ]
        }
      ],
      "source": [
        "#Graph cum return\n",
        "best_pre[\"strategy\"].cumsum().plot();\n",
        "plt.ylabel(\"Cum return\");\n",
        "plt.title(\"Cumulative return\")\n",
        "plt.show()\n",
        "\n",
        "#Esperanza matemática:\n",
        "print(f\"Esperanza matemática del retorno diario del modelo Híbrido: {round(best_pre['strategy'].mean()*100, 4)} % \\n\");\n",
        "\n",
        "loss = best_pre[\"strategy\"].loc[ best_pre['strategy'] < 0 ].mean()\n",
        "profit = best_pre[\"strategy\"].loc[ best_pre['strategy'] > 0 ].mean()\n",
        "prob_succ = len(best_pre.loc[ best_pre['strategy'] >= 0 ])/len(best_pre)\n",
        "final_return = best_pre[\"strategy\"].cumsum().iloc[-1]\n",
        "max_loss = best_pre[\"strategy\"].min()*100\n",
        "max_profit = best_pre[\"strategy\"].max()*100\n",
        "date_max_loss = best_pre[\"strategy\"].idxmin()\n",
        "date_max_profit = best_pre[\"strategy\"].idxmax()\n",
        "\n",
        "#Calculamos el nº max de días seguidos en negativo:\n",
        "\n",
        "# Crear una columna que indique si el rendimiento es negativo\n",
        "best_pre['Negativo'] = best_pre['strategy'] < 0\n",
        "\n",
        "# Crear una columna que indique los grupos de días seguidos con rendimiento negativo\n",
        "best_pre['Grupo'] = (best_pre['Negativo'] != best_pre['Negativo'].shift()).cumsum()\n",
        "\n",
        "# Obtener el número de días seguidos con rendimiento negativo para cada grupo\n",
        "max_loss_days = best_pre[best_pre['Negativo']]['Grupo'].value_counts().max()\n",
        "\n",
        "print(f\"Pérdida media cuando pierde: {round(loss*100,2)} %\")\n",
        "print(f\"Ganancia media cuando gana: {round(profit*100,2)} % \\n\")\n",
        "\n",
        "print(f\"Probabilidad de acierto: {round(prob_succ*100,2)} %\")\n",
        "print(f\"Probabilidad de fallo: {round(100-prob_succ*100,2)} %\\n\")\n",
        "\n",
        "print(f\"Rentabilidad Final: {round(final_return*100,2)} %\")\n",
        "print(f\"Ratio riesgo-beneficio: {round(profit/abs(loss),2)}\\n\")\n",
        "\n",
        "print(f\"Máxima pérdida en un día: {round(max_loss,2)} % => {date_max_loss}\")\n",
        "print(f\"Máxima ganancia en un día: {round(max_profit,2)} % => {date_max_profit} \\n\")\n",
        "\n",
        "print(f\"Nº máximo de días consecutivos en negativo: {max_loss_days}\")\n",
        "print(f\"Pérdida media acumulada en esos {max_loss_days} días: {round(max_loss_days*loss*100, 2)} % \")"
      ]
    },
    {
      "cell_type": "markdown",
      "metadata": {
        "id": "ryC_6C5oHPU8"
      },
      "source": [
        "#Backtesting Vectorizado"
      ]
    },
    {
      "cell_type": "markdown",
      "metadata": {
        "id": "7e-yjwUR7Zxc"
      },
      "source": [
        "Ratio de Sortino anualizado"
      ]
    },
    {
      "cell_type": "markdown",
      "metadata": {
        "id": "SEeRJaWuIgvj"
      },
      "source": [
        "Mide el valor esperado de retorno por unidad de riesgo (volatilidad de las pérdidas).\n",
        "\n",
        "<br>\n",
        "<p align=\"center\">\n",
        "$Sortino = \\frac{\\mu }{\\sigma_{down}}$\n",
        "<p> <br>\n",
        "\n",
        "\n",
        "*   Sortino < 0 => No rentable, beneficio negativo.\n",
        "*   0 < Sortino < 1 => Rentable pero el riesgo es mayor que el beneficio\n",
        "*   Sortino > 1 => Muy rentable, el beneficio es mayor que el riesgo.\n",
        "\n"
      ]
    },
    {
      "cell_type": "code",
      "execution_count": null,
      "metadata": {
        "colab": {
          "base_uri": "https://localhost:8080/"
        },
        "id": "8Pghq9dS9dVk",
        "outputId": "5edfadef-1eda-43af-dcf9-7aad456224aa"
      },
      "outputs": [
        {
          "output_type": "stream",
          "name": "stdout",
          "text": [
            "Ratio de Sortino: 2.465515069210424\n"
          ]
        }
      ],
      "source": [
        "#Sortino's variables\n",
        "mean = best_pre['strategy'].mean();\n",
        "volatility = best_pre['strategy'].loc[best_pre['strategy'] < 0].std();\n",
        "\n",
        "sortino = np.sqrt(256)*mean/volatility;\n",
        "print(f\"Ratio de Sortino: {sortino}\")"
      ]
    },
    {
      "cell_type": "markdown",
      "metadata": {
        "id": "q9NyFThTNTYj"
      },
      "source": [
        "BETA\n",
        "\n",
        "El Beta se utiliza para medir la sensibilidad de un activo financiero (como una acción) con respecto a los movimientos del mercado en su conjunto. Es decir, mide la volatilidad del activo en relación con el mercado en general.\n",
        "\n",
        "<br>\n",
        "\n",
        "<p align=\"center\">\n",
        "$Beta = \\frac{Cov(r_{M},r_{PF}) }{Var(r_{M})}$\n",
        "<p> <br>\n",
        "\n",
        "Si el Beta de un activo es mayor que 1, significa que el activo es más volátil que el mercado. Por ejemplo, si el mercado sube un 1%, un activo con un Beta de 1.5 debería subir un 1.5%. Si el Beta de un activo es menor que 1, significa que el activo es menos volátil que el mercado. Por ejemplo, si el mercado sube un 1%, un activo con un Beta de 0.5 debería subir solo un 0.5%."
      ]
    },
    {
      "cell_type": "code",
      "execution_count": null,
      "metadata": {
        "colab": {
          "base_uri": "https://localhost:8080/",
          "height": 505
        },
        "id": "JCe1_m_WNi4z",
        "outputId": "518184c6-8a3f-4542-e4a1-fc2e875d9145"
      },
      "outputs": [
        {
          "output_type": "stream",
          "name": "stdout",
          "text": [
            "\r[*********************100%***********************]  1 of 1 completed\n"
          ]
        },
        {
          "output_type": "execute_result",
          "data": {
            "text/plain": [
              "            strategy     sp500\n",
              "2018-04-25  0.000000  0.001837\n",
              "2018-04-26  0.000000  0.010434\n",
              "2018-04-27  0.000000  0.001114\n",
              "2018-04-30 -0.000000 -0.008187\n",
              "2018-05-01  0.000000  0.002549\n",
              "...              ...       ...\n",
              "2023-03-31 -0.014437  0.014437\n",
              "2023-04-03 -0.003699  0.003699\n",
              "2023-04-04 -0.005797 -0.005797\n",
              "2023-04-05  0.002492 -0.002492\n",
              "2023-04-06 -0.003579  0.003579\n",
              "\n",
              "[1247 rows x 2 columns]"
            ],
            "text/html": [
              "\n",
              "  <div id=\"df-22c85ecf-cc18-48f7-b961-f163c46c26c9\">\n",
              "    <div class=\"colab-df-container\">\n",
              "      <div>\n",
              "<style scoped>\n",
              "    .dataframe tbody tr th:only-of-type {\n",
              "        vertical-align: middle;\n",
              "    }\n",
              "\n",
              "    .dataframe tbody tr th {\n",
              "        vertical-align: top;\n",
              "    }\n",
              "\n",
              "    .dataframe thead th {\n",
              "        text-align: right;\n",
              "    }\n",
              "</style>\n",
              "<table border=\"1\" class=\"dataframe\">\n",
              "  <thead>\n",
              "    <tr style=\"text-align: right;\">\n",
              "      <th></th>\n",
              "      <th>strategy</th>\n",
              "      <th>sp500</th>\n",
              "    </tr>\n",
              "  </thead>\n",
              "  <tbody>\n",
              "    <tr>\n",
              "      <th>2018-04-25</th>\n",
              "      <td>0.000000</td>\n",
              "      <td>0.001837</td>\n",
              "    </tr>\n",
              "    <tr>\n",
              "      <th>2018-04-26</th>\n",
              "      <td>0.000000</td>\n",
              "      <td>0.010434</td>\n",
              "    </tr>\n",
              "    <tr>\n",
              "      <th>2018-04-27</th>\n",
              "      <td>0.000000</td>\n",
              "      <td>0.001114</td>\n",
              "    </tr>\n",
              "    <tr>\n",
              "      <th>2018-04-30</th>\n",
              "      <td>-0.000000</td>\n",
              "      <td>-0.008187</td>\n",
              "    </tr>\n",
              "    <tr>\n",
              "      <th>2018-05-01</th>\n",
              "      <td>0.000000</td>\n",
              "      <td>0.002549</td>\n",
              "    </tr>\n",
              "    <tr>\n",
              "      <th>...</th>\n",
              "      <td>...</td>\n",
              "      <td>...</td>\n",
              "    </tr>\n",
              "    <tr>\n",
              "      <th>2023-03-31</th>\n",
              "      <td>-0.014437</td>\n",
              "      <td>0.014437</td>\n",
              "    </tr>\n",
              "    <tr>\n",
              "      <th>2023-04-03</th>\n",
              "      <td>-0.003699</td>\n",
              "      <td>0.003699</td>\n",
              "    </tr>\n",
              "    <tr>\n",
              "      <th>2023-04-04</th>\n",
              "      <td>-0.005797</td>\n",
              "      <td>-0.005797</td>\n",
              "    </tr>\n",
              "    <tr>\n",
              "      <th>2023-04-05</th>\n",
              "      <td>0.002492</td>\n",
              "      <td>-0.002492</td>\n",
              "    </tr>\n",
              "    <tr>\n",
              "      <th>2023-04-06</th>\n",
              "      <td>-0.003579</td>\n",
              "      <td>0.003579</td>\n",
              "    </tr>\n",
              "  </tbody>\n",
              "</table>\n",
              "<p>1247 rows × 2 columns</p>\n",
              "</div>\n",
              "      <button class=\"colab-df-convert\" onclick=\"convertToInteractive('df-22c85ecf-cc18-48f7-b961-f163c46c26c9')\"\n",
              "              title=\"Convert this dataframe to an interactive table.\"\n",
              "              style=\"display:none;\">\n",
              "        \n",
              "  <svg xmlns=\"http://www.w3.org/2000/svg\" height=\"24px\"viewBox=\"0 0 24 24\"\n",
              "       width=\"24px\">\n",
              "    <path d=\"M0 0h24v24H0V0z\" fill=\"none\"/>\n",
              "    <path d=\"M18.56 5.44l.94 2.06.94-2.06 2.06-.94-2.06-.94-.94-2.06-.94 2.06-2.06.94zm-11 1L8.5 8.5l.94-2.06 2.06-.94-2.06-.94L8.5 2.5l-.94 2.06-2.06.94zm10 10l.94 2.06.94-2.06 2.06-.94-2.06-.94-.94-2.06-.94 2.06-2.06.94z\"/><path d=\"M17.41 7.96l-1.37-1.37c-.4-.4-.92-.59-1.43-.59-.52 0-1.04.2-1.43.59L10.3 9.45l-7.72 7.72c-.78.78-.78 2.05 0 2.83L4 21.41c.39.39.9.59 1.41.59.51 0 1.02-.2 1.41-.59l7.78-7.78 2.81-2.81c.8-.78.8-2.07 0-2.86zM5.41 20L4 18.59l7.72-7.72 1.47 1.35L5.41 20z\"/>\n",
              "  </svg>\n",
              "      </button>\n",
              "      \n",
              "  <style>\n",
              "    .colab-df-container {\n",
              "      display:flex;\n",
              "      flex-wrap:wrap;\n",
              "      gap: 12px;\n",
              "    }\n",
              "\n",
              "    .colab-df-convert {\n",
              "      background-color: #E8F0FE;\n",
              "      border: none;\n",
              "      border-radius: 50%;\n",
              "      cursor: pointer;\n",
              "      display: none;\n",
              "      fill: #1967D2;\n",
              "      height: 32px;\n",
              "      padding: 0 0 0 0;\n",
              "      width: 32px;\n",
              "    }\n",
              "\n",
              "    .colab-df-convert:hover {\n",
              "      background-color: #E2EBFA;\n",
              "      box-shadow: 0px 1px 2px rgba(60, 64, 67, 0.3), 0px 1px 3px 1px rgba(60, 64, 67, 0.15);\n",
              "      fill: #174EA6;\n",
              "    }\n",
              "\n",
              "    [theme=dark] .colab-df-convert {\n",
              "      background-color: #3B4455;\n",
              "      fill: #D2E3FC;\n",
              "    }\n",
              "\n",
              "    [theme=dark] .colab-df-convert:hover {\n",
              "      background-color: #434B5C;\n",
              "      box-shadow: 0px 1px 3px 1px rgba(0, 0, 0, 0.15);\n",
              "      filter: drop-shadow(0px 1px 2px rgba(0, 0, 0, 0.3));\n",
              "      fill: #FFFFFF;\n",
              "    }\n",
              "  </style>\n",
              "\n",
              "      <script>\n",
              "        const buttonEl =\n",
              "          document.querySelector('#df-22c85ecf-cc18-48f7-b961-f163c46c26c9 button.colab-df-convert');\n",
              "        buttonEl.style.display =\n",
              "          google.colab.kernel.accessAllowed ? 'block' : 'none';\n",
              "\n",
              "        async function convertToInteractive(key) {\n",
              "          const element = document.querySelector('#df-22c85ecf-cc18-48f7-b961-f163c46c26c9');\n",
              "          const dataTable =\n",
              "            await google.colab.kernel.invokeFunction('convertToInteractive',\n",
              "                                                     [key], {});\n",
              "          if (!dataTable) return;\n",
              "\n",
              "          const docLinkHtml = 'Like what you see? Visit the ' +\n",
              "            '<a target=\"_blank\" href=https://colab.research.google.com/notebooks/data_table.ipynb>data table notebook</a>'\n",
              "            + ' to learn more about interactive tables.';\n",
              "          element.innerHTML = '';\n",
              "          dataTable['output_type'] = 'display_data';\n",
              "          await google.colab.output.renderOutput(dataTable, element);\n",
              "          const docLink = document.createElement('div');\n",
              "          docLink.innerHTML = docLinkHtml;\n",
              "          element.appendChild(docLink);\n",
              "        }\n",
              "      </script>\n",
              "    </div>\n",
              "  </div>\n",
              "  "
            ]
          },
          "metadata": {},
          "execution_count": 28
        }
      ],
      "source": [
        "import yfinance as yf;\n",
        "\n",
        "#Extraemos data del SP500. Retornos diarios:\n",
        "SP = yf.download(\"^GSPC\")[\"Close\"].pct_change(1);\n",
        "SP.name = \"sp500\";\n",
        "\n",
        "#Concatenamos los retornos de nuestra estrategia con los del SP500\n",
        "#para calcular la covarianza:\n",
        "val = pd.concat((best_pre[\"strategy\"], SP), axis = 1).dropna();\n",
        "val"
      ]
    },
    {
      "cell_type": "code",
      "execution_count": null,
      "metadata": {
        "colab": {
          "base_uri": "https://localhost:8080/"
        },
        "id": "aePNykDOQUpL",
        "outputId": "92dd0f4a-be3e-4d11-ddf5-d3b167b250b0"
      },
      "outputs": [
        {
          "output_type": "execute_result",
          "data": {
            "text/plain": [
              "array([[1.85217563e-04, 6.97822196e-05],\n",
              "       [6.97822196e-05, 1.87765766e-04]])"
            ]
          },
          "metadata": {},
          "execution_count": 29
        }
      ],
      "source": [
        "#Matriz de covarianza\n",
        "cov_var_matrix = np.cov(val.values, rowvar=False);\n",
        "cov_var_matrix"
      ]
    },
    {
      "cell_type": "code",
      "execution_count": null,
      "metadata": {
        "colab": {
          "base_uri": "https://localhost:8080/"
        },
        "id": "E6Kkcx2QTQWD",
        "outputId": "d5b2135f-8191-4094-cbec-e36356b621ea"
      },
      "outputs": [
        {
          "output_type": "stream",
          "name": "stdout",
          "text": [
            "Beta de nuestra estrategia: 0.37164506092822797\n"
          ]
        }
      ],
      "source": [
        "#Beta\n",
        "cov = cov_var_matrix[0][1];\n",
        "var_market = cov_var_matrix[1][1];\n",
        "\n",
        "beta = abs(cov/var_market);\n",
        "print(f\"Beta de nuestra estrategia: {beta}\");"
      ]
    },
    {
      "cell_type": "markdown",
      "metadata": {
        "id": "FBf7jrIYZVxS"
      },
      "source": [
        "ALPHA\n",
        "\n",
        "El Alpha mide la rentabilidad adicional de un activo financiero en relación con su riesgo sistemático (medido por su coeficiente Beta) y con el mercado en general. Es decir, el Alpha mide cuánto mejor o peor ha funcionado un activo en comparación con su rendimiento esperado dada su exposición al mercado.\n",
        "\n",
        "<br>\n",
        "\n",
        "<p align=\"center\">\n",
        "$Alpha = r_{PF} - \\beta*(r_{PF} - r_{f}) - r_{f}$\n",
        "<p> <br>\n",
        "\n",
        "\n",
        "Un Alpha positivo indica que el activo ha superado su rendimiento esperado, mientras que un Alpha negativo indica que el activo ha rendido peor de lo esperado. En otras palabras, un Alpha positivo indica que el activo ha proporcionado un rendimiento excedente en relación con el riesgo asumido, mientras que un Alpha negativo indica que el activo ha proporcionado un rendimiento deficiente en relación con el riesgo asumido."
      ]
    },
    {
      "cell_type": "code",
      "execution_count": null,
      "metadata": {
        "colab": {
          "base_uri": "https://localhost:8080/"
        },
        "id": "IKA8uEJ0UV1z",
        "outputId": "9440b054-deb3-4331-831b-d9c9fa2006da"
      },
      "outputs": [
        {
          "output_type": "stream",
          "name": "stdout",
          "text": [
            "Alpha: 21.564558497902063 %\n"
          ]
        }
      ],
      "source": [
        "#Calculamos alpha anualizado:\n",
        "mean = best_pre['strategy'].mean();\n",
        "alpha = (252*mean*(1-beta))*100;\n",
        "print(f\"Alpha: {alpha} %\");"
      ]
    },
    {
      "cell_type": "markdown",
      "metadata": {
        "id": "jLkdFSptKhTk"
      },
      "source": [
        "DRAWDOWN\n",
        "\n",
        "El drawdown mide la reducción en el valor de un activo o cartera desde su punto más alto hasta su punto más bajo.\n",
        "\n",
        "<br>\n",
        "\n",
        "<p align=\"center\">\n",
        "$Drawdown = -\\frac{𝕍max - 𝕍min}{𝕍max}$\n",
        "<p> <br>\n",
        "\n",
        "\n",
        "Por ejemplo, si el valor máximo histórico de una cartera de inversión fue de usd 100,000 y luego cayó a usd 80,000 antes de volver a subir, entonces el drawdown de esa cartera fue del 20% (es decir, la reducción fue de usd 20,000, o el 20% del valor máximo)."
      ]
    },
    {
      "cell_type": "code",
      "execution_count": null,
      "metadata": {
        "id": "SYIRBGgEKUPD"
      },
      "outputs": [],
      "source": [
        "def drawdown_function(serie):\n",
        "\n",
        "  # Calculamos la suma de los rendimientos\n",
        "  cum = serie.dropna().cumsum() + 1\n",
        "\n",
        "  # Calculamos el máximo de la suma en el período (máximo acumulado) # (1,3,5,3,1) --> (1,3,5,5,5)\n",
        "  running_max = np.maximum.accumulate(cum)\n",
        "\n",
        "  # Calculamos el drawdown\n",
        "  drawdown = cum/running_max - 1\n",
        "  return drawdown"
      ]
    },
    {
      "cell_type": "code",
      "execution_count": null,
      "metadata": {
        "colab": {
          "base_uri": "https://localhost:8080/"
        },
        "id": "zjC9SSZRgdM6",
        "outputId": "1e4fdacc-0051-4ba3-b69f-fa6978058f0f"
      },
      "outputs": [
        {
          "output_type": "execute_result",
          "data": {
            "text/plain": [
              "date\n",
              "2018-04-25    0.000000\n",
              "2018-04-26    0.000000\n",
              "2018-04-27    0.000000\n",
              "2018-04-30    0.000000\n",
              "2018-05-01    0.000000\n",
              "                ...   \n",
              "2023-03-31   -0.014588\n",
              "2023-04-03   -0.015934\n",
              "2023-04-04   -0.018043\n",
              "2023-04-05   -0.017136\n",
              "2023-04-06   -0.018438\n",
              "Name: strategy, Length: 1247, dtype: float64"
            ]
          },
          "metadata": {},
          "execution_count": 33
        }
      ],
      "source": [
        "# Calculamos el drawdown\n",
        "drawdown = drawdown_function(best_pre[\"strategy\"])\n",
        "drawdown"
      ]
    },
    {
      "cell_type": "code",
      "execution_count": null,
      "metadata": {
        "colab": {
          "base_uri": "https://localhost:8080/",
          "height": 72
        },
        "id": "q9KHyDdnQf3K",
        "outputId": "ecfd4ded-cfe9-466e-d64e-a8e2cad306e9"
      },
      "outputs": [
        {
          "output_type": "display_data",
          "data": {
            "text/plain": [
              "<Figure size 1500x800 with 1 Axes>"
            ],
            "image/png": "[encoded data removed]"
          },
          "metadata": {}
        },
        {
          "output_type": "stream",
          "name": "stdout",
          "text": [
            "Max drawdown: 17.4 %\n"
          ]
        }
      ],
      "source": [
        "# Adaptar el tamaño de la figura\n",
        "plt.figure(figsize=(15,8))\n",
        "\n",
        "# Representar el drawdown\n",
        "plt.fill_between(drawdown.index, drawdown*100, 0,\n",
        "                 drawdown, color=\"#CE5757\", alpha=0.65)\n",
        "\n",
        "# Añadimos el título\n",
        "plt.title(\"Drawdown\")\n",
        "\n",
        "# Etiqueta del eje de la y\n",
        "plt.ylabel(\"Drawdown en %\")\n",
        "\n",
        "plt.show()\n",
        "\n",
        "# Cálculo del drawdown máximo\n",
        "max_drawdown = -np.min(drawdown)*100\n",
        "print(f\"Max drawdown: {'%.1f' % max_drawdown} %\")"
      ]
    },
    {
      "cell_type": "markdown",
      "metadata": {
        "id": "r6f8wcclTabS"
      },
      "source": [
        "##Función de Backtesting"
      ]
    },
    {
      "cell_type": "code",
      "execution_count": null,
      "metadata": {
        "id": "yVrNBgKATew4"
      },
      "outputs": [],
      "source": [
        "def BackTest(serie, yahoo_ticker, annualiazed_scalar=252):\n",
        "\n",
        "  # Importar el benchmark\n",
        "  import yfinance as yf\n",
        "  close_price = yf.download(yahoo_ticker)[\"Close\"]\n",
        "  market = close_price.pct_change(1)\n",
        "  \n",
        "  # Cambiar el nombre\n",
        "  market.name = \"Market\"\n",
        "\n",
        "  # Concatenar los retornos y el mercado\n",
        "  val = pd.concat((serie,market), axis=1).dropna()\n",
        "  # Calcular el drawdown\n",
        "  drawdown = drawdown_function(serie)*100\n",
        "  \n",
        "  # Calcular el max drawdown\n",
        "  max_drawdown = -np.min(drawdown)\n",
        "\n",
        "  # Put a subplots\n",
        "  fig, (cum, dra) = plt.subplots(1,2, figsize=(20,6))\n",
        "  \n",
        "  # Put a Suptitle\n",
        "  fig.suptitle(\"Backtesting\", size=20)\n",
        "\n",
        "  # Returns cumsum chart\n",
        "  cum.plot(serie.cumsum()*100, color=\"#39B3C7\")\n",
        "\n",
        "  # Market cumsum chart\n",
        "  cum.plot(val[\"Market\"].cumsum()*100, color=\"#B85A0F\")\n",
        "\n",
        "  # Put a legend\n",
        "  cum.legend([\"Model\", \"Market\"])\n",
        "  \n",
        "  # Set individual title\n",
        "  cum.set_title(\"Cumulative Return\", size=13)\n",
        "\n",
        "  cum.set_ylabel(\"Cumulative Return %\", size=11)\n",
        "\n",
        "  # Put the drawdown\n",
        "  dra.fill_between(drawdown.index,0,drawdown, color=\"#C73954\", alpha=0.65)\n",
        "\n",
        "  # Set individual title\n",
        "  dra.set_title(\"Drawdown\", size=13)\n",
        "\n",
        "  dra.set_ylabel(\"drawdown en %\", size=11)\n",
        "\n",
        "  # Plot the graph\n",
        "  plt.show()\n",
        "  \n",
        "  # Calcular el índice sortino\n",
        "  sortino = np.sqrt(annualiazed_scalar) * serie.mean()/serie.loc[serie<0].std()\n",
        "\n",
        "  # Calcular el índice  beta\n",
        "  beta = abs(np.cov(val[[\"strategy\", \"Market\"]].values,rowvar=False)[0][1] / np.var(val[\"Market\"].values))\n",
        "\n",
        "  # Calcular el índice  alpha\n",
        "  alpha = annualiazed_scalar * (serie.mean() - beta*serie.mean())\n",
        "\n",
        "  # Imprimir los estadísticos\n",
        "  print(f\"Sortino: {np.round(sortino,3)}\")\n",
        "  print(f\"Beta: {np.round(beta,3)}\")\n",
        "  print(f\"Alpha: {np.round(alpha*100,3)} %\")\n",
        "  print(f\"MaxDrawdown: {np.round(max_drawdown,3)} %\")\n",
        "\n",
        "    #Graph\n",
        "  plt.figure(figsize=(15,8))\n",
        "\n",
        "  ax1 = plt.subplot(111)\n",
        "  ax1.plot(serie.cumsum(axis = 0)*100)\n",
        "\n",
        "  plt.ylabel(\"Return\")\n",
        "  plt.xlabel(\"Time\")\n",
        "\n",
        "  plt.axhline(0, color=\"red\")\n",
        "\n",
        "  ax2 = ax1.twinx();\n",
        "  ax2.plot(df[['close']].iloc[split_val:], color = \"orange\", alpha = 0.3)\n",
        "\n",
        "  plt.ylabel(f\"{yahoo_ticker} price\")\n",
        "\n",
        "  plt.title(f\"Model Returns testing data & {yahoo_ticker} price (orange)\")\n",
        "  plt.show()"
      ]
    },
    {
      "cell_type": "markdown",
      "metadata": {
        "id": "sj55Q76i9w-e"
      },
      "source": [
        "#Final Backtesting"
      ]
    },
    {
      "cell_type": "code",
      "execution_count": null,
      "metadata": {
        "colab": {
          "base_uri": "https://localhost:8080/",
          "height": 1000
        },
        "id": "vq5QLMP_VYGB",
        "outputId": "74f99d92-13b1-4347-b9fc-58c6f846e062"
      },
      "outputs": [
        {
          "output_type": "stream",
          "name": "stdout",
          "text": [
            "\r[*********************100%***********************]  1 of 1 completed\n"
          ]
        },
        {
          "output_type": "display_data",
          "data": {
            "text/plain": [
              "<Figure size 2000x600 with 2 Axes>"
            ],
            "image/png": "[encoded data removed]"
          },
          "metadata": {}
        },
        {
          "output_type": "stream",
          "name": "stdout",
          "text": [
            "Sortino: 2.446\n",
            "Beta: 0.372\n",
            "Alpha: 21.554 %\n",
            "MaxDrawdown: 17.405 %\n"
          ]
        },
        {
          "output_type": "display_data",
          "data": {
            "text/plain": [
              "<Figure size 1500x800 with 2 Axes>"
            ],
            "image/png": "[encoded data removed]"
          },
          "metadata": {}
        }
      ],
      "source": [
        "BackTest(best_pre[\"strategy\"], \"^GSPC\")"
      ]
    }
  ],
  "metadata": {
    "colab": {
      "collapsed_sections": [
        "7WAw5uZb7dae",
        "ryC_6C5oHPU8",
        "r6f8wcclTabS"
      ],
      "provenance": [],
      "gpuType": "T4",
      "mount_file_id": "1YfAFbnvdrsPn3Q1S4pE0cJLxe3W6FVhv",
      "authorship_tag": "ABX9TyORBIkzk2KUtS0te5pfERrP",
      "include_colab_link": true
    },
    "gpuClass": "standard",
    "kernelspec": {
      "display_name": "Python 3",
      "name": "python3"
    },
    "language_info": {
      "name": "python"
    },
    "accelerator": "GPU"
  },
  "nbformat": 4,
  "nbformat_minor": 0
}